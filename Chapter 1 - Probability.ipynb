{
 "cells": [
  {
   "cell_type": "markdown",
   "id": "db10442e-596b-4290-871e-75e4c3968a9f",
   "metadata": {},
   "source": [
    "# Probability"
   ]
  },
  {
   "cell_type": "code",
   "execution_count": 1,
   "id": "dbfc5727-359e-4bdd-945b-f21abb42f038",
   "metadata": {},
   "outputs": [],
   "source": [
    "import numpy as np\n",
    "import pandas as pd\n",
    "import matplotlib.pyplot as plt\n",
    "np.random.seed(999)"
   ]
  },
  {
   "cell_type": "markdown",
   "id": "87ae7da3-0499-48e4-bac3-4b2634dbd6de",
   "metadata": {},
   "source": [
    "> The term **probability** refers to the study of randomness and uncertainty. In any\n",
    "situation in which one of a number of possible outcomes may occur, the discipline of probability provides methods for quantifying the chances, or likelihoods, associated with the various outcomes — Jay L. Devore (2012)."
   ]
  },
  {
   "cell_type": "markdown",
   "id": "c0577b4c-8be6-4f06-abe1-1c5b9e84bc97",
   "metadata": {},
   "source": [
    "<div style=\"widht:100%; height:20px; background-color:teal;\"></div>"
   ]
  },
  {
   "cell_type": "markdown",
   "id": "c9a81353-2b4f-4310-be2d-37b76df9e9cf",
   "metadata": {},
   "source": [
    "## Sample Spaces and Events\n",
    "\n",
    "An **experiment** is any activity or process whose outcome is subject to uncertainty. It is a procedure that can be infinitely repeated and *has a well-defined set of possible outcomes*."
   ]
  },
  {
   "cell_type": "markdown",
   "id": "1050a4f4-8655-4cad-aeae-2655598abadc",
   "metadata": {},
   "source": [
    "---\n",
    "<h3 style=\"color: green; font-size: 16pt;\">The Sample Space of an Experiment</h3>\n",
    "\n",
    "> We called the *set of all possible outcomes* of an experiment the **sample space** of the experiment, denoted by $S$."
   ]
  },
  {
   "cell_type": "markdown",
   "id": "b8b73377-e6f0-4ee7-8eb8-6cd72f8da85e",
   "metadata": {},
   "source": [
    "For examples:\n",
    "\n",
    "- One of the simplest experiment is _tossing a coin_. The possible outcomes of this experiment is _\"the coin comes up heads\"_ and _\"the coin comes up tails\"_. We may write the sample space of tossing a coin as $$S = \\{H,T\\}$$ where $H$ represents _\"heads\"_ and $T$ represents _\"tails\"_.\n",
    "\n",
    "- Consider the experiment of _tossing a six-faced die_. If we are interested in the number that shows on the top face, the sample space is $S=\\{1,2,3,4,5,6\\}$. If we interested only in whether the number on the top face is odd or even, then the sample space is $S=\\{\\text{odd},\\text{even}\\}$.\n",
    "\n",
    "- Consider an experiment consists of _examining a single fuse to see whether it is defective_. The sample space for this experiment can be abbreviated as $S=\\{N,D\\}$ where $N$ represents _\"not defective\"_ and $D$ represents _\"defective\"_. If we instead _examine three fuses in sequence_ and note the result of each examination, then an outcome for the entire experiment is any sequence of $N$'s and $D$'s of length 3, so $$S=\\{NNN, NND, NDN, DNN, NDD, DND, DDN, DDD\\}.$$\n",
    "\n",
    "- An experiment consists of flipping a coin and then flipping it a second time if a head occurs on the first flip. If a tail occurs on the first flip, then a die is tossed once. The sample space of this experiment if we interested in the side of the coin that comes up and the top face of the die is $$S=\\{HH, HT, T1, T2, T3, T4, T5, T6\\}.$$"
   ]
  },
  {
   "cell_type": "markdown",
   "id": "e1a9b197-916d-40e0-ae30-c184bd2c72c1",
   "metadata": {},
   "source": [
    "We called each outcome in a sample space a **sample point**. For example, when tossing a coin, the sample space is $S=\\{H,T\\}$ so the outcomes $H$ and $T$ are samples points. \n",
    "\n",
    "We will commonly interested in size of sample space—*the number of sample points in a sample space*, abbreviated $n(S)$. From the examples shown above, we can simply just count the sample point.\n",
    "\n",
    "- $S=\\{H,T\\} \\longrightarrow n(S)=2.$\n",
    "- $S=\\{1,2,3,4,5,6\\} \\longrightarrow n(S)=6.$\n",
    "- $S$ being a sample space of examining three fuses in sequence $\\longrightarrow n(S)=8.$"
   ]
  },
  {
   "cell_type": "markdown",
   "id": "9906eff6-17dd-469a-b399-2e477040df3a",
   "metadata": {},
   "source": [
    "---\n",
    "<h3 style=\"color: green; font-size: 16pt;\">Events</h3>\n",
    "\n",
    "> An **event** is *any collection of outcomes contained in the sample space (any subset of sample space)*. An event is **simple** if it consists of exactly one outcome and **compound** if it consists of more than one outcome.\n",
    "> $$\\text{Event} \\subseteq S.$$"
   ]
  },
  {
   "cell_type": "markdown",
   "id": "6b1f4c51-a497-4c30-9ec6-b4d2ef9bd380",
   "metadata": {},
   "source": [
    "When an experiment is performed, a particular event $E$ is said to occur if the resulting outcome is contained in $E$. In general, exactly one simple event will occur, but many compound events will occur simultaneously."
   ]
  },
  {
   "cell_type": "markdown",
   "id": "19711d44-4b26-4b5f-9948-73fad3d185bc",
   "metadata": {},
   "source": [
    "For example, consider the experiment of tossing three coins in sequence. So the sample space of this experiment is $S=\\{HHH, HHT, HTH, THH, HTT, THT, TTH, TTT\\}$. Thus there are eight simple events, each consists of only a single sample point of the sample space, among which are $E_1=\\{HHH\\}$ and $E_2=\\{HTT\\}$. Some compound events include:\n",
    "\n",
    "- $A = \\{HHT, HTH, THH\\} = $ the event where exactly one coin comes up tails.\n",
    "- $B = \\{HHH, TTT\\} = $ the event that all three coins come up the same side.\n",
    "- $C = \\{HHT, HTH, THH, HTT, THT, TTH, TTT\\} = $ the event that at least one coin comes up heads."
   ]
  },
  {
   "cell_type": "markdown",
   "id": "8c6023f9-ceda-402b-92fb-cdaadcee2fc1",
   "metadata": {},
   "source": [
    "---\n",
    "<h3 style=\"color: green; font-size: 16pt;\">Some Relations from Set Theory</h3>\n",
    "\n",
    "**An event is just a set**, so any operations that can be done on sets can also be done on events to create another event:\n",
    "\n",
    "1. The **complement** of an event $E$, denoted by $E'$ or $\\bar{E}$ or $\\neg E$, is the event that *$E$ does not occur*.\n",
    "2. The **union** of two events $A$ and $B$, denoted by $A \\cup B$ and read *\"A or B\"*, is the event where *either $A$ or $B$ or both occur*.\n",
    "3. The **intersection** of two events $A$ and $B$, denoted by $A \\cap B$ and read *\"A and B\"*, is the event where *both $A$ and $B$ occur*.\n",
    "4. If $A \\cap B = \\emptyset$ where $\\emptyset$ is the *null event* (the event consisting of no outcomes), then $A$ and $B$ are said to be **mutually exclusive** or **disjoint** events. That is they can not occur simultaneously."
   ]
  },
  {
   "cell_type": "markdown",
   "id": "25d7b1d2-2238-4935-879c-116d46a6f82c",
   "metadata": {},
   "source": [
    "<table style=\"width: 80%; margin: auto;\">\n",
    "    <tr>\n",
    "        <td style=\"width: 25%;\"> \n",
    "    <img src=\"https://newisreal1.github.io/Statistics-Notebooks/img/set_complement.png\" alt=\"complement\" style=\"width: 100%;\"/>\n",
    "        </td>\n",
    "        <td style=\"width: 25%;\"> \n",
    "    <img src=\"https://newisreal1.github.io/Statistics-Notebooks/img/set_union.png\" alt=\"union\" style=\"width: 100%;\"/> \n",
    "        </td>\n",
    "        <td style=\"width: 25%;\"> \n",
    "    <img src=\"https://newisreal1.github.io/Statistics-Notebooks/img/set_intersection.png\" alt=\"intersection\" style=\"width: 100%;\"/>\n",
    "        </td>\n",
    "        <td style=\"width: 25%;\"> \n",
    "    <img src=\"https://newisreal1.github.io/Statistics-Notebooks/img/set_disjoint.png\" alt=\"mutually exclusive\" style=\"width: 100%;\"/>\n",
    "        </td>\n",
    "    </tr>\n",
    "    <tr>\n",
    "        <td style=\"text-align: center;\">Complement (A')</td>\n",
    "        <td style=\"text-align: center;\">Union</td>\n",
    "        <td style=\"text-align: center;\">Intersection</td>\n",
    "        <td style=\"text-align: center;\">Mutually Exclusive</td>\n",
    "    </tr>\n",
    "</table>"
   ]
  },
  {
   "cell_type": "markdown",
   "id": "a3f2dc70-9355-4d35-940e-bca54f6edd18",
   "metadata": {},
   "source": [
    "<div style=\"widht:100%; height:20px; background-color:teal;\"></div>"
   ]
  },
  {
   "cell_type": "markdown",
   "id": "1084268b-2dba-47fd-b2b0-8b329bbac9f0",
   "metadata": {},
   "source": [
    "## Probability Interpretations\n",
    "\n",
    "We will revisit the concept of **relative frequency** mentioned in Chapter 1.\n",
    "\n",
    "$$\n",
    "\\text{relative frequency of a value } x \\ = \\ \\frac{\\text{number of times } x \\text{ occurs}}{\\text{total number of observation in the data set}}\n",
    "$$"
   ]
  },
  {
   "cell_type": "markdown",
   "id": "3af45f42-f1cd-411d-afa5-cd742e6c40c0",
   "metadata": {},
   "source": [
    "Now we define the relative frequency in $n$ repeated random experiments of an event $A$ as\n",
    "\n",
    "$$\n",
    "f_A = \\frac{n_A}{n}\n",
    "$$\n",
    "\n",
    "where $n_A$ is the number of occurrences of $A$."
   ]
  },
  {
   "cell_type": "markdown",
   "id": "41f6b39d-ab56-428b-827e-b9318ca03f6d",
   "metadata": {},
   "source": [
    "For $n$ repeated random experiments, if $n$ tends to infinity (or get larger and larger), then $f_A$ will converge to some constant and we will call that constant the **probability** of $A$, denoted by $P(A)$:\n",
    "\n",
    "$$\n",
    "P(A) = \\lim_{n\\to\\infty}f_A = \\lim_{n\\to\\infty}\\frac{n_A}{n}.\n",
    "$$"
   ]
  },
  {
   "cell_type": "markdown",
   "id": "4e4b4552-36ab-4b90-838b-17cd4b7c9ec8",
   "metadata": {},
   "source": [
    "For example, consider a (six-faced) die tossing experiment and let $A$ be the event that the die comes up six. The result from tossing the die 10 times are as follows:"
   ]
  },
  {
   "cell_type": "code",
   "execution_count": 2,
   "id": "2138401e-c815-4f65-899b-acc2ad5b4b0f",
   "metadata": {
    "jupyter": {
     "source_hidden": true
    }
   },
   "outputs": [],
   "source": [
    "tossing_result = np.random.randint(1,7,size=10)\n",
    "tossing_result_1000 = np.concat((tossing_result, np.random.randint(1,7,size=990)))"
   ]
  },
  {
   "cell_type": "code",
   "execution_count": 3,
   "id": "fe18bfdc-f3a6-4c6c-9749-90a810e687d6",
   "metadata": {
    "jupyter": {
     "source_hidden": true
    }
   },
   "outputs": [
    {
     "data": {
      "text/html": [
       "<div>\n",
       "<style scoped>\n",
       "    .dataframe tbody tr th:only-of-type {\n",
       "        vertical-align: middle;\n",
       "    }\n",
       "\n",
       "    .dataframe tbody tr th {\n",
       "        vertical-align: top;\n",
       "    }\n",
       "\n",
       "    .dataframe thead th {\n",
       "        text-align: right;\n",
       "    }\n",
       "</style>\n",
       "<table border=\"1\" class=\"dataframe\">\n",
       "  <thead>\n",
       "    <tr style=\"text-align: right;\">\n",
       "      <th></th>\n",
       "      <th>Toss sesult</th>\n",
       "      <th>Relative frequency of A</th>\n",
       "    </tr>\n",
       "    <tr>\n",
       "      <th>Toss #</th>\n",
       "      <th></th>\n",
       "      <th></th>\n",
       "    </tr>\n",
       "  </thead>\n",
       "  <tbody>\n",
       "    <tr>\n",
       "      <th>1</th>\n",
       "      <td>1</td>\n",
       "      <td>0.000000</td>\n",
       "    </tr>\n",
       "    <tr>\n",
       "      <th>2</th>\n",
       "      <td>5</td>\n",
       "      <td>0.000000</td>\n",
       "    </tr>\n",
       "    <tr>\n",
       "      <th>3</th>\n",
       "      <td>6</td>\n",
       "      <td>0.333333</td>\n",
       "    </tr>\n",
       "    <tr>\n",
       "      <th>4</th>\n",
       "      <td>2</td>\n",
       "      <td>0.250000</td>\n",
       "    </tr>\n",
       "    <tr>\n",
       "      <th>5</th>\n",
       "      <td>1</td>\n",
       "      <td>0.200000</td>\n",
       "    </tr>\n",
       "    <tr>\n",
       "      <th>6</th>\n",
       "      <td>2</td>\n",
       "      <td>0.166667</td>\n",
       "    </tr>\n",
       "    <tr>\n",
       "      <th>7</th>\n",
       "      <td>4</td>\n",
       "      <td>0.142857</td>\n",
       "    </tr>\n",
       "    <tr>\n",
       "      <th>8</th>\n",
       "      <td>2</td>\n",
       "      <td>0.125000</td>\n",
       "    </tr>\n",
       "    <tr>\n",
       "      <th>9</th>\n",
       "      <td>4</td>\n",
       "      <td>0.111111</td>\n",
       "    </tr>\n",
       "    <tr>\n",
       "      <th>10</th>\n",
       "      <td>1</td>\n",
       "      <td>0.100000</td>\n",
       "    </tr>\n",
       "  </tbody>\n",
       "</table>\n",
       "</div>"
      ],
      "text/plain": [
       "        Toss sesult  Relative frequency of A\n",
       "Toss #                                      \n",
       "1                 1                 0.000000\n",
       "2                 5                 0.000000\n",
       "3                 6                 0.333333\n",
       "4                 2                 0.250000\n",
       "5                 1                 0.200000\n",
       "6                 2                 0.166667\n",
       "7                 4                 0.142857\n",
       "8                 2                 0.125000\n",
       "9                 4                 0.111111\n",
       "10                1                 0.100000"
      ]
     },
     "execution_count": 3,
     "metadata": {},
     "output_type": "execute_result"
    }
   ],
   "source": [
    "d = {\n",
    "    'Toss #': np.arange(1,11), \n",
    "    'Toss sesult': tossing_result,\n",
    "    'Relative frequency of A': (tossing_result == 6).cumsum() / np.arange(1,11)\n",
    "}\n",
    "toss_10 = pd.DataFrame(data=d).set_index('Toss #')\n",
    "toss_10"
   ]
  },
  {
   "cell_type": "markdown",
   "id": "c08e1afe-9143-4629-9f47-0ffa9a7394e6",
   "metadata": {},
   "source": [
    "We can see that the relative frequency fluctuates over the course of few first tosses. But as the number of tosses increase, the figure shown below show that the relative frequency stabilizes and converges to a constant of about $1/6$ which is indeed the probability of tossing a six."
   ]
  },
  {
   "cell_type": "code",
   "execution_count": 4,
   "id": "3e8a090f-774d-4f98-a2ef-68332ffa7d3d",
   "metadata": {
    "jupyter": {
     "source_hidden": true
    }
   },
   "outputs": [
    {
     "data": {
      "image/png": "[encoded data removed]",
      "text/plain": [
       "<Figure size 1200x400 with 1 Axes>"
      ]
     },
     "metadata": {},
     "output_type": "display_data"
    }
   ],
   "source": [
    "fig, ax = plt.subplots(figsize=(12,4))\n",
    "\n",
    "ax.plot([-10,1010], [1/6, 1/6], linestyle='--', color='black')\n",
    "ax.plot(np.arange(1,1001), (tossing_result_1000 == 6).cumsum() / np.arange(1,1001), color='deepskyblue')\n",
    "\n",
    "ax.set_axisbelow(True); ax.grid(True)\n",
    "ax.set_xticks(range(0, 1100, 100))\n",
    "ax.set_xlim(-10,1010)\n",
    "ax.set_title(\"Relative Frequency Over the Course of 1,000 Tosses\")\n",
    "ax.set_xlabel(\"# of tosses\")\n",
    "ax.set_ylabel(\"Relative frequency tossing six\");"
   ]
  },
  {
   "cell_type": "markdown",
   "id": "9c73b5f5-b62b-4939-aafd-38fc4088d3f4",
   "metadata": {},
   "source": [
    "<div style=\"widht:100%; height:20px; background-color:teal;\"></div>"
   ]
  },
  {
   "cell_type": "markdown",
   "id": "5f84cb45-a49b-4bbb-9cd9-13e92e2b2e80",
   "metadata": {},
   "source": [
    "## Probability Axioms\n",
    "\n",
    "For any event $A$, *the objective of probability is to assign to each event $A$ a number $P(A)$, called the probability of the event A, which will give a precise measure of the chance that A will occur.* To ensure that the probability assignments will be consistent with our intuitive notions of probability, all assignments should satisfy the following axioms of probability:"
   ]
  },
  {
   "cell_type": "markdown",
   "id": "33eca0e1-3744-4316-aaca-6824ffcf17c2",
   "metadata": {},
   "source": [
    "<div style=\"color: green; font-size: 14pt; text-decoration: bold\"><b>First Axiom: Non-negativity</b></div>\n",
    "\n",
    "The probability of an any event $E$ is a non-negative real number:\n",
    "\n",
    "$$ \n",
    "P(E) \\ge 0.\n",
    "$$"
   ]
  },
  {
   "cell_type": "markdown",
   "id": "28e37766-88e2-4e9a-b6b2-bc0de3947b64",
   "metadata": {},
   "source": [
    "<div style=\"color: green; font-size: 14pt; text-decoration: bold\"><b>Second Axiom: Normalization</b></div>\n",
    "\n",
    "*The assumption of unit measure*: The probability of the sample space is $1$. That is, the probability that at least one of the simple events (singleton subsets) of the sample space will occur is $1$:\n",
    "\n",
    "$$ \n",
    "P(S) = 1.\n",
    "$$"
   ]
  },
  {
   "cell_type": "markdown",
   "id": "4c4c9a72-a9ad-480d-8b79-ce9527adb775",
   "metadata": {},
   "source": [
    "<div style=\"color: green; font-size: 14pt; text-decoration: bold\"><b>Third Axiom: Additivity</b></div>\n",
    "\n",
    "If $A_1, A_2, A_3, \\ldots$ is an infinite collection of disjoint (mutually exclusive) events, then\n",
    "\n",
    "$$ \n",
    "\\begin{align*}\n",
    "P(A_1 \\cup A_2 \\cup A_3 \\cup \\cdots) &= P(A_1) + P(A_2) + P(A_3) + \\cdots \\\\ \\\\\n",
    "P\\left(\\bigcup_{i=1}^{\\infty}A_i\\right) &= \\sum_{i = 1}^{\\infty}P(A_i).\n",
    "\\end{align*}\n",
    "$$"
   ]
  },
  {
   "cell_type": "markdown",
   "id": "8f458c6f-39ad-4426-9310-624c9991dec6",
   "metadata": {},
   "source": [
    "Notice that these axioms were inspired by and reflect the behavior of relative frequencies (surely, since we defined probability from relative frequency). One property of probability we can derived from these axioms is that for any event $E$, $P(E) \\le 1$ since the second axiom states that $P(S) = 1$ so for any particular event $E$ that is a subset of the sample space $S$, the probability of that event has to be less than that of the sample space."
   ]
  },
  {
   "cell_type": "markdown",
   "id": "5a71d003-9382-4481-9be0-e769daef0fc1",
   "metadata": {},
   "source": [
    "<div style=\"widht:100%; height:20px; background-color:teal;\"></div>"
   ]
  },
  {
   "cell_type": "markdown",
   "id": "bdca0f9e-bc5d-4b0a-995d-4b4255ea96e2",
   "metadata": {},
   "source": [
    "## Rules and Properties of Probability\n",
    "\n",
    "In this section, we will derived some of the rules of probability from the three axioms of probability."
   ]
  },
  {
   "cell_type": "markdown",
   "id": "e1557292-bd74-4aa9-adbc-64b49eb15af8",
   "metadata": {},
   "source": [
    "---\n",
    "<h3 style=\"color: green; font-size: 16pt;\">Probability of Null Event & Additive Rule</h3>\n",
    "\n",
    "Let $\\emptyset$ denoted the **null event** which is a empty set containing no outcomes. Since null events are disjoint ($\\because\\emptyset \\cap \\emptyset = \\emptyset$), so the third axiom gives\n",
    "\n",
    "$$\n",
    "P\\left(\\bigcup_{i=1}^\\infty \\emptyset\\right) = P(\\emptyset) = \\sum_{i=1}^\\infty P(\\emptyset).\n",
    "$$\n",
    "\n",
    "This can happen only if $P(\\emptyset) = 0$."
   ]
  },
  {
   "cell_type": "markdown",
   "id": "a316bea2-7fbf-47db-91ad-c4fd17db2b81",
   "metadata": {},
   "source": [
    "The fact that the probability of null event is zero further implies that the third axiom is also valid for a finite collection of disjoint events: Consider a collecting of disjoint events $A_1, A_2, \\ldots, A_k, A_{k+1}, A_{k+2}, \\ldots$ where $A_{k+1}, A_{k+2}, \\ldots$ are all null events, so\n",
    "\n",
    "$$\n",
    "\\begin{align*}\n",
    "P\\left(\\bigcup_{i=1}^{\\infty}A_i\\right) &= P\\left(\\bigcup_{i=1}^{k}A_i\\right) + P\\left(\\bigcup_{i=k+1}^{\\infty}A_i\\right) \\\\ \\\\\n",
    "&= P\\left(\\bigcup_{i=1}^{k}A_i\\right) + P(\\emptyset) \\ =\\ P\\left(\\bigcup_{i=1}^{k}A_i\\right) \\\\ \\\\\n",
    "&= \\sum_{i=1}^{k}P(A_i).\n",
    "\\end{align*}\n",
    "$$\n",
    "\n",
    "Therefore, for $A_1, A_2, \\ldots, A_k$ being a collection of **disjoint (mutually exclusive)** events, then\n",
    "\n",
    "$$ \n",
    "\\begin{align*}\n",
    "P(A_1 \\cup A_2 \\cup \\cdots \\cup A_k) &= P(A_1) + P(A_2) \\cdots  + P(A_k)\\\\ \\\\\n",
    "P\\left(\\bigcup_{i=1}^{k}A_i\\right) &= \\sum_{i = 1}^{k}P(A_i).\n",
    "\\end{align*}\n",
    "$$\n",
    "\n",
    "This property is called the **additive rule** for finite collection of disjoint events.\n",
    "\n",
    "For a collection of events that are not mutually exclusive, we can instead use the *principle of inclusion-exclusion* from set theory to determined the probability of unions, for instances:\n",
    "\n",
    "$$\n",
    "P(A \\cup B) = P(A) + P(B) - P(A \\cap B)\n",
    "$$\n",
    "\n",
    "for any events $A$ and $B$."
   ]
  },
  {
   "cell_type": "markdown",
   "id": "5f7c9ec1-fb6c-4bd8-a21c-11b50232132a",
   "metadata": {},
   "source": [
    "---\n",
    "<h3 style=\"color: green; font-size: 16pt;\">Complement Rule</h3>\n",
    "\n",
    "Consider two events $A$ and $A'$. By definition\n",
    "\n",
    "1. $A \\cap A' = \\emptyset$, so they are mutually exclusive\n",
    "2. $A \\cup A' = S$\n",
    "\n",
    "So we can apply the addition rule for disjoint event and get\n",
    "\n",
    "$$\n",
    "P(A \\cup A') = P(A) + P(A') = P(S).\n",
    "$$\n",
    "\n",
    "And now we can apply the second axiom to get the **complement rule**: For any event $A$,\n",
    "\n",
    "$$\n",
    "P(A) + P(A') = 1 \\quad \\longleftrightarrow \\quad P(A) = 1 - P(A').\n",
    "$$"
   ]
  },
  {
   "cell_type": "markdown",
   "id": "7a85e0fc-1a5b-4b86-9a77-c47bd31ffa55",
   "metadata": {},
   "source": [
    "<span style=\"color: green;\"><b><u>Example</u></b></span> Consider a system of five electrical components connected in series such that if one (or more) component fails, the entire system disconnects and ultimately fails. Let $A$ represent the event that the system fails, i.e., \"at least one component fails.\" Denote a component that fails by $F$ and one that doesn't fail by $S$ (for success). The event $A$ can be explicitly written as:\n",
    "\n",
    "$$\n",
    "A = \\{FSSSS, SFSSS, SSFSS, \\ldots, FFFFF\\}.\n",
    "$$\n",
    "\n",
    "There are, in fact, 31 outcomes in $A$, so calculating the probability of $A$ directly would be tedious. However, the complement event $A'$, where the system does not fail, contains only one outcome: $\\{SSSSS\\}$. We can use the complement rule to simplify the calculation. \n",
    "\n",
    "Suppose that each component has a 10% chance of failure (and a 90% chance of success), and failures are independent across components. Then:\n",
    "\n",
    "$$\n",
    "\\begin{align*}\n",
    "P(A) &= 1 - P(A') = 1 - P(\\{SSSSS\\}) \\\\\n",
    "&= 1 - (0.9)^5 \\\\\n",
    "&= 1 - 0.59049 \\\\\n",
    "&\\approx 0.41 \\text{ or } 41\\%.\n",
    "\\end{align*}\n",
    "$$\n",
    "\n",
    "We will explore later why $P(\\{SSSSS\\}) = 0.9^5$ when we discuss the *multiplication rule*."
   ]
  },
  {
   "cell_type": "markdown",
   "id": "450b984b-886a-4293-9ee9-b7cd0ea2dfb3",
   "metadata": {},
   "source": [
    "---\n",
    "<h3 style=\"color: green; font-size: 16pt;\">Equally Likely Outcomes</h3>\n",
    "\n",
    "Consider an experiment with $n(S) = N$ different outcomes with all outcomes have **equal chance to occur**. These include many simple experiment such as tossing a fair coin or a fair die, or drawing a card from a standard deck. Let $S = \\{e_1, e_2, \\ldots, e_N\\}$ be the sample space of experiment with equally likely outcomes and $E_i$ be simple event where $E_i = \\{e_i\\}$ for $i=1,2,\\ldots,N$, from the axioms, we can calculate:\n",
    "\n",
    "$$\n",
    "P(S) = 1 = P(E_1) + P(E_2) + \\cdots + P(E_N).\n",
    "$$\n",
    "\n",
    "since all outcomes are equally likely to happen, that is $P(E_1)=P(E_2)=\\cdots=P(E_N)$, so\n",
    "\n",
    "$$\n",
    "\\begin{align*}\n",
    "P(E_1) + P(E_2) + \\cdots + P(E_N) = N \\cdot P(E_i) &= 1 \\\\\n",
    "P(E_i) &= \\frac{1}{N} = \\frac{1}{n(S)}.\n",
    "\\end{align*}\n",
    "$$\n",
    "\n",
    "That is the probability that each outcome will occur is $1/n(S)$ where $n(S)$ is the size of the sample space. "
   ]
  },
  {
   "cell_type": "markdown",
   "id": "fb561002-9000-456c-a792-de4784e0c6f6",
   "metadata": {},
   "source": [
    "Now consider an event $E$ of equally likely experiment, with $n(E)$ denoting the number of sample points contained in $E$. Then\n",
    "\n",
    "$$\n",
    "P(E) = \\sum_{E_i \\in E}P(E_i) = \\sum_{E_i \\in E}\\frac{1}{n(S)} = \\frac{n(E)}{n(S)}.\n",
    "$$"
   ]
  },
  {
   "cell_type": "markdown",
   "id": "3fa36ebb-d6f9-4477-bee4-2006b93aa775",
   "metadata": {},
   "source": [
    "<span style=\"color: green;\"><b><u>Example</u></b></span> Suppose you are rolling a 12-sided fair die and want to determine the probability of rolling an even number greater than 6. Let $A$ represent the event of rolling an even number above 6. In this case:\n",
    "\n",
    "$$\n",
    "A = \\{8,10,12\\}.\n",
    "$$\n",
    "\n",
    "Since the die is fair, all outcomes are equally likely. The total number of outcomes in the sample space is $n(S)=12$ and the number of favorable outcomes is $n(A)=3$. The probability of $A$ is:\n",
    "\n",
    "$$\n",
    "P(A) = \\frac{n(A)}{n(S)} = \\frac{3}{12}.\n",
    "$$\n",
    "\n",
    "Thus, there is a 25% chance of rolling an even number above 6."
   ]
  },
  {
   "cell_type": "markdown",
   "id": "5b83afbe-24d7-4eff-b132-ecb4bb546e88",
   "metadata": {},
   "source": [
    "<span style=\"color: green;\"><b><u>Example</u></b></span> Suppose that somebody secretly rolls two fair six-sided dice, and we wish to compute the probability that the sum of the face-up values $D1 + D2$ is equal to some integer $s$. The sample space of 36 combinations of rolled values of the two dice is shown in the table below:\n",
    "\n",
    "<center><img src=\"https://newisreal1.github.io/Statistics-Notebooks/img/dice_sum_table.png\" alt=\"dice sums\" style=\"width: 30%; margin: auto 0;\"></center>\n",
    "\n",
    "Let $E_s$ be the event that the sum of two dice is equal to $s$. From the table we can count $n(E_s)$ for each integer $s$ in the range 2 to 12 and calculate the probability given that each of the 36 outcomes is equally likely to occur using the formula $P(E_s) = n(E_s)/36$:\n",
    "\n",
    "| $s$      | 2 | 3 | 4 | 5 | 6 | 7 | 8 | 9 | 10 | 11 | 12 | other ints |\n",
    "|----------|:---:|:---:|:---:|:---:|:---:|:---:|:---:|:---:|:----:|:----:|:----:|:----:|\n",
    "| $n(E_s)$ | 1     | 2     | 3     | 4      | 5      | 6      | 5 | 4 | 3  | 2  | 1  | 0 |\n",
    "| $P(E_s)$ | 2.78% | 5.56% | 8.33% | 11.11% | 13.89% | 16.67% | 13.89% | 11.11% | 8.33% | 5.56% | 2.78% | 0% |"
   ]
  },
  {
   "cell_type": "markdown",
   "id": "5a6b3f27-d327-498c-8b9d-b1171a3ac0bf",
   "metadata": {},
   "source": [
    "---\n",
    "<h3 style=\"color: green; font-size: 16pt;\">Independence & Multiplication Rule</h3>\n",
    "\n",
    "**Independence:** The events $A$ and $B$ are called **independent** if and only if *knowing that one occurs doesn't change the probability that the other occurs*.\n",
    "\n",
    "For example, consider tossing a fair coin multiple times. Knowing that the first toss results in heads does not affect the probability that the second toss will be heads or tails. Thus, \"first toss comes up heads\" is independent of \"second toss comes up heads\" and \"second toss comes up tails.\" However, \"second toss comes up heads\" and \"second toss comes up tails\" are not independent of each other, since knowing that the second toss already comes up heads gives information that it's impossible for the second toss to come up tails, and vice versa.\n",
    "\n",
    "**Multiplication rule for independent events:** If $A$ and $B$ are independent, then the probability that both $A$ and $B$ occur is equal to the product of their probabilities:\n",
    "\n",
    "$$\n",
    "P(A \\text{ and } B) \\;=\\; P(A \\cap B) \\;=\\; P(A)P(B).\n",
    "$$"
   ]
  },
  {
   "cell_type": "markdown",
   "id": "1ee8e067-4b57-4b84-8d1b-a264834bb64a",
   "metadata": {},
   "source": [
    "<span style=\"color: green;\"><b><u>Example</u></b></span>\n",
    "Consider the same problem of a system of five electrical components connected in series as in the previous example from the complement rule section. If we want to calculate the probability that the system does not fail, $P(A') = P(\\{SSSSS\\})$, given that $P(S) = 0.9$. Since each component fails or succeeds independently of the others, we can use the multiplication rule for independent events to calculate:\n",
    "\n",
    "$$\n",
    "\\begin{align*}\n",
    "P(A') &= P(S_1 \\cap S_2 \\cap S_3 \\cap S_4 \\cap S_5) \\\\\n",
    "&= P(S_1) \\cdot P(S_2) \\cdot P(S_3) \\cdot P(S_4) \\cdot P(S_5) \\\\\n",
    "&= (0.9)^5 = 0.59049.\n",
    "\\end{align*}\n",
    "$$"
   ]
  },
  {
   "cell_type": "markdown",
   "id": "09ce962c-219f-4225-9fea-8ea24f59af31",
   "metadata": {},
   "source": [
    "<div style=\"widht:100%; height:20px; background-color:teal;\"></div>"
   ]
  },
  {
   "cell_type": "markdown",
   "id": "ea74c097-3733-4e21-a820-c5fdbbc4bfe6",
   "metadata": {},
   "source": [
    "## Conditional Probability"
   ]
  },
  {
   "cell_type": "markdown",
   "id": "2e965f65-5bc7-4858-bf67-acd516ab0824",
   "metadata": {},
   "source": [
    "Sometimes the probabilities of various events **depend on what is known about the experiment at the time we are interested in**. Knowing that something has already happened might affect the probability of other events occurring. As we just discussed in the previous section, we call a set of events *independent* if there is no connection between them, and we can use the multiplication rule for independent events to calculate the probabilities related to them. But when the events are *not independent*, we need to use the concept of **conditional probability**."
   ]
  },
  {
   "cell_type": "markdown",
   "id": "c63f015d-3a59-48f4-a017-634906ce725d",
   "metadata": {},
   "source": [
    "Conditional probability is a measure of the probability of an event occurring, **given that another event is already known to have occurred**. We write \"the conditional probability of A *given* B\" as \n",
    "\n",
    "$$\n",
    "P(A|B).\n",
    "$$\n",
    "\n",
    "For example, suppose we do an analysis on spam emails and found that spam emails have 8% chance to contain the word *\"money\"* which is higher that the chance of the same word occurring in ham emails (emails that are not spams) of 1%. We may write:\n",
    "\n",
    "$$\n",
    "P(\\text{``money\"} \\;|\\; \\text{spam}) = 8\\% \\quad\\text{ and }\\quad P(\\text{``money\"} \\;|\\; \\text{ham}) = 1\\%.\n",
    "$$"
   ]
  },
  {
   "cell_type": "markdown",
   "id": "0c75e491-b9c2-4e40-b175-5f389b48a0e5",
   "metadata": {},
   "source": [
    "The conditional probability $P(A∣B)$ can be understood as the fraction of the probability of $B$ that intersects with $A$. You can think of this as *the sample space narrowing down to $B$*, and we are only interested in the part of $A$ that lies within the new sample space $B$ (i.e., $A∩B$):\n",
    "\n",
    "$$\n",
    "P(A|B) = \\frac{P(A \\cap B)}{P(B)},\\ P(B) > 0.\n",
    "$$"
   ]
  },
  {
   "cell_type": "markdown",
   "id": "f3d3a14e-a9c7-4541-ac7e-4394b0842231",
   "metadata": {},
   "source": [
    "---\n",
    "<h3 style=\"color: green; font-size: 16pt;\">General Multiplication Rule</h3>\n",
    "\n",
    "The formula of conditional probability often get rearranged as:\n",
    "\n",
    "$$\n",
    "P(A \\cap B) = P(A|B) \\cdot P(B)\n",
    "$$\n",
    "\n",
    "This formula is called the **general multiplication rule**, which extents the multiplication rule for two events that are not independent. Notice that in the special case where $A$ and $B$ are independent, knowing that $B$ happened does not affect the probability of $A$, so $P(A|B) = P(A)$ which implies $P(A \\cap B) = P(B)P(A)$ which is the multiplication rule mentioned earlier.\n",
    "\n",
    "Moreover, we can define independent events using conditional probability:\n",
    "\n",
    "> Events $A$ and $B$ are independent if and only if $P(A|B)=P(A)$, so $P(A \\cap B) = P(A)P(B)$.\n",
    "\n",
    "To extend the multiplication rule to more than two events, consider a set of events $A_1, A_2, A_3, \\ldots, A_k$. We may write the intersection of every events in this set as\n",
    "\n",
    "$$\n",
    "\\begin{align*}\n",
    "A_1 \\cap A_2 \\cap A_3 \\cap \\cdots \\cap A_k &= (A_1 \\cap A_2) \\cap A_3 \\cap \\cdots \\cap A_k \\\\\n",
    "&= \\big( (A_1 \\cap A_2) \\cap A_3 \\big) \\cap \\cdots \\cap A_k \\\\\n",
    "&\\quad\\!\\!\\! \\vdots \\\\\n",
    "&= \\Big( \\big( (A_1 \\cap A_2) \\cap A_3 \\big) \\cap \\cdots) \\cap A_k \\Big).\n",
    "\\end{align*}\n",
    "$$\n",
    "\n",
    "Hence,\n",
    "\n",
    "$$\n",
    "\\begin{align*}\n",
    "P(A_1 \\cap A_2 \\cap \\cdots \\cap A_k) &= P(A_1)P(A_2|A_1) \\cdot P(A_3 \\cap A_4 \\cap \\cdots \\cap A_k) \\\\\n",
    "&= P(A_1)P(A_2|A_1) \\cdot P(A_3|A_1 \\cap A_2) \\cdot P(A_4 \\cap \\cdots \\cap A_k) \\\\\n",
    "&\\quad\\!\\!\\! \\vdots \\\\\n",
    "&= P(A_1)P(A_2|A_1) \\cdot P(A_3|A_1 \\cap A_2) \\cdots P(A_k|A_1 \\cap A_2 \\cap \\cdots \\cap A_{k-1})\n",
    "\\end{align*}\n",
    "$$"
   ]
  },
  {
   "cell_type": "markdown",
   "id": "276da24c-e5c6-400a-879d-d6057e0049d8",
   "metadata": {},
   "source": [
    "<span style=\"color: green;\"><b><u>Example</u></b></span>\n",
    "Suppose that somebody rolls two fair six-sided dice (again), this time wish to compute the probability that the face-up value of the first one $D_1$ is 2, given the information that their sum $D_1 + D_2$ is no greater than 5.\n",
    "\n",
    "Let $A$ be the event \"the first die is 2 ($D_1 = 2$)\" and $B$ be the event \"the sum of the dice is less than or equal to 5 ($D_1 + D_2 \\le 5$)\". We can highlight the sample points contained in these two events in the sample space table as follows:\n",
    "\n",
    "<table style=\"width: 60%;\">\n",
    "    <tr>\n",
    "        <td style=\"text-align: center;\"><b>A</b></td>\n",
    "        <td style=\"text-align: center;\"><b>B</b></td>\n",
    "    </tr>\n",
    "    <tr>\n",
    "        <td style=\"width: 50%;\"> \n",
    "    <img src=\"https://newisreal1.github.io/Statistics-Notebooks/img/dice_sum_1eq2.png\" style=\"width: 100%;\"/>\n",
    "        </td>\n",
    "        <td style=\"width: 50%;\"> \n",
    "    <img src=\"https://newisreal1.github.io/Statistics-Notebooks/img/dice_sum_sle5.png\" style=\"width: 100%;\"/> \n",
    "        </td>\n",
    "    </tr>\n",
    "</table>\n",
    "\n",
    "Think of this situation as the sample space narrowing from all 36 possible outcomes to just 10 outcomes contained in $B$. We then only interest in the outcomes in $A$ that is within this new sample space, that is the event $A \\cap B$:\n",
    "\n",
    "<center><img src=\"https://newisreal1.github.io/Statistics-Notebooks/img/dice_sum_1eq2_sle5.png\" style=\"width: 30%; margin: auto 0;\"/></center>\n",
    "\n",
    "From the information, we calculate\n",
    "\n",
    "$$\n",
    "P(A|B) = \\frac{P(A \\cap B)}{P(B)} = \\frac{3/36}{10/36} = \\frac{3}{10} = 30\\%.\n",
    "$$"
   ]
  },
  {
   "cell_type": "markdown",
   "id": "b06adbbd-d4cc-4a26-9953-629027729e66",
   "metadata": {},
   "source": [
    "<span style=\"color: green;\"><b><u>Example</u></b></span> A lot contains 12 items of which 4 are defective. Three items are drawn randomly from the lot one after the other. What is the probability that all three picked items are non-defective?\n",
    "\n",
    "First, let \n",
    "\n",
    "- $A$ be the event \"the first item is non-defective\".\n",
    "- $B$ be the event \"the second item is non-defective\".\n",
    "- $C$ be the event \"the third item is non-defective\".\n",
    "\n",
    "Therefore, the probability that all three items are non-defective is\n",
    "\n",
    "$$\n",
    "P(A \\cap B \\cap C) = P(A)P(B|A)P(C|A \\cap B) = \\frac{8}{12} \\frac{7}{11} \\frac{6}{10} = \\frac{14}{55} \\approx 25.45\\%.\n",
    "$$\n",
    "\n",
    "Explanation:\n",
    "\n",
    "- The probability $P(A)$ is obviously the proportion of non-defective items to all items $8/12$.\n",
    "- $P(B|A)$ is the probability that non-defective item is picked after one non-defective has already been picked. So there are 11 items left with 4 defectives and 7 non-defectives.\n",
    "- $P(C|A \\cap B)$ now two non-defective has been picked. So there are 10 items left with 6 non-defectives."
   ]
  },
  {
   "cell_type": "markdown",
   "id": "be4270b7-7982-40db-8cb9-dd9ff7c6b6e3",
   "metadata": {},
   "source": [
    "---\n",
    "<h3 style=\"color: green; font-size: 16pt;\">The Law of Total Probability</h3>\n",
    "\n",
    "Recall that a set of events $A_1, A_2, \\ldots, A_k$ are **mutually exclusive** or **disjoint** if they are not intersected, that is no pair of two contain any common outcomes.\n",
    "\n",
    "If $A_1, A_2, \\ldots, A_k$ are events of sample space $S$ and\n",
    "\n",
    "$$\n",
    "A_1 \\cup A_2 \\cup \\cdots \\cup A_k = \\bigcup_{i=2}^k A_i = S\n",
    "$$\n",
    "\n",
    "that is they covered the whole sample space, then $A_1, A_2, \\ldots, A_k$ are called **collectively exhaustive (or just \"exhaustive\") events**.\n",
    "\n",
    "And if a set of events are *both mutually exclusive and exhaustive*, then they are called a **partition** of the sample space $S$\n",
    "\n",
    "<table style=\"width: 70%; margin: auto;\">\n",
    "    <tr>\n",
    "        <td style=\"text-align: center;\"><b>Collectively Exhaustive</b></td>\n",
    "        <td style=\"text-align: center;\"><b>Both Collectively Exhaustive and Mutually Exclusive<br>(Partition of Sample Space)</b></td>\n",
    "    </tr>\n",
    "    <tr>\n",
    "        <td style=\"width: 50%;\"> \n",
    "    <img src=\"https://newisreal1.github.io/Statistics-Notebooks/img/exhaustive_events.png\" style=\"width: 100%;\"/>\n",
    "        </td>\n",
    "        <td style=\"width: 50%;\"> \n",
    "    <img src=\"https://newisreal1.github.io/Statistics-Notebooks/img/sample_space_partition.png\" style=\"width: 100%;\"/> \n",
    "        </td>\n",
    "    </tr>\n",
    "</table>"
   ]
  },
  {
   "cell_type": "markdown",
   "id": "aba829de-e5a3-497f-aab1-28c2d55af5fd",
   "metadata": {},
   "source": [
    "Now consider any event $B$ of the sample space $S$. If $A_1, A_2, \\ldots A_k$ is a partition of $S$, then we can split $B$ into many parts intersected with events in the partition:\n",
    "\n",
    "$$\n",
    "B = (B \\cap A_1) \\cup (B \\cap A_2) \\cup \\cdots \\cup (B \\cap A_k).\n",
    "$$\n",
    "\n",
    "<center><img src=\"https://newisreal1.github.io/Statistics-Notebooks/img/total_prob.png\" style=\"width: 35%;\"></center>\n",
    "\n",
    "Using the multiplication rule and addition rule, we can derived the *law of total probability* :\n",
    "\n",
    "> **The law of total probability:** Let $A_1. A_2, \\ldots, A_k$ be mutually exclusive and collectively exhaustive (a partition of $S$). Then for any event $B$,\n",
    "> $$\\begin{align*} P(B) &= P(B|A_1)P(A_1) + P(B|A_2)P(A_2) + \\cdots P(B|A_k)P(A_k) \\\\ &= \\sum_{i=1}^k P(B|A_i)P(A_i). \\end{align*} $$"
   ]
  },
  {
   "cell_type": "markdown",
   "id": "80c71548-3e50-42c0-8a7a-10e4038a49c1",
   "metadata": {},
   "source": [
    "<span style=\"color: green;\"><b><u>Example</u></b></span> Consider 3 different email accounts containing 100 emails in total. Account #1 contain 70 emails, account #2 contain 20 emails, and the remaining 10 emails is in account #3. Of the emails into account #1, only 1% are spam, whereas the corresponding percentages for accounts #2 and #3 are 2% and 5%, respectively. What is the probability that a randomly selected emails from any account is a spam?\n",
    "\n",
    "To answer this question. Let first define the notation:\n",
    "\n",
    "- $E_i$ be the event \"the email comes from account #$i$\" for $i=1,2,3$.\n",
    "- $S$ be the event \"the email is spam\".\n",
    "\n",
    "The given information imply that:\n",
    "\n",
    "- $P(A_1) = 0.7, P(A_2) = 0.2, P(A_3) = 0.1$.\n",
    "- $P(S|A_1) = 0.01, P(S|A_2) = 0.02, P(S|A_3) = 0.05$.\n",
    "\n",
    "Now we can simply substitute the values into the equation for the law of total probability:\n",
    "\n",
    "$$\n",
    "\\begin{align*}\n",
    "P(S) &= P(S|A_1)P(S) + P(S|A_2)P(S) + P(S|A_3)P(S) \\\\\n",
    "&= (0.01)(0.7) + (0.02)(0.2) + (0.05)(0.1) \\\\\n",
    "&= 0.016 = 1.6\\%\n",
    "\\end{align*}\n",
    "$$\n",
    "\n",
    "So, in the long run, 1.6% of the emails will be spam."
   ]
  },
  {
   "cell_type": "markdown",
   "id": "ff5aa2bc-0326-44ab-a4ed-2f4df1f18fb4",
   "metadata": {},
   "source": [
    "<div style=\"widht:100%; height:20px; background-color:teal;\"></div>"
   ]
  },
  {
   "cell_type": "markdown",
   "id": "11867293-7ac2-4561-a99f-712d1c1ba7bd",
   "metadata": {},
   "source": [
    "## Bayes' Theorem"
   ]
  },
  {
   "cell_type": "markdown",
   "id": "27f2a89a-19e9-437c-a235-f5331cc8daa4",
   "metadata": {},
   "source": [
    "**Bayes' theorem** (alternatively **Bayes' law** or **Bayes' rule**) gives a rule for *inverting conditional probabilities*, allowing one to find the probability of a cause given its effect $P(B|A)$ from the probability of a effect given its cause $P(A|B)$."
   ]
  },
  {
   "cell_type": "markdown",
   "id": "6c22053d-c9c9-43b6-b941-64f6dc6a7f41",
   "metadata": {},
   "source": [
    "---\n",
    "<h3 style=\"color: green; font-size: 16pt;\">The Statement of Bayes' Theorem</h3>\n",
    "\n",
    "Suppose that we know the value of $P(B|A)$ but we want to calculate $P(A|B)$, then what can we do? Let's start by rearranging the conditional probability formula:\n",
    "\n",
    "$$\n",
    "P(A|B) = \\frac{P(A \\cap B)}{P(B)}.\n",
    "$$\n",
    "\n",
    "Since the order of \"and\" (intersect) doesn't matter, we can write the general multiplication rule as:\n",
    "\n",
    "$$\n",
    "P(A \\cap B) = P(A|B)P(B) = P(B|A)P(A) = P(B \\cap A).\n",
    "$$\n",
    "\n",
    "We can then plug in this into the conditional probability formula:\n",
    "\n",
    "$$\n",
    "P(A|B) = \\frac{P(A \\cap B)}{P(B)} = \\frac{P(B \\cap A)}{P(A)} = \\frac{P(B|A)P(A)}{P(B)}\n",
    "$$\n",
    "\n",
    "And that is what we wanted: we derived the formula that express $P(A|B)$ in terms of $P(B|A)$. This formula is called **Bayes' theorem**. \n",
    "\n",
    "In real-applications (most of the time), the value of $P(B)$ is not directly given. However, we can the law of total probability to calculate it using $A$ and $A'$ as a partition of sample space (since $A$ and $A'$ are disjoint and exhaustive). Therefore, Bayes' theorem is often written in a expanded form as\n",
    "\n",
    "> $$ P(A|B) \\;=\\; \\frac{P(B|A)P(A)}{P(B)} \\;=\\; \\frac{ P(B|A)P(A) }{ P(B|A)P(A) + P(B|A')P(A'). } \\quad \\text{where} \\quad P(B) \\ne 0 $$"
   ]
  },
  {
   "cell_type": "markdown",
   "id": "a8130a49-8c07-4e2c-9751-b5ecadc6f5c5",
   "metadata": {},
   "source": [
    "---\n",
    "<h3 style=\"color: green; font-size: 16pt;\">Generalization of Bayes' Theorem</h3>\n",
    "\n",
    "In the last section we expanded the formula for Bayes' theorem using the law of total probability by expanding the term $P(A)$ using $A$ and $A'$ as a partition of sample space. More generally, we can consider $A$ as a part of any partition of the sample space and expand it  accordingly. This leads to a generalized expression of Bayes' theorem:\n",
    "\n",
    "> Let $\\set{A_1, A_2, \\ldots, A_k}$ be a set of mutually exclusive and exhaustive events (i.e., a partition of the sample space). Then for any event $B$ where $P(B) \\ne 0$. Then\n",
    "> $$ P(A_j|B) = \\frac{ P(B|A_j)P(A_j) }{ P(B) } = \\frac{ P(B|A_j)P(A_j) }{ \\sum_{i=1}^k P(B|A_i)P(A_i) } $$\n",
    "> for any $1 \\le j \\le k$."
   ]
  },
  {
   "cell_type": "markdown",
   "id": "da164f5a-859a-469b-a5b5-a165e6a2c2ff",
   "metadata": {},
   "source": [
    "---\n",
    "<h3 style=\"color: green; font-size: 16pt;\">Bayesian Analysis & Famous Examples</h3>\n",
    "\n",
    "\n",
    "As we saw in the last section. Bayesian probability interprets probabilities based on a *degree of belief* in an event since this interpretation is defined by conditional probability, which determines the probability of an event given the probability (belief) of another event. \n",
    "\n",
    "In Bayesian analysis, we begin with some **prior** knowledge (or prior belief) about the event. Then, as we examine new data, we update the prior probability using Bayes' theorem to arrive at the **posterior** knowledge (or posterior belief).\n",
    "\n",
    "From the formula for Bayes' theorem\n",
    "\n",
    "$$\n",
    "P(A_j|B) = \\frac{ P(B|A_j)P(A_j) }{ P(B) } = \\frac{ P(B|A_j)P(A_j) }{ \\sum_{i=1}^k P(B|A_i)P(A_i) }.\n",
    "$$\n",
    "\n",
    "$P(A_j)$ is the **prior probability** before the event $B$ occurs and $P(A_j|B)$ is the **posterior probability**, the probability under the condition that $B$ occurs.\n",
    "\n",
    "A great example would be a spam filter. We might have a dataset of emails in which 20% of the data are spam emails, so the prior probability that an email is a spam is 20%. After that, we examime the emails for certain keywords, calculate the probabilities that the keywords appear in spam or non-spam emails, and use these probabilities to update the prior probability to get a better estimate of whether a new email is spam or not."
   ]
  },
  {
   "cell_type": "markdown",
   "id": "48260ff5-27c0-46b1-b2f2-4d89aff74637",
   "metadata": {},
   "source": [
    "<u><b><h4 style=\"color: olive\">Example: False Positive</h4></b></u>\n",
    "\n",
    "Suppose that 1 in 1000 of the population has a certain rare disease for which an diagnostic test has been developed. If an infected person is tested, a positive result will occur 99% of the time. Whereas a person with no disease will get an erroneous positive result (*'false positive'*) 2% of the time.\n",
    "\n",
    "The technical term **\"false positive\"** refers to an error in which a test result incorrectly indicates the *presence* of a condition (e.g. a disease when the disease is not present), while a **\"false negative\"** is the opposite error, where the test result incorrectly indicates the *absence* of a condition when it is actually present.\n",
    "\n",
    "To determine whether the test is effective, we ask: \" If a randomly selected individual is tested and the result is positive, what is the probability that the individual has the disease?\"\n",
    "\n",
    "We will solve this problem using Bayes' theorem. First let \n",
    "\n",
    "- $D$ be the event \"the person has the disease\".\n",
    "- $D'$ be the event \"the person does not have the disease\".\n",
    "- $t$ be the event \"positive test result\".\n",
    "- $t'$ be the event \"non-positive (negative) test result\".\n",
    "\n",
    "From the information state in the description of the problem, we can imply:\n",
    "\n",
    "- $P(D) = 1/1000,\\ P(D') = 999/1000.$\n",
    "- $P(t|D) = 0.99,\\ P(t'|D) = 0.01$.\n",
    "- $P(t|D') = 0.02,\\ P(t'|D') = 0.98$.\n",
    "\n",
    "We can calculate the probability that a person has the disease given that he/she tested positive $P(D|t)$ using the formula\n",
    "\n",
    "$$\n",
    "P(D|t) = \\frac{ P(t|D)P(D) }{ P(t) } = \\frac{ P(t|D)P(D) }{ P(t|D)P(D) + P(t|D')P(D') }.\n",
    "$$\n",
    "\n",
    "Substitute in the values, we get\n",
    "\n",
    "$$\n",
    "P(D|t) = \\frac{ (0.99)(1/1000) }{ (0.99)(1/1000) + (0.02)(999/1000) } \\approx 0.047 = 4.7\\%.\n",
    "$$\n",
    "\n",
    "This result seems counterintuitive; we can see that the accuracy of the test is relatively low, despite a very small false positive rate. This is because *the proportion of the population with the disease is very small compared to the proportion without the disease*. As a result, even a small error rate, when applied to the much larger group of non-infected individuals, can lead to a significant number of false positives."
   ]
  },
  {
   "cell_type": "markdown",
   "id": "f5d8ea59-f104-4b5b-9d47-468f8363916b",
   "metadata": {},
   "source": [
    "<u><b><h4 style=\"color: olive\">Example: The Monty Hall Problem</h4></b></u>\n",
    "\n",
    "The Monty Hall problem is a classic probability puzzle that can be solved using Bayes' theorem. The result is often counterintuitive for most people. It is based, nominally, on the American television game show *Let's Make a Deal* and is named after its original host, Monty Hall.\n",
    "\n",
    "Suppose you are on a game show, and you are given the choice of three doors. Behind one door is a car, and behind the other two doors are goats. You pick a door, say Door No. 1. The host, who knows what is behind each door, opens another door, say Door No. 3, which has a goat. He then asks, \"Do you want to switch your choice to Door No. 2?\"\n",
    "\n",
    "Now the question is: **Should you switch your choice?**"
   ]
  },
  {
   "cell_type": "markdown",
   "id": "c98ccdeb-da57-43cb-8332-f4fbee2e79f9",
   "metadata": {},
   "source": [
    "To begin with, let's run a simulation of the game and look at the wining rate both for when you choose to switch the choices and not switch the choices:"
   ]
  },
  {
   "cell_type": "code",
   "execution_count": 5,
   "id": "3ad3f3e2-73bb-4d8f-a66d-14539bc375a7",
   "metadata": {
    "jupyter": {
     "source_hidden": true
    }
   },
   "outputs": [],
   "source": [
    "def monty_hall_doors():\n",
    "    doors = np.array([\"goat\", \"goat\", \"car\"])\n",
    "    np.random.shuffle(doors)\n",
    "    return doors\n",
    "\n",
    "win_change, win_not_change = np.array([]), np.array([])\n",
    "\n",
    "# run 1,000 games\n",
    "for _ in range(1000):\n",
    "    car = np.random.randint(3)\n",
    "    first_pick = np.random.randint(3)\n",
    "    opened_door = [x for x in range(3) if x != car and x != first_pick][0]\n",
    "    change_pick = [x for x in range(3) if x != opened_door and x != first_pick][0]\n",
    "    if first_pick == car:\n",
    "        win_not_change = np.append(win_not_change, 1)\n",
    "        win_change = np.append(win_change, 0)\n",
    "    elif change_pick == car:\n",
    "        win_not_change = np.append(win_not_change, 0)\n",
    "        win_change = np.append(win_change, 1)"
   ]
  },
  {
   "cell_type": "code",
   "execution_count": 6,
   "id": "8f6d2579-39be-4244-9388-045f3d7aec6e",
   "metadata": {
    "jupyter": {
     "source_hidden": true
    }
   },
   "outputs": [
    {
     "data": {
      "image/png": "[encoded data removed]",
      "text/plain": [
       "<Figure size 1500x400 with 1 Axes>"
      ]
     },
     "metadata": {},
     "output_type": "display_data"
    }
   ],
   "source": [
    "fig, ax = plt.subplots(figsize=(15,4))\n",
    "\n",
    "x = np.arange(1,1001)\n",
    "\n",
    "ax.plot(\n",
    "    x, win_not_change.cumsum() / x,\n",
    "    label=\"Not change the choice\"\n",
    ")\n",
    "\n",
    "ax.plot(\n",
    "    x, win_change.cumsum() / x,\n",
    "    label=\"Change the choice\"\n",
    ")\n",
    "\n",
    "ax.set_axisbelow(True); ax.grid(True)\n",
    "ax.legend()\n",
    "ticks = np.arange(0,1001,100)\n",
    "ticks[0] = 1\n",
    "ax.set_xticks(ticks)\n",
    "ax.set_title(\"The Monty Hall Problem\")\n",
    "ax.set_xlabel(\"# of games\")\n",
    "ax.set_ylabel(\"Relative frequency of wining\");"
   ]
  },
  {
   "cell_type": "markdown",
   "id": "e5f05001-4594-4a3e-9d01-207c35afe8c1",
   "metadata": {},
   "source": [
    "Most people might initially think that it doesn't matter whether you switch your choice or not, assuming there's a 50-50 chance of each remaining door hiding the car. However, simulation results consistently show that you have a higher chance of winning the car if you choose to switch your choice."
   ]
  },
  {
   "cell_type": "markdown",
   "id": "256bba53-ca0e-458f-916d-b8fdaa3aafc2",
   "metadata": {},
   "source": [
    "Now let's solve the problem analytically using Bayes' theorem. Let's first define some notation:\n",
    "\n",
    "- Let $C_i$ be the event \"the car is behind door No.$i$\" for $i=1,2,3$.\n",
    "- Let $O_i$ be the event \"the host opened door No.$i$, that is there is a goat behind door No.$i$\".\n",
    "\n",
    "The prior probability $P(C_i) = 1/3$ for all $i=1,2,3$ since initially, we only know that one of the three doors hides the car. Suppose you choose door No.1, and the host opens door No.2. The posterior probability is given by:\n",
    "\n",
    "$$\n",
    "P(C_1|O_2) = \\frac{P(O_2|C_1)P(C_1)}{P(O_2|C_1)P(C_1) + P(O_2|C_2)P(C_2) + P(O_2|C_3)P(C_3)}\n",
    "$$\n",
    "\n",
    "Given that the car is behind door No.1, the host can either open door No.2 or door No.3. If this is the case, we assume the host will randomly choose one of the two doors with a 50% chance for each. Thus, $P(O_2|C_1) = P(O_3|C_1) = 1/2$.\n",
    "\n",
    "The host will never open the door hiding the car, so $P(O_2|C_2) = 0$. If the car is behind door No.3, the host can only open door No.2 (since you initially chose door No.1, and the host cannot open it). Therefore, $P(O_2|C_3) = 1$.\n",
    "\n",
    "Combining all of this, we calculate:\n",
    "\n",
    "$$\n",
    "P(C_1|O_2) = \\frac{(1/2)(1/3)}{(1/2)(1/3) + (0)(1/3) + (1)(1/3)} = \\frac{1}{3}.\n",
    "$$\n",
    "\n",
    "Similarly, for the case where the car is behind door No.3:\n",
    "\n",
    "$$\n",
    "P(C_3|O_2) =\\frac{(1)(1/3)}{(1/2)(1/3) + (0)(1/3) + (1)(1/3)} = \\frac{2}{3}.\n",
    "$$\n",
    "\n",
    "This result implies that there is a 2/3 chance of winning the car if you switch to door No.3, which is greater than the 1/3 chance of winning if you stick with door No.1. A similar calculation applies in other cases (e.g., picking a different door initially). Thus, we conclude that switching your choice increases your chances of winning the game."
   ]
  },
  {
   "cell_type": "markdown",
   "id": "ae011e46-34e0-467c-874e-ef181e33f28a",
   "metadata": {},
   "source": [
    "---\n",
    "<u><b><h4 style=\"color: olive\">Example: Warner's Randomized Response Model</h4></b></u>\n",
    "\n",
    "Suppose we want to know, *\"What percentage of students have cheated during an exam in college?\"* This question can be difficult to answer because students may not respond truthfully in a direct survey due to the sensitive nature of the question.\n",
    "\n",
    "A research method called **randomized response**, proposed by S. L. Warner, allows respondents to address sensitive issues while maintaining confidentiality through randomization. In this method, **unknown to the interviewer**, chance determines whether the respondent answers truthfully or simply replies \"yes,\" regardless of the truth.\n",
    "\n",
    "For example, in a survey, students may first be instructed to toss a coin twice and then respond to one of two questions based on the outcome of the first toss:\n",
    "\n",
    "- If the first toss is tails, answer Question 1: Have you ever cheated on an exam in college?\n",
    "- If the first toss is heads, answer Question 2: Did you get tails on the second toss?\n",
    "\n",
    "Since the interviewer does not know whether a \"yes\" response comes from Question 1 (cheating) or Question 2 (a coin toss result), this method allows respondents to answer truthfully while maintaining their anonymity.\n",
    "\n",
    "Although an individual \"yes\" response cannot be interpreted directly, the proportion of cheaters can be estimated from the overall responses. We can split the event of a student answering \"yes\" into two parts:\n",
    "\n",
    "$$\n",
    "\\begin{align*}\n",
    "P(\\text{``yes\"}) &= P(\\text{``yes\"} \\cap \\text{Q1}) + P(\\text{``yes\"} \\cap \\text{Q2}) \\\\\n",
    "&= P(\\text{Q1})P(\\text{``yes\"} \\;|\\; \\text{Q1}) + P(\\text{Q2})P(\\text{``yes\"} \\;|\\; \\text{Q2}).\n",
    "\\end{align*}\n",
    "$$\n",
    "\n",
    "The proportion of cheaters, $P(\\text{``yes\"} \\;|\\; \\text{Q1})$, can be expressed as:\n",
    "\n",
    "$$\n",
    "P(\\text{``yes\"} \\;|\\; \\text{Q1}) = \\frac{ P(\\text{``yes\"}) - P(\\text{Q2})P(\\text{``yes\"} \\;|\\; \\text{Q2}) }{ P(\\text{Q1}) }.\n",
    "$$\n",
    "\n",
    "All the terms can be determine:\n",
    "\n",
    "- $P(\\text{Q1})$ and $P(\\text{Q2})$: The chance that the student is answer to question 1 or 2, which is the chance that the student gets \"tail\" or \"head\" on the first toss. That is 50%.\n",
    "- $P(\\text{``yes\"} \\;|\\; \\text{Q2})$: The chance that the student answer \"yes\" to question 2, which is equal to the chance that the student gets \"tail\" on the second toss. Which is also 50%.\n",
    "- $P(\\text{``yes\"})$: The proportion of students answered \"yes\", which can be determined from the survey results.\n",
    "\n",
    "Suppose that 27 students answered \"yes\" and 30 students answered \"no\". So we estimate\n",
    "\n",
    "$$\n",
    "P(\\text{``yes\"} \\;|\\; \\text{Q1}) = \\frac{(27/57) - (0.5)(0.5)}{0.5} = 0.4473 = 44.73\\%.\n",
    "$$\n",
    "\n",
    "And that is the estimation of fraction of cheaters."
   ]
  },
  {
   "cell_type": "markdown",
   "id": "7b23c2c6-f441-43ae-8e76-a692ca8d7709",
   "metadata": {},
   "source": [
    "<div style=\"widht:100%; height:20px; background-color:teal;\"></div>"
   ]
  }
 ],
 "metadata": {
  "kernelspec": {
   "display_name": "Python 3 (ipykernel)",
   "language": "python",
   "name": "python3"
  },
  "language_info": {
   "codemirror_mode": {
    "name": "ipython",
    "version": 3
   },
   "file_extension": ".py",
   "mimetype": "text/x-python",
   "name": "python",
   "nbconvert_exporter": "python",
   "pygments_lexer": "ipython3",
   "version": "3.12.9"
  }
 },
 "nbformat": 4,
 "nbformat_minor": 5
}
