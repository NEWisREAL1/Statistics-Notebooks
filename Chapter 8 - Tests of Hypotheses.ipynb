{
 "cells": [
  {
   "cell_type": "markdown",
   "id": "fe20c50b-22e9-4838-8083-3324ae4ec58f",
   "metadata": {},
   "source": [
    "# One Sample Tests of Hypotheses"
   ]
  },
  {
   "cell_type": "code",
   "execution_count": 22,
   "id": "d18bd4ac-b5c1-436c-8482-250a67939004",
   "metadata": {},
   "outputs": [],
   "source": [
    "import numpy as np\n",
    "import pandas as pd\n",
    "import matplotlib.pyplot as plt\n",
    "from scipy.stats import norm, probplot"
   ]
  },
  {
   "cell_type": "markdown",
   "id": "43248e15-20fc-4dc5-b6c8-e7c67f874db4",
   "metadata": {},
   "source": [
    "<div style=\"widht:100%; height:20px; background-color:olive;\"></div>"
   ]
  },
  {
   "cell_type": "markdown",
   "id": "d69ad0c3-c8ef-4e89-b8b9-1b7745b7809c",
   "metadata": {},
   "source": [
    "## General Concepts of Statistical Hypotheses"
   ]
  },
  {
   "cell_type": "markdown",
   "id": "ecfbdf99-a93b-401e-90b4-9c85001c2e10",
   "metadata": {},
   "source": [
    "Often, the problem confronting the scientist or engineer is not so much the estimation of a population parameter but rather the formation of a data-based decision procedure that can produce a conclusion about some scientific system. For example, \n",
    "\n",
    "- a medical researcher may decide on the basis of experimental evidence whether coffee drinking increases the risk of cancer in humans;\n",
    "- an engineer might have to decide on the basis of sample data whether there is a difference between the accuracy of two kinds of gauges; or\n",
    "- a sociologist might wish to collect appropriate data to enable him or her to decide whether a person's blood type and eye color are independent variables.\n",
    "\n",
    "In each of these cases, the scientist or engineer *postulates* or *conjectures* something about a system. In addition, each must make use of experimental data and make a decision based on the data. In each case, the conjecture can be put in the form of a statistical hypothesis. Procedures that lead to the acceptance or rejection of statistical hypotheses such as these comprise a major area of statistical inference."
   ]
  },
  {
   "cell_type": "markdown",
   "id": "c99e6c2d-763f-494a-bb73-d0c4f9b8e196",
   "metadata": {},
   "source": [
    "> A **statistical hypothesis** is an assertion or conjecture concerning one or more populations."
   ]
  },
  {
   "cell_type": "markdown",
   "id": "d6fb1ad9-1ad3-4da4-a04e-01652558ce2c",
   "metadata": {},
   "source": [
    "The truth or falsity of a statistical hypothesis is never known with absolute certainty unless we examine the entire population. This, of course, would be impractical in most situations. Instead, we take a random sample from the population of interest and use the data contained in this sample to provide evidence that either \"*supports*\" or \"*does not support*\" the hypothesis."
   ]
  },
  {
   "cell_type": "markdown",
   "id": "09b2a612-c440-4a9f-986a-e676891ad2b6",
   "metadata": {},
   "source": [
    "---\n",
    "<h3 style=\"color: green; font-size: 16pt;\">The Null and Alternative Hypotheses</h3>"
   ]
  },
  {
   "cell_type": "markdown",
   "id": "15c38d24-9066-4594-9a5a-293dff63ebd0",
   "metadata": {},
   "source": [
    "The structure of hypothesis testing will be formulated with the use of the term **null hypothesis**, which refers to any hypothesis we wish to test and is denoted by $H_0$. The rejection of $H_0$ leads to the acceptance of an **alternative hypothesis**, denoted by $H_1$ (or sometimes as $H_a$). The alternative hypothesis $H_1$ usually represents the question to be answered or the theory to be tested, and thus its specification is crucial. The null hypothesis $H_0$ nullifies or opposes $H_1$ and is often the logical complement to $H_1$. As the reader gains more understanding of hypothesis\n",
    "testing, he or she should note that the analyst arrives at one of the two following conclusions:\n",
    "\n",
    "> - **Reject $H_0$** in favor of $H_1$ because of sufficient evidence in the data.\n",
    "> - **Fail to reject $H_0$** because of insufficient evidence in the data."
   ]
  },
  {
   "cell_type": "markdown",
   "id": "7a585f4c-e7a5-44d2-8dc6-4cf7b0c8040d",
   "metadata": {},
   "source": [
    "Note that the conclusions do *not* involve a formal and literal \"*accept $H_0$*.\" \n",
    "\n",
    "The statement of $H_0$ often represents the \"status quo\" (current status) in opposition to the new idea or conjecture, stated in $H_1$. For example,  suppose that the hypothesis postulated by the engineer is that the fraction defective $p$ in a certain process is $0.10$, the practical issue may be a concern that the historical defective probability of $0.10$ no longer is true. Indeed, the conjecture may be that $p$ exceeds $0.10$. We may then state\n",
    "\n",
    "$$\n",
    "\\begin{align*}\n",
    "H_0: \\quad p &= 0.10, \\\\\n",
    "H_1: \\quad p &> 0.10.\n",
    "\\end{align*}\n",
    "$$"
   ]
  },
  {
   "cell_type": "markdown",
   "id": "d5500bc5-3769-4c35-82ae-a59294200222",
   "metadata": {},
   "source": [
    "The experiment is to observe a random sample of the product in question. If $12$ defective items out of $100$ was observed. This does not refute $p = 0.10$, so the conclusion is \"fail to reject $H_0$.\" However, if the data produce $20$ out of $100$ defective items, then the conclusion is \"reject $H_0$\" in favor of $H_1: p > 0.10$. Do note that for now, the choice to decide whether or not to reject $H_0$ when observing a particular result is somewhat arbitrary to the engineer."
   ]
  },
  {
   "cell_type": "markdown",
   "id": "1e0f9bca-b44b-4e6d-b7ce-93eb5048b12c",
   "metadata": {},
   "source": [
    "---\n",
    "<h3 style=\"color: green; font-size: 16pt;\">Test Procedures</h3>"
   ]
  },
  {
   "cell_type": "markdown",
   "id": "7b4abcef-8726-4102-a244-5f734548ddac",
   "metadata": {},
   "source": [
    "A test procedure is a rule, based on sample data, for deciding whether to reject $H_0$. A test of $H_0: p=0.1$ versus $H_1: p > 0.1$ in the defective items problem might be based on examining a random sample of items. Let $X$ denote the number of defective items in the sample, a binomial random variable; $x$ represents the observed value of $X$. If $H_0$ is true, $E(X) = np = 0.1(100) = 10$, whereas we can expect more than $10$ defectives if $H_1$ is true. A value $x$ just a bit above $10$ does not strongly contradict $H_0$, so it is reasonable to reject $H_0$ only if $x$ is substantially\n",
    "greater than $10$. One such test procedure is to reject $H_0$ if $x \\ge 15$ and not reject $H_0$ otherwise. This procedure has two constituents: (1) a test statistic, or function of the sample data used to make a decision, and (2) a rejection region consisting of those $x$ values for which $H_0$ will be rejected in favor of $H_1$. For the rule just suggested, the rejection region consists of $x=15,16,17,18,\\ldots,$ and $100$. $H_0$ will not be rejected if $x=0,1,2, \\ldots,$ or $14$."
   ]
  },
  {
   "cell_type": "markdown",
   "id": "78afef63-8cd6-4634-be25-633ce5d35750",
   "metadata": {},
   "source": [
    "> A test procedure is specified by the following:\n",
    "> \n",
    "> 1. A **test statistic**, a function of the sample data on which the decision (reject $H_0$ or do not reject $H_0$) is to be based\n",
    "> 2. A **rejection region** or **critical region**, the set of all test statistic values for which $H_0$ will be rejected\n",
    "> \n",
    "> The null hypothesis will then be rejected if and only if the observed or\n",
    "computed test statistic value falls in the rejection region."
   ]
  },
  {
   "cell_type": "markdown",
   "id": "942c9e87-5a1b-4283-8bfd-2ccc81480ad4",
   "metadata": {},
   "source": [
    "In addition, the last number that we observe in passing into the critical region is called the **critical value**. In our illustration, the critical value is the number $14$. Therefore, if $x > 14$, we reject $H_0$ in favor of $H_1$. If $x \\le 14$, we fail to reject $H_0$."
   ]
  },
  {
   "cell_type": "markdown",
   "id": "f65c7949-8cd0-4ebf-83a8-a1f04a899641",
   "metadata": {},
   "source": [
    "<div style=\"widht:100%; height:20px; background-color:olive;\"></div>"
   ]
  },
  {
   "cell_type": "markdown",
   "id": "0ff4f41f-32ee-40dc-ad19-e9b799552019",
   "metadata": {},
   "source": [
    "## Errors in Hypothesis Testing"
   ]
  },
  {
   "cell_type": "markdown",
   "id": "85dc4d5d-4dfb-4154-9694-216c79cdb54a",
   "metadata": {},
   "source": [
    "The decision procedure just described could lead to either of two wrong conclusions."
   ]
  },
  {
   "cell_type": "markdown",
   "id": "c46f1fdc-5083-40db-812b-63191bcd9d00",
   "metadata": {},
   "source": [
    "> - A **type I error** consists of rejecting the null hypothesis $H_0$ when it is true.\n",
    "> - A **type II error** involves not rejecting $H_0$ when $H_0$ is false."
   ]
  },
  {
   "cell_type": "markdown",
   "id": "8c4d6364-d16f-4409-a4e1-ce048860ea3d",
   "metadata": {},
   "source": [
    "In testing any statistical hypothesis, there are four possible situations that determine whether our decision is correct or in error. These four situations are\n",
    "\n",
    "|                      | $H_0$ is true    | $H_0$ is false   |\n",
    "|---------------------:|:-----------------|:-----------------|\n",
    "| Do not reject $H_0$  | Correct decision | Type II error    |\n",
    "| Reject $H_0$         | Type I error     | Correct decision |"
   ]
  },
  {
   "cell_type": "markdown",
   "id": "81075271-6103-447b-84e8-f0cdcae52964",
   "metadata": {},
   "source": [
    "In the best of all possible worlds, test procedures for which neither type of error is possible could be developed. However, this ideal can be achieved only by basing a decision on an examination of the entire population, which we know that it is often impractical. Instead of demanding error-free procedures, we must seek procedures for which either type of error is unlikely to occur. That is, a good procedure is one for which the probability of making either type of error is small. The choice of a particular rejection region cutoff value fixes the probabilities of type I and type II errors. "
   ]
  },
  {
   "cell_type": "markdown",
   "id": "ac12b68d-fb3f-4b00-ac49-1e1db6f6de4a",
   "metadata": {},
   "source": [
    "> The probability of committing a type I error, also called the **level of significance**, denoted by $\\alpha$ is given by\n",
    "> $$ \\alpha = P(\\text{type I error}) = P(\\text{reject } H_0 \\text{ when } H_0 \\text{ is true}). $$\n",
    "> The probability of committing a type II error, denoted by $\\beta$, is given by\n",
    "> $$ \\beta = P(\\text{type II error}) = P(\\text{Not reject } H_0 \\text{ when } H_0 \\text{ is false}). $$ "
   ]
  },
  {
   "cell_type": "markdown",
   "id": "6d3784be-6707-4635-8857-ddfa095ae952",
   "metadata": {},
   "source": [
    "<span style=\"color: green;\"><b><u>Example</u></b></span>\n",
    "A certain type of automobile is known to sustain no visible damage $25\\%$ of the time in 10-mph crash tests. A modified bumper design has been proposed in an effort to increase this percentage. Let $p$ denote the proportion of all 10-mph crashes with this new bumper that result in no visible damage. The hypotheses to be tested are\n",
    "\n",
    "$$\n",
    "\\begin{align*}\n",
    "H_0: p &= 0.25\\ \\text{ (no improvement)} \\\\\n",
    "H_1: p &> 0.25\\ \\text{ (improvement)} \\\\ \n",
    "\\end{align*}\n",
    "$$\n",
    "\n",
    "The test will be based on an experiment involving $n=20$ independent crashes with prototypes of the new design. Intuitively, $H_0$ should be rejected if a substantial number of the crashes show no damage. Consider the following test procedure:\n",
    "\n",
    "- Test statistics: $X =$ number of crashes with no visible damage.\n",
    "- Rejection region: $R = \\{ 8,9,10,\\ldots,20 \\}$; that is, reject $H_0$ if $x \\ge 8$."
   ]
  },
  {
   "cell_type": "markdown",
   "id": "0f933ba2-2524-46b7-8676-5d9803f50950",
   "metadata": {},
   "source": [
    "When $H_0$ is true, $X$ has a binomial distribution with parameters $n=20$ and $p=0.25$. Then, the probability of committing a type I error for this test is\n",
    "\n",
    "$$\n",
    "\\begin{align*}\n",
    "\\alpha  &= P(X \\ge 8 \\text{ when } X \\sim b(20, 0.25)) \\\\\n",
    "        &= 1 - B(7;\\ 20, 0.25) \\\\\n",
    "        &= 1 - 0.898 = 0.102\n",
    "\\end{align*}\n",
    "$$\n",
    "\n",
    "That is, when $H_0$ is actually true, roughly $10\\%$ of all experiments consisting of $20$ crashes would result in $H_0$ being incorrectly rejected (a type I error)."
   ]
  },
  {
   "cell_type": "markdown",
   "id": "c474770b-c931-49e1-9786-07dddb43e165",
   "metadata": {},
   "source": [
    "In contrast to $\\alpha$, there is not a single $\\beta$ (probability of type II error). Instead, there is a different $\\beta$ for each different $p$ that exceeds $.25$. For example, when p = $0.3$,\n",
    "\n",
    "$$\n",
    "\\begin{align*}\n",
    "\\beta(.3)   &= P(\\text{type II error when } p=0.3) \\\\\n",
    "            &= P(H_0 \\text{ is not rejected when } p=0.3) \\\\\n",
    "            &= P(X \\le 7 \\text{ when } X \\sim b(20, 0.3)) \\\\\n",
    "            &= B(7;\\ 20, 0.3) = 0.772\n",
    "\\end{align*}\n",
    "$$\n",
    "\n",
    "When $p$ is actually $.3$ rather than $.25$ (a \"small\" departure from $H_0$), roughly $77\\%$ of all experiments of this type would result in $H_0$ being incorrectly not rejected!"
   ]
  },
  {
   "cell_type": "markdown",
   "id": "d0ebce8d-e005-4112-95c8-05fcac865ce6",
   "metadata": {},
   "source": [
    "In general, for any $0.25 < p < 1$, we have\n",
    "\n",
    "$$\n",
    "\\beta(p) = B(7;\\ 20, p)\n",
    "$$\n",
    "\n",
    "for this test procedure. Clearly, $\\beta$ decreases as the value of $p$ moves farther to the right of the null value $.25$. Intuitively, the greater the departure from $H_0$, the less likely it is that such a departure will not be detected.\n",
    "\n",
    "| $p$      | $.3$ | $.4$ | $.5$ | $.6$ | $.7$ | $.8$ |\n",
    "|----------|------|------|------|------|------|------|\n",
    "|$\\beta(p)$| $.772$ | $.416$ | $.132$ | $.021$ | $.001$ | $.000$ |"
   ]
  },
  {
   "cell_type": "markdown",
   "id": "3ba3102d-94a8-418f-b447-519d7a9c5d19",
   "metadata": {},
   "source": [
    "<div style=\"widht:100%; height:20px; background-color:olive;\"></div>"
   ]
  },
  {
   "cell_type": "markdown",
   "id": "f3ff7d39-5cca-4115-a1a8-b08b63ccb4a4",
   "metadata": {},
   "source": [
    "## Tests About a Population Mean\n",
    "\n",
    "The general discussion in Chapter 7.2 of confidence intervals for a population mean $\\mu$ focused on three different cases (variance known, large sample, and variance unknown). We now develop test procedures for these cases."
   ]
  },
  {
   "cell_type": "markdown",
   "id": "effc84c4-c462-4ec2-82d0-8ffb721011fa",
   "metadata": {},
   "source": [
    "---\n",
    "<h3 style=\"color: green; font-size: 16pt;\">The Case of Normal Population with Variance Known</h3>"
   ]
  },
  {
   "cell_type": "markdown",
   "id": "49aec5ce-6430-44c8-8f91-2a966a8809db",
   "metadata": {},
   "source": [
    "Although the assumption that the value of s is known is rarely met in practice, this case provides a good starting point. The null hypothesis in all three cases will state that $\\mu$ has a particular numerical value, the null value, which we will denote by $\\mu_0$. \n",
    "\n",
    "$$\n",
    "H_0: \\mu=\\mu_0\n",
    "$$\n",
    "\n",
    "Let $X_1, X_2, \\ldots, X_n$ represent a random sample of size $n$ from the normal population. Then the sample mean $\\bar{X}$ has a normal distribution with expected value $\\mu_\\bar{X}=\\mu$ and standard deviation $\\sigma_\\bar{X}=\\sigma/\\sqrt{n}$. When $H_0$ is true, $\\mu_\\bar{X}=\\mu_0$. Consider now the statistic $Z$ obtained by standardizing under the assumption that $H_0$ is true:\n",
    "\n",
    "$$\n",
    "Z = \\frac{\\bar{X} - \\mu_0}{\\sigma/\\sqrt{n}}\n",
    "$$"
   ]
  },
  {
   "cell_type": "markdown",
   "id": "1d5dc241-3b03-4caa-881a-151f30ad9f99",
   "metadata": {},
   "source": [
    "Suppose that the alternative hypothesis has the form $H_1: \\mu > \\mu_0$. Then an $\\bar{x}$ value less than $\\mu_0$ certainly does not provide support for $H_1$. Such an $\\bar{x}$ corresponds to a negative value of $z$. Similarly, an value that exceeds $\\mu_0$ by only a small amount (corresponding to $z$, which is positive but small) does not suggest that $H_0$ should be rejected in favor of $H_1$. The rejection of $H_0$ is appropriate only when considerably exceeds $\\mu_0$—that is, when the $z$ value is positive and large. In summary, the appropriate rejection region, based on the test statistic $Z$ rather than $\\bar{X}$, has the form $z \\ge c$."
   ]
  },
  {
   "cell_type": "markdown",
   "id": "bc962fc7-60b5-4931-ae4d-6f516287dd45",
   "metadata": {},
   "source": [
    "The cutoff value $c$ should be chosen to control the probability of a type I error at the desired level of significant $\\alpha$. This is easily accomplished because the distribution of the test statistic $Z$ when $H_0$ is true is the standard normal distribution. The required cutoff $c$ is\n",
    "the $z$-critical value that captures upper-tail area $\\alpha$ under the $z$ curve. As an example, let $c=1.645$, the value that captures tail area $.05$ (since $z_{0.05}=1.645$). Then,\n",
    "\n",
    "$$\n",
    "\\alpha = P(Z \\ge c, Z \\sim N(0,1)) = P(Z > z_{0.05}) = 0.05\n",
    "$$"
   ]
  },
  {
   "cell_type": "markdown",
   "id": "25ea8db2-8ecb-4a7a-9a74-6b9cce1e9736",
   "metadata": {},
   "source": [
    "Similarly for $H_1$ of the form $\\mu<\\mu_0$ and $\\mu\\ne\\mu_0$, we can do the same procedure but with lower-tail and two-sided tail instead. The test procedure for each case is summarized below."
   ]
  },
  {
   "cell_type": "markdown",
   "id": "efe7d70a-607b-472e-ae3f-14278997e05e",
   "metadata": {},
   "source": [
    "> <div style=\"color: green;\"><b>Test Procedure for $\\mu$ of Normal Population when $\\sigma$ is Known</b></div>\n",
    "> \n",
    "> For a test procedure with significance of $\\alpha$ about mean $\\mu$ of a normal population. Null hypothesis: $H_0: \\mu = \\mu_0$, \n",
    "> \n",
    "<table><thead>\n",
    "  <tr>\n",
    "    <th>Null Hypothesis</th>\n",
    "    <th>Test Statistic</th>\n",
    "    <th>Alternative Hypothesis</th>\n",
    "    <th>Rejection Region for Level $\\alpha$ Test</th>\n",
    "  </tr></thead>\n",
    "<tbody>\n",
    "  <tr>\n",
    "    <td rowspan=\"3\">$$H_0: \\mu = \\mu_0$$</td>\n",
    "    <td rowspan=\"3\">$$z = \\frac{\\bar{x} - \\mu_0}{\\sigma/\\sqrt{n}}$$</td>\n",
    "    <td>$H_1: \\mu > \\mu_0$</td>\n",
    "    <td>$z \\ge z_{\\alpha}$</td>\n",
    "  </tr>\n",
    "  <tr>\n",
    "    <td>$H_1: \\mu < \\mu_0$</td>\n",
    "    <td>$z \\le -z_{\\alpha}$</td>\n",
    "  </tr>\n",
    "  <tr>\n",
    "    <td>$H_1: \\mu \\ne \\mu_0$</td>\n",
    "    <td>either $z \\ge z_{\\alpha/2}$ or $z \\le -z_{\\alpha/2}$</td>\n",
    "  </tr>\n",
    "</tbody>\n",
    "</table>"
   ]
  },
  {
   "cell_type": "markdown",
   "id": "ce16a754-c557-4366-a7ae-a14707bf46e7",
   "metadata": {},
   "source": [
    "<span style=\"color: green;\"><b><u>Example</u></b></span>\n",
    "A manufacturer of sprinkler systems used for fire protection in office buildings claims that the true average system-activation temperature is $130^\\circ F$. A sample of $n=9$ systems, when tested, yields a sample average activation temperature of $131.08^\\circ F$. If the distribution of activation times is normal with standard deviation $1.5^\\circ F$, does the data contradict the manufacturer's claim at significance level $0.01$?"
   ]
  },
  {
   "cell_type": "markdown",
   "id": "bfab12ff-17d6-494c-9dee-7a04be4317d9",
   "metadata": {},
   "source": [
    "Let $\\mu$ be the true average system-activation temperature.\n",
    "\n",
    "1. Null hypothesis: $H_0: \\mu = 130$ (that is $\\mu_0 = 130$).\n",
    "2. Alternative hypothesis: $H_1: \\mu \\ne 130$ (concerning a departure from either direction of  the claimed value).\n",
    "3. Test statistic value: $$ z = \\frac{131.08 - 130}{1.5/\\sqrt{9}} = 2.16 $$\n",
    "4. Critical region: Since $z_{0.01/2} = z_{0.005} = 2.576$, the rejection region for two-sided test is either $z\\le-2.576$ or $z\\ge2.576$.\n",
    "5. Decision: Since the computed test statistic $z=2.16$ does not fall into the critical region ($-2.576 < z = 2.16 < 2.576$), so **$H_0$ cannot be rejected** at significance level of $0.01$. The data does not give strong support to the alternative claim."
   ]
  },
  {
   "cell_type": "markdown",
   "id": "2a431368-12be-4bcc-bf5a-1ae8d69afb5d",
   "metadata": {},
   "source": [
    "---\n",
    "<h3 style=\"color: green; font-size: 16pt;\">The Case of Large-Sample</h3>\n",
    "\n",
    "When the sample size is large, the $z$ tests for the previous case are easily modified to yield valid test procedures without requiring either a normal population distributi. on or known $\\sigma$. In the case of $\\sigma$ known and non-normal population, by the CLT, when the sample size $n$ is sufficiently large (typically $n \\ge 30$), we can say that\n",
    "\n",
    "$$\n",
    "Z = \\frac{\\bar{X} - \\mu_0}{\\sigma/\\sqrt{n}}\n",
    "$$\n",
    "\n",
    "is approximately normal under the assumption that the population mean $\\mu$ is equal to $\\mu_0$. Similarly for the case where $\\sigma$ is unknown, when a large-sample was used, we can approximate $\\sigma$ with sample standard deviation $s$ so that\n",
    "\n",
    "$$\n",
    "Z = \\frac{\\bar{X} - \\mu_0}{s/\\sqrt{n}}\n",
    "$$\n",
    "\n",
    "is also approximately normal. Thus, we can used the same test procedure as in the case of normal population with variance known to perform a *approximately* $\\alpha$ level test, replacing $\\sigma$ with $s$ when it is required. "
   ]
  },
  {
   "cell_type": "markdown",
   "id": "09b823be-975d-4dc9-8f65-421e8926d7b0",
   "metadata": {},
   "source": [
    "<span style=\"color: green;\"><b><u>Example</u></b></span>\n",
    "A dynamic cone penetrometer (DCP) is used for measuring material resistance to penetration (mm/blow) as a cone is driven into pavement or subgrade. Suppose that for a particular application it is required that the true average DCP value for a certain type of pavement be less than $30$. The pavement will not be used unless there is conclusive evidence that the specification has been met. Let's state and test the appropriate hypotheses using the following data:"
   ]
  },
  {
   "cell_type": "code",
   "execution_count": 11,
   "id": "5806bd92-3b9c-4937-a298-0f90232d3359",
   "metadata": {},
   "outputs": [
    {
     "data": {
      "text/plain": [
       "count    52.000000\n",
       "mean     28.761538\n",
       "std      12.264698\n",
       "min      14.100000\n",
       "25%      18.275000\n",
       "50%      27.500000\n",
       "75%      35.000000\n",
       "max      57.000000\n",
       "dtype: float64"
      ]
     },
     "execution_count": 11,
     "metadata": {},
     "output_type": "execute_result"
    }
   ],
   "source": [
    "DCP = pd.Series([\n",
    "    14.1 ,14.5 ,15.5 ,16.0 ,16.0 ,16.7 ,16.9 ,17.1 ,17.5 ,17.8,\n",
    "    17.8 ,18.1 ,18.2 ,18.3 ,18.3 ,19.0 ,19.2 ,19.4 ,20.0 ,20.0,\n",
    "    20.8 ,20.8 ,21.0 ,21.5 ,23.5 ,27.5 ,27.5 ,28.0 ,28.3 ,30.0,\n",
    "    30.0 ,31.6 ,31.7 ,31.7 ,32.5 ,33.5 ,33.9 ,35.0 ,35.0 ,35.0,\n",
    "    36.7 ,40.0 ,40.0 ,41.3 ,41.7 ,47.5 ,50.0 ,51.0 ,51.8 ,54.4,\n",
    "    55.0 ,57.0\n",
    "])\n",
    "DCP.describe()"
   ]
  },
  {
   "cell_type": "code",
   "execution_count": 21,
   "id": "0e9daadc-b697-4175-82a3-7ac7473f851a",
   "metadata": {
    "jupyter": {
     "source_hidden": true
    }
   },
   "outputs": [
    {
     "data": {
      "image/png": "[encoded data removed]",
      "text/plain": [
       "<Figure size 800x300 with 1 Axes>"
      ]
     },
     "metadata": {},
     "output_type": "display_data"
    }
   ],
   "source": [
    "fig, ax = plt.subplots(1,1,figsize=(8,3))\n",
    "\n",
    "ax.hist(DCP, edgecolor=\"k\", bins=9)\n",
    "ax.set_title(\"Histogram of DCP\");"
   ]
  },
  {
   "cell_type": "markdown",
   "id": "54efb6f7-dd29-4c5b-a780-72dd49737dbf",
   "metadata": {},
   "source": [
    "The sample mean DCP is less than $30$. However, there is a substantial amount of variation in the data, so the fact that the mean is less\n",
    "than the design specification cutoff may be a consequence just of sampling variability. Notice that the histogram does not resemble at all a normal curve, but the large-sample $z$ tests do not require a normal population distribution."
   ]
  },
  {
   "cell_type": "markdown",
   "id": "7c475d88-6921-4f31-ae0e-ed4b4037c4d5",
   "metadata": {},
   "source": [
    "Let $\\mu$ be the true average DCP value.\n",
    "\n",
    "1. Null hypothesis: $H_0: \\mu = 30$.\n",
    "2. Alternative hypothesis: $H_1: \\mu < 30$ (in this setup, the pavement will not be accepted unless the null got rejected).\n",
    "3. Test statistic value: $$ z = \\frac{28.7615 - 30}{12.2647/\\sqrt{52}} = -0.7283. $$\n",
    "4. Critical region: Let's use $.05$ level of significant, so we will reject $H_0$ when $z \\le -z_{0.05} = -1.645$ (a lower-tailed test).\n",
    "5. Decision: Since $z = -0.7283 > -1.645$, the value of the test statistic does not fall into the rejection region. Thus, we **cannot reject $H_0$**, so the use of the pavement is not justify."
   ]
  },
  {
   "cell_type": "markdown",
   "id": "cb2e572f-9c94-4f64-97cc-97c40fcc4bd6",
   "metadata": {},
   "source": [
    "---\n",
    "<h3 style=\"color: green; font-size: 16pt;\">The Case of Normal Population in General</h3>"
   ]
  },
  {
   "cell_type": "markdown",
   "id": "337b3dfb-b773-4c2c-864b-1d34570bb3da",
   "metadata": {},
   "source": [
    "Another case to consider is for a normal population with $\\sigma$ unknown but the sample size $n$ is not sufficiently large enough to use $s$ to approximate $\\sigma$. The distribution that can handle this situation, as discussed in Chapter 6, is the Student $t$-distribution. Similar to confident intervals, the test procedure can be done the same way as in previous case by using the sample deviation $s$ to estimate $\\sigma$ and replace $z$ value with $t$ value instead."
   ]
  },
  {
   "cell_type": "markdown",
   "id": "7f3c08fb-dcdb-404f-9d0c-32ac4846b6f4",
   "metadata": {},
   "source": [
    "> <div style=\"color: green;\"><b>Test Procedure for $\\mu$ of Normal Population when $\\sigma$ is Unknown</b></div>\n",
    "> \n",
    "> For a test procedure with significance of $\\alpha$ about mean $\\mu$ of a normal population. Null hypothesis: $H_0: \\mu = \\mu_0$, \n",
    "> \n",
    "<table><thead>\n",
    "  <tr>\n",
    "    <th>Null Hypothesis</th>\n",
    "    <th>Test Statistic</th>\n",
    "    <th>Alternative Hypothesis</th>\n",
    "    <th>Rejection Region for Level $\\alpha$ Test</th>\n",
    "  </tr></thead>\n",
    "<tbody>\n",
    "  <tr>\n",
    "    <td rowspan=\"3\">$$H_0: \\mu = \\mu_0$$</td>\n",
    "    <td rowspan=\"3\">$$t = \\frac{\\bar{x} - \\mu_0}{s/\\sqrt{n}}$$</td>\n",
    "    <td>$H_1: \\mu > \\mu_0$</td>\n",
    "    <td>$t \\ge t_{\\alpha;n-1}$</td>\n",
    "  </tr>\n",
    "  <tr>\n",
    "    <td>$H_1: \\mu < \\mu_0$</td>\n",
    "    <td>$t \\le -t_{\\alpha;n-1}$</td>\n",
    "  </tr>\n",
    "  <tr>\n",
    "    <td>$H_1: \\mu \\ne \\mu_0$</td>\n",
    "    <td>either $t \\ge t_{\\alpha/2;n-1}$ or $t \\le -t_{\\alpha/2;n-1}$</td>\n",
    "  </tr>\n",
    "</tbody>\n",
    "</table>"
   ]
  },
  {
   "cell_type": "markdown",
   "id": "1c05c4fc-d937-4c5b-9e1d-f718b4fe89ab",
   "metadata": {},
   "source": [
    "<span style=\"color: green;\"><b><u>Example</u></b></span>\n",
    "Glycerol is a major by-product of ethanol fermentation in wine production and contributes to the sweetness, body, and fullness of wines. A particular batch of wine includes the following observations on glycerol concentration (mg/mL) for samples of standard-quality white wines: $2.67, 4.62, 4.14, 3.81, 3.83$. Suppose the desired concentration value is $4$. Does the sample data suggest that true average concentration is something other than the desired value?"
   ]
  },
  {
   "cell_type": "markdown",
   "id": "3d550a24-8d71-48c9-81eb-506ff4bd37c8",
   "metadata": {},
   "source": [
    "Even though the sample size is very small, some analysis provides strong support for assuming that the population distribution of glycerol concentration is normal. Thus, a $t$ test can be carried out for this problem. (The probability plot Q-Q plot shown below is a tool used to determine normality in data, linear points imply normal distribution.)"
   ]
  },
  {
   "cell_type": "code",
   "execution_count": 28,
   "id": "39fa5de1-ec8d-44dd-b562-f3b2ad62670b",
   "metadata": {
    "jupyter": {
     "source_hidden": true
    }
   },
   "outputs": [
    {
     "data": {
      "image/png": "[encoded data removed]",
      "text/plain": [
       "<Figure size 800x300 with 1 Axes>"
      ]
     },
     "metadata": {},
     "output_type": "display_data"
    }
   ],
   "source": [
    "fig, ax = plt.subplots(1,1,figsize=(8,3))\n",
    "\n",
    "ax.grid()\n",
    "probplot([2.67, 4.62, 4.14, 3.81, 3.83], plot=ax);"
   ]
  },
  {
   "cell_type": "markdown",
   "id": "ec3b88f5-7ab0-4a4c-94cf-56028d5d275f",
   "metadata": {},
   "source": [
    "Let $\\mu$ be the true average value of glycerol concentration (mg/mL) of standard-quality white wines.\n",
    "\n",
    "1. Null hypothesis: $H_0: \\mu = 4$.\n",
    "2. Alternative hypothesis: $H_1: \\mu \\ne 4$.\n",
    "3. Test statistic value: the sample mean and standard deviation is $\\bar{x}=3.814$ and $s=0.7185$ so $$ t = \\frac{3.814 - 4}{0.7185/\\sqrt{5}} = -0.5788. $$\n",
    "4. Critical region: Let's use $.05$ level of significant, so we will reject $H_0$ when $t$ is outside the range $\\pm t_{0.025;4}$ that is when $t$ is outside $-2.776 < t < 2.776$ (a two-tailed test).\n",
    "5. Decision: Clearly, $t$ is outside the rejection region ($-2.776 < t = -0.5788 < 2.776$). Therefore, it is still plausible that $\\mu=4$."
   ]
  },
  {
   "cell_type": "markdown",
   "id": "31a53c16-b408-49f8-9004-a753b32acc2d",
   "metadata": {},
   "source": [
    "<div style=\"widht:100%; height:20px; background-color:olive;\"></div>"
   ]
  },
  {
   "cell_type": "markdown",
   "id": "2737fc57-f09a-4a87-ac80-1b23eed8dbc9",
   "metadata": {},
   "source": [
    "## Tests About a Population Proportion"
   ]
  },
  {
   "cell_type": "markdown",
   "id": "86e93df0-cc3c-4b4a-a318-b0c1726d3fed",
   "metadata": {},
   "source": [
    "---\n",
    "<h3 style=\"color: green; font-size: 16pt;\">Large-Sample Tests</h3>"
   ]
  },
  {
   "cell_type": "markdown",
   "id": "4cab0ef4-6665-4d6f-a1d6-d2d26b0c8cb2",
   "metadata": {},
   "source": [
    "If $\\hat{p}$ is a sample proportion and a point estimator for the population proportion $p$, we know that $p$ is equivalent to the mean of a Bernoulli population. So, by the CLT,\n",
    "\n",
    "$$\n",
    "Z = \\frac{\\hat{p} - p}{\\sqrt{p(1-p)/n}}\n",
    "$$\n",
    "\n",
    "has approximately a standard normal distribution if the sample size $n$ is sufficiently large (typically $n \\ge 30, np \\ge 5, n(1-p) \\ge 5$). Thus, given a null hypothesis about the proportion as $H_0: p=p_0$, when $H_0$ is true and the sample is large, we can say that\n",
    "\n",
    "$$\n",
    "Z = \\frac{\\hat{p} - p_0}{\\sqrt{p_0(1-p_0)/n}} \\sim N(0,1).\n",
    "$$\n",
    "\n",
    "With all these information, we can used almost the same $z$ test procedure done for a mean."
   ]
  },
  {
   "cell_type": "markdown",
   "id": "fd2c7208-db33-4a7d-95d0-ca189a0eaec5",
   "metadata": {},
   "source": [
    "> <div style=\"color: green;\"><b>Test Procedure for $p$ with a Large-Sample</b></div>\n",
    "> \n",
    "> For a test procedure with significance of $\\alpha$  about proportion $p$ of a population, given that the sample size $n$ is sufficiently large. And as a rule of thumb, the test procedure is valid when $np_0 \\ge 10$ and $n(1-p_0) \\ge 10$.\n",
    "> \n",
    "<table><thead>\n",
    "  <tr>\n",
    "    <th>Null Hypothesis</th>\n",
    "    <th>Test Statistic</th>\n",
    "    <th>Alternative Hypothesis</th>\n",
    "    <th>Rejection Region for Level $\\alpha$ Test</th>\n",
    "  </tr></thead>\n",
    "<tbody>\n",
    "  <tr>\n",
    "    <td rowspan=\"3\">$$H_0: p = p_0$$</td>\n",
    "    <td rowspan=\"3\">$$z = \\frac{\\hat{p} - p_0}{\\sqrt{p_0(1-p_0)/n}}$$</td>\n",
    "    <td>$H_1: p > p_0$</td>\n",
    "    <td>$z \\ge z_{\\alpha}$</td>\n",
    "  </tr>\n",
    "  <tr>\n",
    "    <td>$H_1: p < p_0$</td>\n",
    "    <td>$z \\le -z_{\\alpha}$</td>\n",
    "  </tr>\n",
    "  <tr>\n",
    "    <td>$H_1: p \\ne p_0$</td>\n",
    "    <td>either $z \\ge z_{\\alpha/2}$ or $z \\le -z_{\\alpha/2}$</td>\n",
    "  </tr>\n",
    "</tbody>\n",
    "</table>"
   ]
  },
  {
   "cell_type": "markdown",
   "id": "ec23613b-494e-47f4-8e35-67953a53f600",
   "metadata": {},
   "source": [
    "<span style=\"color: green;\"><b><u>Example</u></b></span>\n",
    "Natural cork in wine bottles is subject to deterioration, and as a result wine in such bottles may experience contamination. In a tasting of commercial chardonnays, $16$ of $91$ bottles were considered spoiled to some extent by cork-associated characteristics. Does this data provide strong evidence for concluding that more than $15\\%$ of all such bottles are contaminated in this way? Let's carry out a test of hypotheses using a significance level of $.10$."
   ]
  },
  {
   "cell_type": "markdown",
   "id": "a730dde1-ea9a-44c0-bf30-1e984d76b6d4",
   "metadata": {},
   "source": []
  },
  {
   "cell_type": "markdown",
   "id": "6ee33f37-97b5-42d4-909f-04484147032a",
   "metadata": {},
   "source": [
    "Let $p$ be the true proportion of all commercial chardonnay bottles considered spoiled to some extent by cork-associated characteristics.\n",
    "\n",
    "1. The null hypothesis is $H_0: p = 0.15$.\n",
    "2. The alternative hypothesis is $H_1: p > 0.15$.\n",
    "3. Test statistic value: Since $np_0 = (91)(.15) = 13.65$ and $n(1-p_0) = (91)(.85) = 77.35$ both greater than $10$, the large-sample $z$ test can be used with the test statistic value $$ z = \\frac{16/91 - 0.15}{\\sqrt{(0.15)(0.85)/91}} = 0.690. $$\n",
    "4. For a significance of $\\alpha=0.1$, the bounds for rejecting $H_0$ is $z \\ge z_{0.1}$, which is $z \\ge 1.28$.\n",
    "5. Decision: Since $0.69 < 1.28$, the test statistic does not fall into the rejection region. Thus, we cannot reject $H_0$ t significance level of $0.1$. Although the sample proportion $\\hat{p} = 16/91 = 0.1758$ is quite larger that the assumption of $p=0.15$ but the difference is still not enough to assert that $p > 0.15$ when taking into account the variability. "
   ]
  },
  {
   "cell_type": "markdown",
   "id": "c3b42da0-118c-45a2-bb6f-b7c81fe35b60",
   "metadata": {},
   "source": [
    "---\n",
    "<h3 style=\"color: green; font-size: 16pt;\">Small-Sample Tests</h3>"
   ]
  },
  {
   "cell_type": "markdown",
   "id": "f7218e87-3403-4497-ae89-2aa164799e4f",
   "metadata": {},
   "source": [
    "Test procedures when the sample size $n$ is small are based directly on the binomial distribution rather than the normal approximation. Consider the alternative hypothesis $H_1: p > p_0$ as an example and again let $X$ be the number of successes in the sample. Then $X$ is the test statistic, and the upper-tailed rejection region has the form $x \\ge c$. When $H_0: p=p_0$ is true, $X$ has a binomial distribution with parameters $n$ and $p_0$, so\n",
    "\n",
    "$$\n",
    "\\begin{align*}\n",
    "\\alpha  &= P(H_0 \\text{ is rejected when it is true}) \\\\\n",
    "        &= P(X \\ge c \\text{ when } X \\sim B(n, p_0)) \\\\\n",
    "        &= 1 - B(c - 1;\\ n, p_0).\n",
    "\\end{align*}\n",
    "$$"
   ]
  },
  {
   "cell_type": "markdown",
   "id": "b27af672-9b34-4a8d-8c2c-6addf30a0d49",
   "metadata": {},
   "source": [
    "So one can find a appropriate critical value $c$ from the binomial sum table for a $\\alpha$ level of significance test. Because $X$ has a discrete probability distribution, it is usually not possible to find a value of $c$ for which $\\alpha$ is exactly the desired significance level (e.g., $.05$ or $.01$). Instead, the value of $c$ that create the largest rejection region satisfying $P(\\text{type I error}) \\le \\alpha$ is used."
   ]
  },
  {
   "cell_type": "markdown",
   "id": "fbbdd545-706a-4d8e-a299-7be1212fe9b5",
   "metadata": {},
   "source": [
    "Or in another way, one can test a hypothesis about a proportion by computing the probability of observing a proportion *at least as extreme as* the observed sample (this probability is called $P$-value) value when assuming that $H_0$ is true, and then reject $H_0$ only if the probability is less than or equal to the specify significance of the test. The following example will illustrate this method. "
   ]
  },
  {
   "cell_type": "markdown",
   "id": "da0bec28-b06c-4248-a832-0636efe3c6ef",
   "metadata": {},
   "source": [
    "<span style=\"color: green;\"><b><u>Example</u></b></span>\n",
    "A builder claims that heat pumps are installed in $70\\%$ of all homes being constructed today in the city of Richmond, Virginia. Would you agree with this claim if a random survey of new homes in this city showed that $8$ out of $15$ had heat pumps installed? Use a $0.10$ level of significance."
   ]
  },
  {
   "cell_type": "markdown",
   "id": "17f4bc2b-0ac9-4541-99b1-652178cd3f7a",
   "metadata": {},
   "source": [
    "Let $p$ be the true proportion of all homes all homes being constructed today in the city of Richmond, Virginia with heat pumps installed.\n",
    "\n",
    "1. $H_0: p = 0.70$.\n",
    "2. $H_1: p \\ne 0.70$.\n",
    "3. Test statistic value: For $X \\sim b(15, 0.70)$ with $\\mu = (15)(0.70) = 10.5$, the probability of seeing $x$ value as extreme as $8$ successes is $$ 2P(X \\le 8) = 2B(8; 15, 0.70) = 0.2623.  $$\n",
    "4. Decision: Since $0.2623 > 0.10$, we cannot reject $H_0$. Conclude that there is insufficient reason to doubt the builder's claim."
   ]
  }
 ],
 "metadata": {
  "kernelspec": {
   "display_name": "Python 3 (ipykernel)",
   "language": "python",
   "name": "python3"
  },
  "language_info": {
   "codemirror_mode": {
    "name": "ipython",
    "version": 3
   },
   "file_extension": ".py",
   "mimetype": "text/x-python",
   "name": "python",
   "nbconvert_exporter": "python",
   "pygments_lexer": "ipython3",
   "version": "3.12.9"
  }
 },
 "nbformat": 4,
 "nbformat_minor": 5
}
