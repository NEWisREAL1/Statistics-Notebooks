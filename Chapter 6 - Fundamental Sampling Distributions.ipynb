{
 "cells": [
  {
   "cell_type": "markdown",
   "id": "2e455fe0-43c7-423c-bfb8-62deb09e9671",
   "metadata": {},
   "source": [
    "# Fundamental Sampling Distributions"
   ]
  },
  {
   "cell_type": "code",
   "execution_count": 1,
   "id": "11387e39-6e42-4c6c-adf9-f7f17aed7b5d",
   "metadata": {},
   "outputs": [],
   "source": [
    "import numpy as np\n",
    "import pandas as pd\n",
    "import matplotlib.pyplot as plt\n",
    "from scipy.stats import norm"
   ]
  }
 ],
 "metadata": {
  "kernelspec": {
   "display_name": "Python 3 (ipykernel)",
   "language": "python",
   "name": "python3"
  },
  "language_info": {
   "codemirror_mode": {
    "name": "ipython",
    "version": 3
   },
   "file_extension": ".py",
   "mimetype": "text/x-python",
   "name": "python",
   "nbconvert_exporter": "python",
   "pygments_lexer": "ipython3",
   "version": "3.12.9"
  }
 },
 "nbformat": 4,
 "nbformat_minor": 5
}
