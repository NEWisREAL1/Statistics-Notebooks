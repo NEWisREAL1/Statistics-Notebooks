{
 "cells": [
  {
   "cell_type": "markdown",
   "id": "dccb87d0-6e82-4be4-8a08-f4599b242968",
   "metadata": {},
   "source": [
    "# Chapter 5 - Mathematical Expectation"
   ]
  },
  {
   "cell_type": "code",
   "execution_count": 1,
   "id": "2b4c3fbf-4bc0-48cc-ab6a-6d6a1920c90d",
   "metadata": {},
   "outputs": [],
   "source": [
    "import numpy as np\n",
    "import pandas as pd\n",
    "import matplotlib.pyplot as plt\n",
    "np.random.seed(999)"
   ]
  },
  {
   "cell_type": "markdown",
   "id": "8e543ef4-99d5-4121-8172-9371375e0cdf",
   "metadata": {},
   "source": [
    "<img src=\"https://newisreal1.github.io/Statistics-Notebooks/img/dividers/yellow-orange.png\" alt=\"divider\" style=\"width: 100%; height:20px;\">"
   ]
  }
 ],
 "metadata": {
  "kernelspec": {
   "display_name": "Python 3 (ipykernel)",
   "language": "python",
   "name": "python3"
  },
  "language_info": {
   "codemirror_mode": {
    "name": "ipython",
    "version": 3
   },
   "file_extension": ".py",
   "mimetype": "text/x-python",
   "name": "python",
   "nbconvert_exporter": "python",
   "pygments_lexer": "ipython3",
   "version": "3.12.8"
  }
 },
 "nbformat": 4,
 "nbformat_minor": 5
}
