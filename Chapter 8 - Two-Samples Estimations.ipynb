{
 "cells": [
  {
   "cell_type": "markdown",
   "id": "31ea556e-140a-4196-a0b6-f114315d6900",
   "metadata": {},
   "source": [
    "# Two-Samples Estimations"
   ]
  },
  {
   "cell_type": "code",
   "execution_count": 4,
   "id": "79266209-c332-4425-af8e-8688d2320942",
   "metadata": {},
   "outputs": [],
   "source": [
    "import numpy as np\n",
    "import pandas as pd\n",
    "import matplotlib.pyplot as plt\n",
    "from scipy.stats import norm\n",
    "from scipy.stats import f as f_dist"
   ]
  },
  {
   "cell_type": "markdown",
   "id": "55e48324-249b-46be-a5c0-836e495a7f1e",
   "metadata": {},
   "source": [
    "<div style=\"widht:100%; height:20px; background-color:lightsalmon;\"></div>"
   ]
  },
  {
   "cell_type": "markdown",
   "id": "fb67f93d-7e52-419b-a9f8-c810543bab0c",
   "metadata": {},
   "source": [
    "## Estimating the Difference Between Two Means"
   ]
  },
  {
   "cell_type": "markdown",
   "id": "23f454ec-c177-4959-8603-1a2eb64dbcf6",
   "metadata": {},
   "source": [
    "If we have two populations with means $\\mu_1$ and $\\mu_2$ and variances $\\sigma^2_1$ and $\\sigma^2_2$, respectively, a point estimator of the difference $\\mu_1 - \\mu_2$ is given by the statistic $\\bar{X}_1 - \\bar{X}_2$. Therefore, to obtain a point estimate of $\\mu_1 - \\mu_2$, we shall select **two independent random samples**, one from each population, of sizes $n_1$ and $n_2$, and compute $\\bar{x}_1 - \\bar{x}_2$, the difference of the sample means. Clearly, we must consider the sampling distribution of $\\bar{X}_1 - \\bar{X}_2$."
   ]
  },
  {
   "cell_type": "markdown",
   "id": "05c801d5-7b7b-4f04-a4ea-51db81cc4736",
   "metadata": {},
   "source": [
    "From Chapter 6, it is known that the mean and the variance of $\\bar{X}_1 - \\bar{X}_2$ is given by\n",
    "\n",
    "$$\n",
    "\\mu_{\\bar{X}_1 - \\bar{X}_2} = \\mu_1 - \\mu_2 \\quad\\text{and}\\quad \\sigma^2_{\\bar{X}_1 - \\bar{X}_2} = \\frac{\\sigma^2_1}{n_1} + \\frac{\\sigma^2_2}{n_2} \n",
    "$$\n",
    "\n",
    "respectively, and that\n",
    "\n",
    "$$\n",
    "Z = \\frac{(\\bar{X}_1 - \\bar{X}_2) - (\\mu_1 - \\mu_2)}{\\sqrt{\\sigma^2_1/n_1 + \\sigma^2_2/n_2}}\n",
    "$$\n",
    "\n",
    "is approximately normal for large samples (or exactly normal if the populations are normal). Therefore, we can assert\n",
    "\n",
    "$$\n",
    "P(-z_{\\alpha/2} < Z < z_{\\alpha/2}) = 1 - \\alpha\n",
    "$$\n",
    "\n",
    "Substituting $Z$  leads to the formula for a confidence interval for $\\mu_1 - \\mu_2$. "
   ]
  },
  {
   "cell_type": "markdown",
   "id": "1dc82a3b-2cc6-400c-95b6-ba4ac6032028",
   "metadata": {},
   "source": [
    "> <div style=\"color: green;\"><b>CI on $\\mu_1 - \\mu_2$ of Independent Samples with $\\sigma^2_1$ and $\\sigma^2_2$ Known</b></div>\n",
    "> \n",
    "> If $\\bar{x}_1$ and $\\bar{x}_2$ are means of **independent random samples** of sizes $n_1$ and $n_2$ from populations with known variances \n",
    "> $\\sigma^2_1$ and $\\sigma^2_2$, respectively, a $100(1-\\alpha)\\%$ confidence interval for $\\mu_1 - \\mu_2$ is given by\n",
    "> $$ (\\bar{x}_1 - \\bar{x}_2) \\pm z_{\\alpha/2}\\sqrt{\\frac{\\sigma^2_1}{n_1} + \\frac{\\sigma^2_2}{n_2}}, $$\n",
    "> where $z_{\\alpha/2}$ is the $z$-value leaving an area of $\\alpha/2$ to the right."
   ]
  },
  {
   "cell_type": "markdown",
   "id": "4e1741c8-d289-4148-a665-6e1a832532f4",
   "metadata": {},
   "source": [
    "Do note again that the degree of confidence is exact when samples are selected from normal populations. For non-normal populations, the Central Limit Theorem allows for a good approximation for reasonable size samples, typically $n_1,n_2 \\ge 30$. Additionally, even if $\\sigma^2_1$ and $\\sigma^2_2$ are unknown but the samples are sufficiently large enough to assert that $\\sigma^2_1 \\approx s^2_1$ and $\\sigma^2_2 \\approx s^2_2$ is a good approximation, then, the formula stated above can also be used to approximate a confidence interval."
   ]
  },
  {
   "cell_type": "markdown",
   "id": "751df925-c8e3-4ad4-aaa8-acb785b38725",
   "metadata": {},
   "source": [
    "<span style=\"color: green;\"><b><u>Example</u></b></span> A study was conducted in which two types of engines, $A$ and $B$, were compared. Gas mileage, in miles per gallon, was measured. $50$ experiments were conducted using engine type $A$ and $75$ experiments were done with engine type $B$. The conditions were held constant for every experiments. The average gas mileage was $36$ miles per gallon for engine $A$ and $42$ miles per gallon for engine $B$. Find a $96\\%$ confidence interval on $\\mu_B - \\mu_A$. Assume that the population standard deviations are $6$ and $8$ for engines $A$ and $B$, respectively."
   ]
  },
  {
   "cell_type": "markdown",
   "id": "5d36dc3d-20e7-4681-8490-f12f9b5a4ddf",
   "metadata": {},
   "source": [
    "A point estimate of $\\mu_B - \\mu_A$ is $\\bar{x}_B - \\bar{x}_A = 42 - 36 = 6$. Using $\\alpha=0.04$ for confidence level of $96\\%$, we find $z_{0.02}=2.05$. Hence, the $96\\%$ confidence interval is given by the bounds\n",
    "\n",
    "$$\n",
    "6 \\pm 2.05 \\cdot \\sqrt{\\frac{8^2}{75} + \\frac{6^2}{50}}\n",
    "$$\n",
    "\n",
    "or simply $3.43 < \\mu_B - \\mu_A < 8.57$."
   ]
  },
  {
   "cell_type": "markdown",
   "id": "cd24f08d-9fc3-43f1-a3a9-376475c6e492",
   "metadata": {},
   "source": [
    "---\n",
    "<h3 style=\"color: green; font-size: 16pt;\">The Case of Variances Unknown but Equal</h3>"
   ]
  },
  {
   "cell_type": "markdown",
   "id": "340b92ec-118e-41dd-9b77-4eb8012d74d4",
   "metadata": {},
   "source": [
    "Consider the case where $\\sigma^2_1$ and $\\sigma^2_2$ are unknown. If $\\sigma^2_1 = \\sigma^2_2 = \\sigma^2$, we obtain a standard normal variable of the form\n",
    "\n",
    "$$\n",
    "Z = \\frac{(\\bar{X}_1 - \\bar{X}_2) - (\\mu_1 - \\mu_2)}{\\sqrt{\\sigma^2(1/n_1 + 1/n_2)}}\n",
    "$$\n",
    "\n",
    "One can show that when the samples are independent, the sums between two statistics\n",
    "\n",
    "$$\n",
    "V = \\frac{(n_1 - 1)S^2_1}{\\sigma^2} + \\frac{(n_2 - 1)S^2_2}{\\sigma^2} = \\frac{(n_1 - 1)S^2_1 + (n_2 - 2)S^2_2}{\\sigma^2}\n",
    "$$\n",
    "\n",
    "has a chi-squared distribution with $v = n_1 + n_2 - 2$ degrees of freedom. According to definition of $t$-distribution, we can conclude that\n",
    "\n",
    "$$\n",
    "T = \\frac{Z}{\\sqrt{V/v}}\n",
    "$$\n",
    "\n",
    "has the $t$-distribution with $v = n_1 - n_2 - 2$ degrees of freedom."
   ]
  },
  {
   "cell_type": "markdown",
   "id": "385ba813-b67a-4422-bd37-00b34ff0c784",
   "metadata": {},
   "source": [
    "> Define $S^2_p$ to be a **pooled estimator** of $\\sigma^2$ given by\n",
    "> $$ S^2_p = \\sigma^2\\frac{V}{v} = \\frac{(n_1 - 1)S^2_1 + (n_2 - 2)S^2_2}{n_1 + n_2 - 2} $$"
   ]
  },
  {
   "cell_type": "markdown",
   "id": "c77d991e-b261-438d-9c21-e0ee1d931f30",
   "metadata": {},
   "source": [
    "Substituting $S^2_p$ in the $T$ statistic, we can write $T$ explicitly in a less cumbersome form\n",
    "\n",
    "$$\n",
    "T = \\frac{(\\bar{X}_1 - \\bar{X}_2) - (\\mu_1 - \\mu_2)}{S_p\\sqrt{1/n_1 + 1/n_2}}.\n",
    "$$\n",
    "\n",
    "Now using $t$-distribution, we obtain the following definition for confidence interval:"
   ]
  },
  {
   "cell_type": "markdown",
   "id": "43f7eb4b-1d10-4d92-b14f-71714ba0efcb",
   "metadata": {},
   "source": [
    "> <div style=\"color: green;\"><b>CI on $\\mu_1 - \\mu_2$ of Independent Samples with $\\sigma^2_1$ and $\\sigma^2_2$ Both Unknown but Equal</b></div>\n",
    "> \n",
    "> If $\\bar{x}_1$ and $\\bar{x}_2$ are the means of independent random samples of sizes $n_1$ and $n_2$, respectively, \n",
    "> from approximately normal populations with unknown but equal variances, a $100(1-\\alpha)\\%$ confidence interval for $\\mu_1 - \\mu_2$ is given by\n",
    "> $$ (\\bar{x}_1 - \\bar{x}_2) \\pm t_{\\alpha/2}s_p\\sqrt{\\frac{1}{n_1} + \\frac{1}{n_2}}, $$\n",
    "> where $s_p$ is the pooled estimate of the population standard deviation and $t_{\\alpha/2}$ is the $t$-critical value with $v = n_1 + n_2 - 2$ degrees of freedom, leaving an area of $\\alpha/2$ to the right."
   ]
  },
  {
   "cell_type": "markdown",
   "id": "523ec278-1b47-4f90-9c68-8fe413e345b4",
   "metadata": {},
   "source": [
    "<span style=\"color: green;\"><b><u>Example</u></b></span>\n",
    "In a environment pollution research to determine the relationship between selected physiochemical parameters and different measures of macroinvertebrate community structure. One facet of the investigation was an evaluation of the effectiveness of a numerical species diversity index to indicate aquatic degradation due to acid mine drainage. Conceptually, a high index of macroinvertebrate species diversity should indicate an unstressed aquatic system, while a low diversity index should indicate a stressed aquatic system.\n",
    "\n",
    "Two independent sampling stations were chosen for this study, one located downstream from the acid mine discharge point and the other located upstream. For $12$ monthly samples collected at the downstream station, the species diversity index had a mean value $\\bar{x}_1 = 3.11$ and a standard deviation $s_1 = 0.771$, while $10$ monthly samples collected at the upstream station had a mean index value $\\bar{x}_2 = 2.04$ and a standard deviation $s_2 = 0.448$. Find a $90\\%$ confidence interval for the difference between the population means for the two locations, assuming that the populations are approximately normally distributed with equal variances."
   ]
  },
  {
   "cell_type": "markdown",
   "id": "ac22b107-aaed-4fc9-bd56-c3c2a0302c6f",
   "metadata": {},
   "source": [
    "We which to find a $90\\%$ confidence interval for $\\mu_1 - \\mu_2$, the difference between diversity index at the downstream and upstream stations. Our point estimate of $\\mu_1 - \\mu_2$ from the measurements is\n",
    "\n",
    "$$\n",
    "\\bar{x}_1 - \\bar{x}_2 = 3.11 - 2.04 = 1.07.\n",
    "$$\n",
    "\n",
    "The pooled estimate of the common variance is\n",
    "\n",
    "$$\n",
    "s^2_p = \\frac{(12-1)(0.771)^2 + (10-1)(0.448)^2}{12+10-2} = 0.417.\n",
    "$$\n",
    "\n",
    "Now, with $v=12+10-2=20$ degrees of freedom, we obtain $t_{0.05}=1.725$. Therefore, $90\\%$ confidence interval for $\\mu_1 - \\mu_2$ is given by the endpoints\n",
    "\n",
    "$$\n",
    "1.07 \\pm 1.725\\sqrt{0.417 \\cdot \\left( \\frac{1}{12} + \\frac{1}{10} \\right)}\n",
    "$$\n",
    "\n",
    "which simplifies to $0.593 < \\mu_1 - \\mu_2 < 1.547$."
   ]
  },
  {
   "cell_type": "markdown",
   "id": "068eeb71-9024-4a29-a64b-67787b40181f",
   "metadata": {},
   "source": [
    "---\n",
    "<h3 style=\"color: green; font-size: 16pt;\">The Case of Unknown and Unequal Variances</h3>"
   ]
  },
  {
   "cell_type": "markdown",
   "id": "ff65eb08-940e-43d2-938e-a3291b3ee171",
   "metadata": {},
   "source": [
    "In the case that the variances $\\sigma^2_1$ and $\\sigma^2_2$ are both unknown and unequal, the statistics most often used to find a confidence interval in this case is\n",
    "\n",
    "$$\n",
    "T' = \\frac{(\\bar{X}_1 - \\bar{X}_2) - (\\mu_1 - \\mu_2)}{\\sqrt{S^2_1/n_1 + S^2_2/n_2}}\n",
    "$$\n",
    "\n",
    "which has approximately $t$-distribution with degrees of freedom given by\n",
    "\n",
    "$$\n",
    "v = \\frac{\\left(\\frac{s^2_1}{n_1} + \\frac{s^2_2}{n_2}\\right)^2}{\\frac{(s^2_1/n_1)^2}{n_1-1} + \\frac{(s^2_2/n_2)^2}{n_2-1}}\n",
    "$$"
   ]
  },
  {
   "cell_type": "markdown",
   "id": "0555e4c6-1c73-4d81-b272-bf5974713d2d",
   "metadata": {},
   "source": [
    "> <div style=\"color: green;\"><b>CI on $\\mu_1 - \\mu_2$ of Independent Samples with $\\sigma^2_1$ and $\\sigma^2_2$ Both Unknown and Unequal</b></div>\n",
    "> \n",
    "> If $\\bar{x}_1$ and $s^2_1$ and $\\bar{x}_2$ and $s^2_2$ are the means and variances of independent random samples of sizes $n_1$ and $n_2$, respectively, from approximately normal populations with unknown and unequal variances, an approximate $100(1-\\alpha)\\%$ confidence interval for $\\mu_1 - \\mu_2$ is given by\n",
    "> $$ (\\bar{x}_1 - \\bar{x}_2) \\pm t_{\\alpha/2}\\sqrt{\\frac{s^2_1}{n_1} + \\frac{s^2_2}{n_2}}, $$\n",
    "> where $t_{\\alpha/2}$ is the $t$-critical value with\n",
    "> $$ v = \\frac{({s^2_1}/{n_1} + {s^2_2}/{n_2})^2}{[{(s^2_1/n_1)^2}/{(n_1-1)}] + [{(s^2_2/n_2)^2}/{(n_2-1})]} $$\n",
    "degrees of freedom, leaving an area of $\\alpha/2$ to the right."
   ]
  },
  {
   "cell_type": "markdown",
   "id": "679299fb-265d-40ee-8c1f-39328d6e7c5f",
   "metadata": {},
   "source": [
    "Note that the expression for v above involves random variables, and thus $v$ is an estimate of the degrees of freedom (called the *Satterthwaite* approximation). In applications, this estimate will not result in a whole number, and thus the analyst must ***round down*** to the nearest integer to achieve the desired confidence."
   ]
  },
  {
   "cell_type": "markdown",
   "id": "7c75c913-abc2-4c8e-81a8-9e24fe7e8866",
   "metadata": {},
   "source": [
    "<span style=\"color: green;\"><b><u>Example</u></b></span>\n",
    "In a batch chemical process, two catalysts are being compared for their effect on the output of the process reaction. A sample of $36$ batches was prepared using catalyst 1 and a sample of $49$ batches was obtained using catalyst 2. The $36$ batches for which catalyst 1 was used gave an average yield of $85$ with a sample standard deviation of $4$, and the average for the second sample gave an average of $81$ and a sample standard deviation of $5$. Find a $90\\%$ confidence interval for the difference between the population means, assuming that the populations are approximately normally distributed. "
   ]
  },
  {
   "cell_type": "markdown",
   "id": "3ed84747-5eae-4c1d-88a6-0e3c561b9fbb",
   "metadata": {},
   "source": [
    "It is not known whether the standard deviation of two catalysts are equal or not, so we better assume that they are unequal. From the given sample data, the point estimate for $\\mu_1 - \\mu_2$ is\n",
    "\n",
    "$$\n",
    "x_1 - x_2 = 85 - 81 = 4.\n",
    "$$\n",
    "\n",
    "The $90\\%$ confidence interval for $\\mu_1 - \\mu_2$ is given by the endpoints\n",
    "\n",
    "$$\n",
    "\\begin{align*}\n",
    "(\\bar{x}_1 - \\bar{x}_2) \\pm t_{\\alpha/2}\\sqrt{\\frac{s^2_1}{n_1} + \\frac{s^2_2}{n_2}} &= 4 \\pm t_{0.05}\\sqrt{\\frac{4^2}{36} + \\frac{5^2}{49}} \\\\\n",
    "&= 4 \\pm 0.9771 \\cdot t_{0.05}\n",
    "\\end{align*}\n",
    "$$\n",
    "\n",
    "To determine $t_{0.05}$ we first needed to calculate the degrees of freedom\n",
    "\n",
    "$$\n",
    "v = \\frac{({4^2}/{36} + {5^2}/{49})^2}{[{(4^2/36)^2}/{(35)}] + [{(5^2/49)^2}/{(48})]} = 82.3500\n",
    "$$\n",
    "\n",
    "for which we round down to $v=82$, so we find $t_{0.05} = 1.664$. And thus, the confidence interval is given by $2.374 < \\mu_1 - \\mu_2 < 5.623$."
   ]
  },
  {
   "cell_type": "markdown",
   "id": "2222d63c-ce75-4bdd-b829-1b5bc6ebbd4d",
   "metadata": {},
   "source": [
    "---\n",
    "<h3 style=\"color: green; font-size: 16pt;\">Paired Observations</h3>\n",
    "\n",
    "To this point, we have only consider the procedures used to estimate the difference of two means when the samples are **independent**. Now we may consider the case where the samples are ***not* independent**"
   ]
  },
  {
   "cell_type": "markdown",
   "id": "d788f4a3-a7f9-4850-850b-5a8dbb653137",
   "metadata": {},
   "source": [
    "The situation considered here deals experimental condition called **paired observations**. Unlike in the situation described earlier, the conditions of the two populations are not assigned randomly to experimental units. Rather, *each homogeneous experimental unit receives both population conditions*; as a result, each experimental unit has a *pair of observations*, one for each population. \n",
    "\n",
    "For example, if we run a test on a new diet using 15 individuals, the weights before and after going on the diet form the information for our two samples. The two populations are \"before\" and \"after,\" and the experimental unit is the individual. Obviously, the observations in a pair have something in common (since it is the same individual). To determine if the diet is effective, we consider the differences $d_1, d_2, \\ldots, d_n$ in the paired observations. These differences are the values of a random sample $D_1, D_2, \\ldots, D_n$ from a population of differences that we shall assume to be normally distributed with mean $\\mu_D = \\mu_1 - \\mu_2$ and variance $\\sigma^2_D$. We estimate $\\sigma^2_D$ by $s^2_D$, the variance of the differences that constitute our sample. The point estimator of $\\mu_D$ is given by $\\bar{D}$."
   ]
  },
  {
   "cell_type": "markdown",
   "id": "e8807526-04ae-482a-b902-e181d1bdc795",
   "metadata": {},
   "source": [
    "It should be fairly clear by now that\n",
    "\n",
    "$$\n",
    "T = \\frac{\\bar{D} - \\mu_D}{s_d/\\sqrt{n}}\n",
    "$$\n",
    "\n",
    "has a $t$-distribution with $v=n-1$ degrees of freedom. From this, we can derive the confidence intervals for $\\mu_D$ as follows."
   ]
  },
  {
   "cell_type": "markdown",
   "id": "efcc0f6f-5947-4e9d-8b3d-80a3594a82ab",
   "metadata": {},
   "source": [
    "> <div style=\"color: green;\"><b>CI on $\\mu_D = \\mu_1 - \\mu_2$ of Paired Observations</b></div>\n",
    "> \n",
    "> If $\\bar{d}$ and $s_d$ are the mean and standard deviation, respectively, of the normally distributed differences of $n$ random **pairs of measurements**, a $100(1-\\alpha)\\%$ confidence interval for $\\mu_D = \\mu_1 - \\mu_2$ is\n",
    "> $$ \\bar{d} - t_{\\alpha/2}\\frac{s_d}{\\sqrt{n}} < \\mu_D < \\bar{d} + t_{\\alpha/2}\\frac{s_d}{\\sqrt{n}} $$ \n",
    "> where $t_{\\alpha/2}$ is the $t$-critical value with $v=n-1$ degrees of freedom, leaving an area of $\\alpha/2$ to the right, and $\\mu_D = \\mu_1 - \\mu_2$."
   ]
  },
  {
   "cell_type": "markdown",
   "id": "52a4e142-5089-4ed2-ad79-fe29fd492586",
   "metadata": {},
   "source": [
    "<span style=\"color: green;\"><b><u>Example</u></b></span>\n",
    "A study published in *Chemosphere* reported the levels of the dioxin TCDD of $20$ Massachusetts Vietnam veterans who were possibly exposed to Agent Orange. The TCDD levels in plasma and in fat tissue are listed in the table below. Find a $95\\%$ confidence interval for $\\mu_1 - \\mu_2$, where $\\mu_1$ and $\\mu_2$ represent the true mean TCDD levels in plasma and in fat tissue, respectively. Assume the distribution of the differences to be approximately normal."
   ]
  },
  {
   "cell_type": "markdown",
   "id": "b1fa12f8-91ff-49ee-a14d-3cbcd2082072",
   "metadata": {},
   "source": [
    "<center><img src=\"img/problem_figures/TCDD.png\" width=50%></center>"
   ]
  },
  {
   "cell_type": "markdown",
   "id": "d1ad51e7-b46c-42fe-b016-23a198e8661e",
   "metadata": {},
   "source": [
    "From the given data, we can calculate the mean difference $\\bar{d}$ and the sample standard deviation $s_d$:"
   ]
  },
  {
   "cell_type": "code",
   "execution_count": 2,
   "id": "9c63d08b-9fc1-4bde-a645-27fdbabd5672",
   "metadata": {},
   "outputs": [
    {
     "name": "stdout",
     "output_type": "stream",
     "text": [
      "d bar = -0.87\n",
      "s_d   = 2.9773\n"
     ]
    }
   ],
   "source": [
    "d_i = np.array(\n",
    "    [-2.4, -2.8, -2.3, -3.4, -3.9, -2.4, -4.0, -2.5, -5.0,  0.3,\n",
    "     -0.1,  0.4,  0.0,  0.2, -0.5,  0.7,  9.0, -0.5,  0.2,  1.6]\n",
    ")\n",
    "\n",
    "print(\"d bar =\", np.round(d_i.mean(), 4))\n",
    "print(\"s_d   =\", np.round(d_i.std(ddof=1), 4))"
   ]
  },
  {
   "cell_type": "markdown",
   "id": "dbadbad5-8335-48ae-badc-233373c5f615",
   "metadata": {},
   "source": [
    "Using $\\alpha=0.05$, we find $t_{0.025} = 2.093$ for $v=n-1=19$ degrees of freedom. Therefore, the $95\\%$ confidence interval is\n",
    "\n",
    "$$\n",
    "-0.8700 \\pm (2.093) \\cdot \\frac{2.9773}{\\sqrt{20}}\n",
    "$$\n",
    "\n",
    "or simply $-2.2934 < \\mu_1 - \\mu_2 < 0.5234$, from which we can conclude that there is no significant difference between the mean TCDD level in plasma and the mean TCDD level in fat tissue."
   ]
  },
  {
   "cell_type": "markdown",
   "id": "fce16649-5ca3-439a-a5eb-ac413ebaa54c",
   "metadata": {},
   "source": [
    "<div style=\"widht:100%; height:20px; background-color:lightsalmon;\"></div>"
   ]
  },
  {
   "cell_type": "markdown",
   "id": "751950b7-1b84-4f2d-a9f5-94941cdcc037",
   "metadata": {},
   "source": [
    "## Estimating Difference Between Two Proportions \n",
    "\n",
    "Similar to a single sample, for $p_1$ and $p_2$ representing proportion of two populations, we can use the fact that\n",
    "\n",
    "$$\n",
    "Z = \\frac{(\\hat{P}_1 - \\hat{P}_2) - \\mu_{\\hat{P}_1 - \\hat{P}_2}}{\\sigma_{\\hat{P}_1 - \\hat{P}_2}} \\sim N(0,1)\n",
    "$$\n",
    "\n",
    "where $\\mu_{\\hat{P}_1 - \\hat{P}_2} = p_1 - p_2$ and $\\sigma_{\\hat{P}_1 - \\hat{P}_2} = \\sqrt{p_1(1-p_1)/n_1 + p_2(1-p_2)/n_2}$ providing that the sample size is large enough for the CLT to take an effect or that the populations are normal. So we can write\n",
    "\n",
    "$$\n",
    "Z = \\frac{(\\hat{P}_1 - \\hat{P}_2) - (p_1 - p_2)}{\\sqrt{p_1(1-p_1)/n_1 + p_2(1-p_2)/n_2}}\n",
    "$$\n",
    "\n",
    "and we can assert that\n",
    "\n",
    "$$\n",
    "P\\left[ -z_{\\alpha/2} < \\frac{(\\hat{P}_1 - \\hat{P}_2) - (p_1 - p_2)}{\\sqrt{p_1(1-p_1)/n_1 + p_2(1-p_2)/n_2}} < z_{\\alpha/2} \\right] = 1-\\alpha.\n",
    "$$\n",
    "\n",
    "From this assertion, we derived the confidence intervals for $p_1 - p_2$ as follows."
   ]
  },
  {
   "cell_type": "markdown",
   "id": "54eab499-a2d9-4b5b-b53c-179caf76e6a8",
   "metadata": {},
   "source": [
    "> <div style=\"color: green;\"><b>CI on $p_1 - p_2$</b></div>\n",
    "> \n",
    "> If $\\hat{p}_1$ and $\\hat{p}_2$ are the proportions of successes in random samples of sizes $n_1$ and $n_2$, respectively, an approximate $100(1-\\alpha)\\%$ confidence interval for the difference of two binomial parameters, $p_1 - p_2$, is given by the endpoints\n",
    "> $$ (\\hat{p}_1 - \\hat{p}_2) \\pm z_{\\alpha/2}\\sqrt{\\frac{\\hat{p}_1(1-\\hat{p}_1)}{n_1} + \\frac{\\hat{p}_2(1-\\hat{p}_2)}{n_2}}$$\n",
    "> given that the samples size are sufficiently large enough for a normal approximation ($n_1,n_2 \\ge 30$) or that the populations are normal."
   ]
  },
  {
   "cell_type": "markdown",
   "id": "2d29437f-17ff-4b5a-a9b2-637edc7e27d3",
   "metadata": {},
   "source": [
    "<span style=\"color: green;\"><b><u>Example</u></b></span>\n",
    "A certain change in a process for manufacturing component parts is being considered. Samples are taken under both the existing and the new process so as to determine if the new process results in an improvement. If $75$ of $1500$ items from the existing process are found to be defective and $80$ of $2000$ items from the new process are found to be defective, find a $90\\%$ confidence interval for the true difference in the proportion of defectives between the existing and the new process."
   ]
  },
  {
   "cell_type": "markdown",
   "id": "653f53bb-612a-4cb7-a635-bbbd4fb930dc",
   "metadata": {},
   "source": [
    "Let $p_1$ and $p_2$ be the true proportion of defective items in the existing process and the new process respectively. Hence the point estimates of these parameters are $\\hat{p}_1 = 75/1000 = 0.075$  and $\\hat{p}_2 = 80/2000 = 0.04$ and the estimate of the difference is\n",
    "\n",
    "$$\n",
    "\\hat{p}_1 - \\hat{p}_2 = 0.075 - 0.04 = 0.035.\n",
    "$$\n",
    "\n",
    "Using $\\alpha=0.1$ for $90\\%$ confidence level, we can find $z_{0.05}=1.645$. Therefore the $90\\%$ confidence interval for $p_1 - p_2$ is given by the endpoints\n",
    "\n",
    "$$\n",
    "0.035 \\pm 1.645 \\sqrt{\\frac{(0.075)(0.925)}{1500} + \\frac{(0.04)(0.96)}{2000}}\n",
    "$$\n",
    "\n",
    "or simply $−0.0017 < p_1 - p_2 < 0.0217$. Since the interval contains the value 0, there is no reason to believe that the new process produces a significant decrease in the proportion of defectives over the existing method."
   ]
  },
  {
   "cell_type": "markdown",
   "id": "443c10b3-43a6-4edd-8dc2-ebcca5a1e29c",
   "metadata": {},
   "source": [
    "<div style=\"widht:100%; height:20px; background-color:lightsalmon;\"></div>"
   ]
  },
  {
   "cell_type": "markdown",
   "id": "7d577eb8-e0e3-4d56-a80d-70b9b65dbc84",
   "metadata": {},
   "source": [
    "## Estimating Ratio Between Two Variances"
   ]
  },
  {
   "cell_type": "markdown",
   "id": "39dbcaba-8ecb-4fac-aad8-51452d8c830b",
   "metadata": {},
   "source": [
    "If $\\sigma^2_1$ and $\\sigma^2_2$ are the variances of normal populations, we can establish an interval estimate of $\\sigma^2_1/\\sigma^2_2 by using the statistic\n",
    "\n",
    "$$\n",
    "F = \\frac{S^2_1 / \\sigma^2_1}{S^2_2 / \\sigma^2_2}.\n",
    "$$\n",
    "\n",
    "Refer to Chapter 6, the random variable F has an F-distribution with $v_1 = n_1 - 1$ and $v_2 = n_2 - 1$ degrees of freedom. Therefore, we may write\n",
    "\n",
    "$$\n",
    "P[f_{1-\\alpha/2}(v_1,v_2) < F < f_{\\alpha/2}(v_1,v_2)] = 1-\\alpha\n",
    "$$"
   ]
  },
  {
   "cell_type": "code",
   "execution_count": 30,
   "id": "03272acb-554e-46e0-8219-6660e3d46bea",
   "metadata": {
    "jupyter": {
     "source_hidden": true
    }
   },
   "outputs": [
    {
     "data": {
      "image/png": "[encoded data removed]",
      "text/plain": [
       "<Figure size 800x300 with 1 Axes>"
      ]
     },
     "metadata": {},
     "output_type": "display_data"
    }
   ],
   "source": [
    "fig, ax = plt.subplots(1,1,figsize=(8,3),sharey=True)\n",
    "\n",
    "fig.suptitle(\"The F-Distributions\")\n",
    "\n",
    "xs = np.linspace(0,3,500)\n",
    "\n",
    "v1, v2 = 30, 10\n",
    "a = 0.3\n",
    "f_a_2 = f_dist.ppf(1-a/2, v1, v2)\n",
    "f_1m_a_2 = f_dist.ppf(a/2, v1, v2)\n",
    "xs_bet = xs[(xs <= f_a_2) & (xs >= f_1m_a_2)]\n",
    "\n",
    "ax.plot(xs, f_dist.pdf(xs, v1, v2))\n",
    "ax.fill_between(xs_bet, xs_bet*0, f_dist.pdf(xs_bet, v1, v2), alpha=0.25)\n",
    "ax.plot([f_a_2]*2   , [0,1], color=\"tab:red\")\n",
    "ax.plot([f_1m_a_2]*2, [0,1], color=\"tab:red\")\n",
    "ax.text(1, 0.25, \"α\", size=15)\n",
    "\n",
    "ax.set(\n",
    "    xlim=[0,3], ylim=[0,1],\n",
    "    xticks=[f_1m_a_2, f_a_2], xticklabels=[\"f_1-α/2\", \"f_α/2\"],\n",
    "    axisbelow=True\n",
    ")\n",
    "ax.grid();"
   ]
  },
  {
   "cell_type": "markdown",
   "id": "b540c4d9-b82c-4bb2-b9e0-c2b877dbf2a2",
   "metadata": {},
   "source": [
    "Substituting the $F$, we write\n",
    "\n",
    "$$\n",
    "P\\left[ f_{1-\\alpha/2}(v_1,v_2) < \\frac{S^2_1 / \\sigma^2_1}{S^2_2 / \\sigma^2_2} < f_{\\alpha/2}(v_1,v_2) \\right] = 1-\\alpha\n",
    "$$"
   ]
  },
  {
   "cell_type": "markdown",
   "id": "904f9ac9-8828-4dfa-ac0e-9193dd250c7b",
   "metadata": {},
   "source": [
    "Multiplying each term in the inequality by $S^2_2/S^2_1$ and then inverting each term, we obtain\n",
    "\n",
    "$$\n",
    "P\\left[ \\frac{S^2_1}{S^2_2}\\frac{1}{f_{\\alpha/2}(v_1,v_2)} < \\frac{\\sigma^2_1}{\\sigma^2_2} < \\frac{S^2_1}{S^2_2}\\frac{1}{f_{1-\\alpha/2}(v_1,v_2)} \\right] = 1-\\alpha\n",
    "$$"
   ]
  },
  {
   "cell_type": "markdown",
   "id": "8f458e5f-06e5-445b-9b47-63c6a4920b09",
   "metadata": {},
   "source": [
    "Using the fact that\n",
    "\n",
    "$$\n",
    "f_{1-\\alpha}(v_1,v_2) = \\frac{1}{f_{\\alpha}(v_2,v_1)}\n",
    "$$\n",
    "\n",
    "we obtain the probability statement\n",
    "\n",
    "$$\n",
    "P\\left[ \\frac{S^2_1}{S^2_2}\\frac{1}{f_{\\alpha/2}(v_1,v_2)} < \\frac{\\sigma^2_1}{\\sigma^2_2} < \\frac{S^2_1}{S^2_2}f_{\\alpha/2}(v_2,v_1) \\right] = 1-\\alpha\n",
    "$$\n",
    "\n",
    "So we can obtain the confidence intervals for ratio between two variances as states below."
   ]
  },
  {
   "cell_type": "markdown",
   "id": "1b0a2d73-2f6a-4528-931f-6d56e20f6294",
   "metadata": {},
   "source": [
    "> <div style=\"color: green;\"><b>CI on $\\sigma^2_1 / \\sigma^2_2$</b></div>\n",
    "> \n",
    "> If $s^2_1$ and $s^2_2$ are the variances of independent samples of sizes $n_1$ and $n_2$, respectively, from normal populations, then a $100(1-\\alpha)\\%$ confidence interval for $\\sigma^2_1/\\sigma^2_2$ is\n",
    "> $$ \\frac{s^2_1}{s^2_2}\\frac{1}{f_{\\alpha/2}(v_1,v_2)} < \\frac{\\sigma^2_1}{\\sigma^2_2} < \\frac{s^2_1}{s^2_2}f_{\\alpha/2}(v_2,v_1) $$\n",
    "> where $f_{\\alpha/2}(v_1, v_2)$ is an $f$-critical value with $v_1 = n_1 - 1$ and $v_2 = n_2 - 1$ degrees of freedom, leaving an area of $\\alpha/2$ to the right, and $f_{\\alpha/2}(v_2, v_1)$ is a similar $f$-critical value with the order of degrees of freedom swapped."
   ]
  },
  {
   "cell_type": "markdown",
   "id": "d9ff7e9d-7a61-4497-a36f-a60a0ae4f181",
   "metadata": {},
   "source": [
    "As for the single sample case, an approximate $100(1-\\alpha)\\%$ confidence interval for a ratio between two standard deviations $\\sigma_1/\\sigma_2$ is obtained by taking the square root of each endpoint of the interval for $\\sigma^2_1/\\sigma^2_2$."
   ]
  },
  {
   "cell_type": "markdown",
   "id": "45aeb57e-628a-42af-868e-19769bbd0434",
   "metadata": {},
   "source": [
    "<span style=\"color: green;\"><b><u>Example</u></b></span>\n",
    "The following data represent the running times of films produced by two motion-picture companies. \n",
    "\n",
    "| Company | Time (minutes) |\n",
    "|:-------:|:---------------|\n",
    "| $1$ | $103, 94, 110, 87, 98$ |\n",
    "| $2$ | $97, 82, 123, 92, 175, 88, 118$ |\n",
    "\n",
    "Construct a $90\\%$ confidence interval for the ratio of the variances of running time of company 1 to company 2."
   ]
  },
  {
   "cell_type": "markdown",
   "id": "ab911616-4d1e-492e-a4de-b521b2d1ec91",
   "metadata": {},
   "source": [
    "Let $\\sigma^2_1$ and $\\sigma^2_2$ be the variances of motion-film running times of company 1 and company 2 respectively. From the given samples data, we estimate:"
   ]
  },
  {
   "cell_type": "code",
   "execution_count": 35,
   "id": "bc34dc1b-8784-4daf-9a3c-c58d28d02613",
   "metadata": {},
   "outputs": [
    {
     "name": "stdout",
     "output_type": "stream",
     "text": [
      "Sample 1: mean = 98.4 ; var= 76.3\n",
      "Sample 2: mean = 110.7143 ; var= 1035.9048\n"
     ]
    }
   ],
   "source": [
    "com1 = np.array([103, 94, 110, 87, 98])\n",
    "com2 = np.array([97, 82, 123, 92, 175, 88, 118])\n",
    "\n",
    "print(\"Sample 1: mean =\", np.round(com1.mean(), 4), \"; var=\", np.round(com1.var(ddof=1), 4))\n",
    "print(\"Sample 2: mean =\", np.round(com2.mean(), 4), \"; var=\", np.round(com2.var(ddof=1), 4))"
   ]
  },
  {
   "cell_type": "markdown",
   "id": "9cec1634-e5d6-462b-a146-3ed03b815a96",
   "metadata": {},
   "source": [
    "Using $\\alpha=0.1$, $v_1=4$, $v_2=6$, we can find $f_{0.05}(4,6)=4.53$ and $f_{0.05}(6,4)=6.16$. Therefore, the $90\\%$ confidence interval is given by\n",
    "\n",
    "$$\n",
    "\\frac{76.3}{1035.9048} \\cdot \\frac{1}{4.53} < \\frac{\\sigma^2_1}{\\sigma^2_2} < \\frac{76.3}{1035.9048} \\cdot 6.16\n",
    "$$\n",
    "\n",
    "or simply $0.0162 < \\sigma^2_1/\\sigma^2_2 < 0.4537$. Since the interval doesn't include the value $1$, this result suggest that the two variances are unequal."
   ]
  },
  {
   "cell_type": "markdown",
   "id": "e1646e0b-eb1f-4035-9925-fbd9ff4e9f24",
   "metadata": {},
   "source": [
    "<div style=\"widht:100%; height:20px; background-color:lightsalmon;\"></div>"
   ]
  }
 ],
 "metadata": {
  "kernelspec": {
   "display_name": "Python 3 (ipykernel)",
   "language": "python",
   "name": "python3"
  },
  "language_info": {
   "codemirror_mode": {
    "name": "ipython",
    "version": 3
   },
   "file_extension": ".py",
   "mimetype": "text/x-python",
   "name": "python",
   "nbconvert_exporter": "python",
   "pygments_lexer": "ipython3",
   "version": "3.12.9"
  }
 },
 "nbformat": 4,
 "nbformat_minor": 5
}
