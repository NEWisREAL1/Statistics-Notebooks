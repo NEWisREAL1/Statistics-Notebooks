{
 "cells": [
  {
   "cell_type": "markdown",
   "id": "dccb87d0-6e82-4be4-8a08-f4599b242968",
   "metadata": {},
   "source": [
    "# Mathematical Expectation"
   ]
  },
  {
   "cell_type": "code",
   "execution_count": 1,
   "id": "2b4c3fbf-4bc0-48cc-ab6a-6d6a1920c90d",
   "metadata": {},
   "outputs": [],
   "source": [
    "import numpy as np\n",
    "import pandas as pd\n",
    "import matplotlib.pyplot as plt"
   ]
  },
  {
   "cell_type": "markdown",
   "id": "8e543ef4-99d5-4121-8172-9371375e0cdf",
   "metadata": {},
   "source": [
    "<div style=\"widht:100%; height:20px; background-color:lightseagreen;\"></div>"
   ]
  },
  {
   "cell_type": "markdown",
   "id": "e72b5ab1-3cea-4d3e-952e-c65800a009f9",
   "metadata": {},
   "source": [
    "## Mean of a Random Variable\n",
    "\n",
    "Consider a university having 15,000 students and let $X$ be a random variable representing the number of courses for which a randomly selected student is registered. We can calculate the pmf of $X$ from gathered data a follows.\n",
    "\n",
    "| $x$ | $1$ | $2$ | $3$ | $4$ | $5$ | $6$ | $7$ |\n",
    "|:--|:---:|:---:|:---:|:---:|:---:|:---:|:---:|\n",
    "| Number registered | 150 | 450 | 1950 | 3750 | 5850 | 2550 | 300 |\n",
    "| $f(x)$ | .01 | .03 | .13 | .25 | .39 | .17 | .02 |"
   ]
  },
  {
   "cell_type": "markdown",
   "id": "5b1822c3-fcaa-4e3f-99a9-8d4d631ae6b9",
   "metadata": {},
   "source": [
    "The average number of courses per student, or the *average number of $X$*, results from computing the total number of courses registered by all students and dividing by the total number of students, which can be simplify to\n",
    "\n",
    "$$\n",
    "\\frac{ 1(150) + 2(450) + 3(1950) + 4(3750) + 5(5850) + 6(2550) + 7(300) }{ 15,000 } = 4.57\n",
    "$$"
   ]
  },
  {
   "cell_type": "markdown",
   "id": "ed5edbe3-d38a-40d9-80e4-5f03e1d49fd8",
   "metadata": {},
   "source": [
    "Since $150/15,000 = f(1)$, $450/15,000 = f(2)$, and so on, an alternative expression for the average number of courses is\n",
    "\n",
    "$$\n",
    "1\\cdot f(1) + 2\\cdot f(2) + \\cdots + 7\\cdot f(7) = \\sum_{i=1}^7 i\\cdot f(i)\n",
    "$$"
   ]
  },
  {
   "cell_type": "markdown",
   "id": "0aa56897-d049-4f86-a372-5b5531885f6f",
   "metadata": {},
   "source": [
    "---\n",
    "<h3 style=\"color: green; font-size: 16pt;\">The Expected Value of a Random Variable</h3>"
   ]
  },
  {
   "cell_type": "markdown",
   "id": "2253c63a-0305-47c5-9b8e-935915d0e63f",
   "metadata": {},
   "source": [
    "> Let $X$ be a random variable with probability distribution $f(x)$. The **mean** or **expected value** of $X$ is\n",
    "> $$\n",
    "E(X) = \\mu = \\sum_{\\forall x} xf(x)\n",
    "$$\n",
    "> if $X$ is a discrete rv, and\n",
    "> $$\n",
    "E(X) = \\mu = \\int_{-\\infty}^\\infty xf(x)\n",
    "$$\n",
    "> if $X$ is a continuous rv."
   ]
  },
  {
   "cell_type": "markdown",
   "id": "d4a7324b-96fb-41af-9d49-50bc4497b7fe",
   "metadata": {},
   "source": [
    "<span style=\"color: green;\"><b><u>Discrete Example</u></b></span> Consider examining a lot of light bulbs from a production line which has 5% of producing a defective bulb, the examination is done until a defective bulb is found. Let $X$ be the number of light bulbs one has to examine until the examination is terminated (including the defective one). The pmf of $X$ is then\n",
    "\n",
    "$$\n",
    "f(x) = .05 \\cdot (.95)^{x-1},\\quad x=1,2,3,\\ldots\n",
    "$$\n",
    "\n",
    "So the average number of bulbs one has to examine, or the expected value of $X$, is\n",
    "\n",
    "$$\n",
    "E(X) = \\sum_{x=1}^\\infty x(.05)(.95)^{x-1}\n",
    "$$"
   ]
  },
  {
   "cell_type": "markdown",
   "id": "9b1932bf-e87e-48e4-a6cb-08ca1dd13dbe",
   "metadata": {},
   "source": [
    "To solve this summation, we need a little bit of calculus ticks: Consider\n",
    "\n",
    "$$\n",
    "\\begin{align*}\n",
    "\\sum_{x=1}^n xr^{x-1} &= \\frac{d}{dr} \\sum_{x=1}^n r^x \\\\\n",
    "&= \\frac{d}{dr}\\left( \\frac{r^{n+1} - 1}{r - 1} \\right) \\\\\n",
    "&= \\frac{(r-1)(n+1)r^n - r^{n+1} + 1}{(r - 1)^2} \\\\\n",
    "\\sum_{x=1}^n x(.95)^{x-1} &= \\frac{(-0.05)(n + 1)(0.95)^n - (0.95)^{n+1} + 1}{(-0.05)^2}\n",
    "\\end{align*}\n",
    "$$\n",
    "\n",
    "Apply the formula to calculate $E(X)$:\n",
    "\n",
    "$$\n",
    "\\begin{align*}\n",
    "E(X) &= \\sum_{x=1}^\\infty x(.05)(.95)^{x-1} \\\\\n",
    "&= (0.05)\\lim_{n\\to\\infty}\\frac{(-0.05)(n + 1)(0.95)^n - (0.95)^{n+1} + 1}{(0.05)^2} \\\\\n",
    "&= -\\lim_{n\\to\\infty}\\left[ (n+1)(0.95)^n \\right] + \\frac{1}{0.05} \\\\\n",
    "&= -\\lim_{n\\to\\infty}\\left[ \\frac{n+1}{(0.95)^{-n}} \\right] + \\frac{1}{0.05} \\\\\n",
    "&\\stackrel{\\text{L'H}}{=} -\\lim_{n\\to\\infty}\\left[ \\frac{1}{-(0.95)^{-n}\\ln(0.95)} \\right] + \\frac{1}{0.05} \\\\\n",
    "&= 0 + \\frac{1}{0.05} = 20\n",
    "\\end{align*}\n",
    "$$\n",
    "\n",
    "Thus, the average number of bulbs one has to examine before a defective bulb is found is 20 bulbs."
   ]
  },
  {
   "cell_type": "markdown",
   "id": "ca3a727a-f99d-4e8e-9f32-be34c2f9b15a",
   "metadata": {},
   "source": [
    "<span style=\"color: green;\"><b><u>Continuous Example</u></b></span> Let X be the random variable that denotes the life in hours of a certain electronic device. The probability density function is\n",
    "\n",
    "$$\n",
    "f(x) = \\begin{cases}\n",
    "    \\frac{20,000}{x^3} &\\text{if } x > 100 \\\\\n",
    "    0                  &\\text{elsewhere}\n",
    "\\end{cases}\n",
    "$$\n",
    "\n",
    "The expected value of $X$ is\n",
    "\n",
    "$$\n",
    "E(X) = \\int_{100}^\\infty x\\frac{20,000}{x^3} dx = \\int_{100}^\\infty \\frac{20,000}{x^2} dx = \\frac{20,000}{100} = 200.\n",
    "$$\n",
    "\n",
    "Therefore, we can expect this device to last, *on average*, 200 hours."
   ]
  },
  {
   "cell_type": "markdown",
   "id": "278c3fff-1235-4f82-9b2c-d8a34503e82a",
   "metadata": {},
   "source": [
    "---\n",
    "<h3 style=\"color: green; font-size: 16pt;\">The Expected Value of a Function</h3>\n",
    "\n",
    "Sometimes interest will focus on the expected value of some function $g(X)$ rather than on just $E(X)$. Note that the function $g(X)$ is another random variable that is completely determined by the rv $X$, whenever $X$ assumes the value $x$, then $g(X)$ assumes the value $g(x)$.\n",
    "\n",
    "For example, suppose $X$ is a discrete random variable with probability distribution $f(x)$, for $x=-1,0,1,2$, and $g(X) = X^2$, then\n",
    "\n",
    "$$\n",
    "\\begin{align*}\n",
    "P(g(X) = 0) &= P(X = 0) = f(0) \\\\\n",
    "P(g(X) = 1) &= P(X = -1) + P(X = 1) = f(-1) + f(1) \\\\\n",
    "P(g(X) = 4) &= P(X = 2) = f(2) \\\\\n",
    "\\end{align*}\n",
    "$$\n",
    "\n",
    "and so the probability distribution of $g(X)$ may be written as\n",
    "\n",
    "$$\n",
    "f_g(y) = \\begin{cases}\n",
    "    f(0)         &\\text{if } y = 0\\\\\n",
    "    f(-1) + f(1) &\\text{if } y = 1\\\\\n",
    "    f(2)         &\\text{if } y = 4\\\\\n",
    "\\end{cases}\n",
    "$$\n",
    "\n",
    "By the definition of the expected value of a random variable, we obtain\n",
    "\n",
    "$$\n",
    "E[g(X)] = 0f(0) + 1[f(-1) + f(1)] + 4f(2).\n",
    "$$\n",
    "\n",
    "This result is generalized in the following theorem for both discrete and continuous random variables."
   ]
  },
  {
   "cell_type": "markdown",
   "id": "d75d7ea7-26aa-4a55-9870-f2d9d70be925",
   "metadata": {},
   "source": [
    "> Let $X$ be a random variable with probability distribution $f(x)$. The **expected value** of the random variable $g(X)$ is\n",
    "> $$ \\mu_{g(X)} = E[g(X)] = \\sum_{\\forall x} g(x)f(x) $$\n",
    "> if $X$ is a discrete rv, and\n",
    "> $$ \\mu_{g(X)} = E[g(X)] = \\int_{-\\infty}^\\infty g(x)f(x)\\ dx $$\n",
    "> if $X$ is a continuous rv."
   ]
  },
  {
   "cell_type": "markdown",
   "id": "43d545f2-f57c-4a39-a481-05bbe5fdf3d2",
   "metadata": {},
   "source": [
    "<span style=\"color: green;\"><b><u>Discrete Example</u></b></span> A computer store has purchased three computers at \\\\$500 apiece. They will sell them at \\\\$1,000 apiece. The manufacturer has agreed to repurchase any computers still unsold after a 2 years at \\\\$200 apiece.\n",
    "\n",
    "Let $X$ denotes the number of computers sold within that 2 years period, and suppose that the pmf of $X$ can be defined as follows.\n",
    "\n",
    "| # of computer sold ($x$)   | 0 | 1 | 2 | 3 |\n",
    "|:---------------------------|:-:|:-:|:-:|:-:|\n",
    "| probability [$f(x)$]       |.1 |.2 |.3 | .4|\n",
    "\n",
    "Let $h(X)$ denotes the profit associated with selling $X$ computers, the given information implies\n",
    "\n",
    "$$\n",
    "h(X) = \\text{revenue} - \\text{cost} = 1000X + 200(3-X) - 1500 = 800X - 900.\n",
    "$$\n",
    "\n",
    "The expected profit is then\n",
    "\n",
    "$$\n",
    "\\begin{align*}\n",
    "E[h(X)] &= \\sum_{x=0}^3 h(x)f(x) \\\\\n",
    "&= (-900)(.1) + (-100)(.2) + (700)(.3) + (1500)(.4) \\\\\n",
    "&= \\$700\n",
    "\\end{align*}\n",
    "$$"
   ]
  },
  {
   "cell_type": "markdown",
   "id": "c723e379-42bd-4159-8cca-41240950e4d9",
   "metadata": {},
   "source": [
    "<span style=\"color: green;\"><b><u>Continuous Example</u></b></span> Two species are competing in a region for control of a limited amount of a certain resource. Let $X$ represent the proportion of the resource controlled by species 1 and suppose $X$ has pdf\n",
    "\n",
    "$$\n",
    "f(x) = \\begin{cases}\n",
    "    1 &\\text{if } 0 \\le x \\le 1 \\\\\n",
    "    0 &\\text{otherwise}\n",
    "\\end{cases}\n",
    "$$"
   ]
  },
  {
   "cell_type": "markdown",
   "id": "c4045273-c086-47d7-a66a-e7170719721c",
   "metadata": {},
   "source": [
    "Then the species that controls the majority of this resource controls the amount\n",
    "\n",
    "$$\n",
    "g(X) = \\max(X, 1-X)\n",
    "$$\n",
    "\n",
    "The expected amount controlled by the species having majority control is then\n",
    "\n",
    "$$\n",
    "\\begin{align*}\n",
    "E[g(X)] &= \\int_{-\\infty}^\\infty g(x)f(x)\\ dx \\\\\n",
    "&= \\int_0^1 \\max(x,1-x)\\cdot 1\\ dx \\\\\n",
    "&= \\int_0^{1/2} (1-x)\\ dx + \\int_{1/2}^1 x\\ dx \\\\\n",
    "&= \\frac{3}{8} + \\frac{3}{8} = \\frac{3}{4}\n",
    "\\end{align*}\n",
    "$$"
   ]
  },
  {
   "cell_type": "markdown",
   "id": "1e9380f0-cd40-42b7-b33b-a1db129a3aa2",
   "metadata": {},
   "source": [
    "<h4 style=\"color: green;\">Rule of Expected Value</h4>\n",
    "\n",
    "> For a random variable $X$\n",
    "> $$ E(aX + b) = a \\cdot E(X) + b. $$"
   ]
  },
  {
   "cell_type": "markdown",
   "id": "8969815c-904d-472c-81e8-24570d9d2cec",
   "metadata": {},
   "source": [
    "<span style=\"color: green;\"><b><u>Example</u></b></span> From the previous example where we calculate the expected profit $E[h(x)]$ for selling computers, we can simplify the calculation as follows:\n",
    "\n",
    "$$\n",
    "E[h(x)] = E(800X-900) = 800E(X) - 900 = 800(0.2 + 0.6 + 1.2) - 900 = 700.\n",
    "$$"
   ]
  },
  {
   "cell_type": "markdown",
   "id": "c680a51e-ae1d-4c0f-ace1-e34a745c3c5c",
   "metadata": {},
   "source": [
    "---\n",
    "<h3 style=\"color: green; font-size: 16pt;\">Jointly Expectation</h3>"
   ]
  },
  {
   "cell_type": "markdown",
   "id": "6087113e-795e-483e-ad12-b53668862524",
   "metadata": {},
   "source": [
    "> Let $X$ and $Y$ be random variables with joint probability distribution $f(x,y)$. The **expected value** of the random variable $g(X,Y)$ is\n",
    "> $$ \\mu_{g(X,Y)} = E[g(X,Y)] = \\sum_{\\forall x}\\sum_{\\forall y} g(x,y)f(x,y) $$\n",
    "> if $X$ and $Y$ are discrete rv's, and\n",
    "> $$ \\mu_{g(X,Y)} = E[g(X,Y)] = \\int_{-\\infty}^\\infty\\int_{-\\infty}^\\infty g(x,y)f(x,y)\\ dxdy $$\n",
    "> if $X$ and $Y$ are continuous rv's."
   ]
  },
  {
   "cell_type": "markdown",
   "id": "5c3c5e81-145d-4f46-9fe4-6db762005af1",
   "metadata": {},
   "source": [
    "<span style=\"color: green;\"><b><u>Discrete Example</u></b></span> Suppose that $X$ and $Y$ have the following joint probability function\n",
    "\n",
    "<table><thead>\n",
    "  <tr>\n",
    "    <th colspan=\"2\" rowspan=\"2\">f(x,y)</th>\n",
    "    <th colspan=\"2\">x</th>\n",
    "  </tr>\n",
    "  <tr>\n",
    "    <th>2</th>\n",
    "    <th>4</th>\n",
    "  </tr></thead>\n",
    "<tbody>\n",
    "  <tr>\n",
    "    <td rowspan=\"3\">y</td>\n",
    "    <td>0</td>\n",
    "    <td>0.10</td>\n",
    "    <td>0.15</td>\n",
    "  </tr>\n",
    "  <tr>\n",
    "    <td>3</td>\n",
    "    <td>0.20</td>\n",
    "    <td>0.30</td>\n",
    "  </tr>\n",
    "  <tr>\n",
    "    <td>5</td>\n",
    "    <td>0.10</td>\n",
    "    <td>0.15</td>\n",
    "  </tr>\n",
    "</tbody>\n",
    "</table>\n",
    "\n",
    "Let $g(X,Y) = XY^2$. Then the expected value of $g$ is\n",
    "\n",
    "$$\n",
    "\\begin{align*}\n",
    "E[g(X,Y)] &= \\sum_{x\\in\\set{2,4}}\\sum_{y\\in\\set{1,3,5}} xy^2f(x,y) \\\\ \\\\\n",
    "&= (2)(1)(0.1) + (2)(9)(0.2) + (2)(25)(0.1) + (4)(1)(0.15) + (4)(9)(0.3) + (4)(25)(0.15) \\\\\n",
    "&= 35.2\n",
    "\\end{align*}\n",
    "$$"
   ]
  },
  {
   "cell_type": "markdown",
   "id": "38bed3eb-578d-4d3e-a9ca-38038abaec0e",
   "metadata": {},
   "source": [
    "<span style=\"color: green;\"><b><u>Continuous Example</u></b></span> Let $X$ and $Y$ be random variables with joint density function\n",
    "\n",
    "$$\n",
    "f(x,y) = \\begin{cases}\n",
    "    4xy &\\text{if } 0 < x,y < 1 \\\\\n",
    "    0   &\\text{elsewhere}\n",
    "\\end{cases}\n",
    "$$\n",
    "\n",
    "and let $Z = \\sqrt{X^2 + Y^2}$. So the expected value of $Z$ is\n",
    "\n",
    "$$\n",
    "\\begin{align*}\n",
    "E(Z) &= \\int_{-\\infty}^\\infty\\int_{-\\infty}^\\infty \\sqrt{x^2 + y^2}f(x,y)\\ dxdy \\\\\n",
    "&= \\int_0^1\\int_0^1 4xy\\sqrt{x^2 + y^2}\\ dxdy\n",
    "\\end{align*}\n",
    "$$\n",
    "\n",
    "To solve this, we do the substitution $u = x^2 + y^2$. So $du = 2x\\ dx$ and when $x = 0 \\to u = y^2$, $x = 1 \\to u = 1+y^2$:\n",
    "\n",
    "$$\n",
    "\\begin{align*}\n",
    "E(Z) &= \\int_0^1\\int_{y^2}^{1+y^2} 2y\\sqrt{u}\\ dudy \\\\\n",
    "&= \\int_0^1 2y\\left[ \\frac{2}{3}u^{3/2} \\right]_{y^2}^{1+y^2}\\ dy\n",
    "= \\int_0^1 \\frac{4}{3}y(1+y^2)^{3/2} - \\frac{4}{3}y^4\\ dy \\\\\n",
    "&= \\int_0^1 \\frac{4}{3}y(1+y^2)^{3/2}\\ dy - \\frac{4}{15}\n",
    "\\end{align*}\n",
    "$$"
   ]
  },
  {
   "cell_type": "markdown",
   "id": "2d74d586-2c8f-487f-a19b-5cbad6f93c7c",
   "metadata": {},
   "source": [
    "Now we make another substitution $u=1+y^2$. So $du=2y\\ dy$ and when $y = 0 \\to u = 1$, $y = 1 \\to u = 2$. So the expected value of $Z$ determined to be\n",
    "\n",
    "$$\n",
    "E(Z) = \\frac{4}{3}\\int_1^2 \\frac{1}{2}u^{3/2}\\ du - \\frac{4}{15} = \\frac{4}{15}(2^{5/2} - 1) - \\frac{4}{15} \\approx 0.975\n",
    "$$"
   ]
  },
  {
   "cell_type": "markdown",
   "id": "15d46652-0a00-4153-bf43-500760c7536c",
   "metadata": {},
   "source": [
    "<h4 style=\"color: green;\">Expected Value of Independent RV's</h4>\n",
    "\n",
    "> If $X$ and $Y$ are two **independent** random variables, then\n",
    "> $$ E[XY] = E[X] \\cdot E[Y]. $$"
   ]
  },
  {
   "cell_type": "markdown",
   "id": "645c6451-6b23-4d45-ad85-0375fb7739d8",
   "metadata": {},
   "source": [
    "<span style=\"color: green;\"><b><u>Example</u></b></span> A rectangular frame made by a machine have deviation in it sides length. The width and the height of a frame is represented as rv's $W$ and $H$ having the following joint pdf:\n",
    "\n",
    "$$\n",
    "f(w,h) = \\begin{cases}\n",
    "    1/300 &\\text{if } 20 \\le w \\le 40, 15 \\le h \\le 30 \\\\\n",
    "    0     &\\text{elsewhere}\n",
    "\\end{cases}\n",
    "$$\n",
    "\n",
    "given that the marginal pdf $u(w)$ and $v(h)$ are greater than zero when $20 \\le w \\le 40$ and $15 \\le h \\le 30$ respectively. What is the expected value of the area of this frame $WH$?\n",
    "\n",
    "First, let's find the marginal pdf $u(w)$ and $v(h)$:\n",
    "\n",
    "$$\n",
    "\\begin{align*}\n",
    "u(w) &= \\int_{-\\infty}^\\infty f(w,h)\\ dh = \\int_{15}^{30} 1/300\\ dh \\\\\n",
    "&= \\frac{1}{300}{30-15} = 1/20. \\\\ \\\\\n",
    "v(h) &= \\int_{-\\infty}^\\infty f(w,h)\\ dw = \\int_{20}^{40} 1/300\\ dh \\\\\n",
    "&= \\frac{1}{300}{40-20} = 1/15. \n",
    "\\end{align*}\n",
    "$$\n",
    "\n",
    "We can see that $W$ and $H$ are independent since $f(w,h) = u(w)v(h)$, so the expected value of $WH$ is\n",
    "\n",
    "$$\n",
    "\\begin{align*}\n",
    "E[WH] = E[W]E[H] &= \\int_{20}^{40}\\ w \\cdot u(w)\\ dw \\cdot \\int_{15}^{30}\\ h \\cdot v(h)\\ dh \\\\\n",
    "&= \\frac{1}{20}\\left[ \\frac{w^2}{2} \\right]_{20}^{40} \\cdot \\frac{1}{15}\\left[ \\frac{h^2}{2} \\right]_{15}^{30} \\\\\n",
    "&= 675.\n",
    "\\end{align*}\n",
    "$$\n",
    "\n",
    "Therefore, on average, the expected area of the frame is 675 unit square."
   ]
  },
  {
   "cell_type": "markdown",
   "id": "40dbd1ea-688e-4f1e-80b7-461eff0050b2",
   "metadata": {},
   "source": [
    "---\n",
    "<h3 style=\"color: green; font-size: 16pt;\">Conditional Expectation</h3>\n",
    "\n",
    "> Let $X$ and $Y$ be random variables, if the conditional distribution of $X$ given that $Y = y$ if $f(x|y)$. Then the **conditional expectation** of $X$ given $Y=y$ is\n",
    "> $$ \\mu_{X|Y} = E[X|Y=y] = \\sum_{\\forall x} xf(x|y) $$\n",
    "> if $X$ and $Y$ are discrete rv's, and\n",
    "> $$ \\mu_{X|Y} = E[X|Y=y] = \\int_{-\\infty}^{\\infty} xf(x|y)\\ dx $$\n",
    "> if $X$ and $Y$ are continuous rv's."
   ]
  },
  {
   "cell_type": "markdown",
   "id": "b42e9e3d-9bd8-4358-881c-cf5320f9bf98",
   "metadata": {
    "editable": true,
    "slideshow": {
     "slide_type": ""
    },
    "tags": []
   },
   "source": [
    "<span style=\"color: green;\"><b><u>Example</u></b></span> The joint probability distribution of $X$ and $Y$ is\n",
    "\n",
    "$$\n",
    "f(x,y) = x + y,\\quad x \\in [0,1], y \\in [0,1].\n",
    "$$\n",
    "\n",
    "Find $E[X|Y=1/4]$.\n",
    "\n",
    "First, find the marginal distribution $h(y)$ of $Y$:\n",
    "\n",
    "$$\n",
    "h(y) = \\int_{0}^{1} x + y\\ dx = \\left[ \\frac{x^2}{2} + xy \\right]_0^1 = y + \\frac{1}{2}.\n",
    "$$\n",
    "\n",
    "Thus, the conditional pdf of $X$ given $Y=y$ is\n",
    "\n",
    "$$\n",
    "f(x|y) = \\frac{f(x,y)}{h(y)} = \\frac{x+y}{y + 1/2},\\quad x \\in [0,1], y \\in [0,1].\n",
    "$$\n",
    "\n",
    "Therefore, the expected value of $X$ given that $Y=1/4$ is\n",
    "\n",
    "$$\n",
    "\\begin{align*}\n",
    "E[X|Y=1/4] &= \\int_{-\\infty}^\\infty xf(x|\\frac{1}{4})\\ dx = \\int_0^1 x\\frac{x+1/4}{1/4 + 1/2}\\ dx \\\\\n",
    "&= \\frac{4}{3}\\int_0^1 x^2 + \\frac{x}{4}\\ dx = \\frac{4}{3}\\left[ \\frac{x^3}{3} + \\frac{x^2}{8} \\right]_0^1 \\\\\n",
    "&= \\frac{11}{18}.\n",
    "\\end{align*}\n",
    "$$."
   ]
  },
  {
   "cell_type": "markdown",
   "id": "f33431c5-82f0-4f7f-942a-982f7d6467c7",
   "metadata": {},
   "source": [
    "<div style=\"widht:100%; height:20px; background-color:lightseagreen;\"></div>"
   ]
  },
  {
   "cell_type": "markdown",
   "id": "fcebcff6-74ec-4c21-b54b-7a045608e100",
   "metadata": {},
   "source": [
    "## Variance and Covariance"
   ]
  },
  {
   "cell_type": "markdown",
   "id": "a5307d1e-1480-43dd-b6e9-616ad0a1679d",
   "metadata": {},
   "source": [
    "The most important measure of variability of a random variable $X$ is obtained by finding the expected value of $g(X)=(X - \\mu)^2$. The quantity is referred to as the **variance** of the random variable $X$ or the **variance of the probability distribution of $X$**."
   ]
  },
  {
   "cell_type": "markdown",
   "id": "f6f01d81-7f6e-4c6d-86b9-69907bc08998",
   "metadata": {},
   "source": [
    "---\n",
    "<h3 style=\"color: green; font-size: 16pt;\">The Variance of a Random Variable</h3>"
   ]
  },
  {
   "cell_type": "markdown",
   "id": "c263873d-f8be-44d5-a90d-a9e35337555f",
   "metadata": {},
   "source": [
    "> Let $X$ be a random variable with probability distribution $f(x)$ and mean $\\mu$. The **variance** of $X$ is\n",
    "> $$ \\textrm{Var}(X) = \\sigma^2 = E[(X-\\mu)^2] = \\sum_{\\forall x}(x-\\mu)^2f(x) $$\n",
    "> if $X$ is a discrete rv, and\n",
    "> $$ \\textrm{Var}(X) = \\sigma^2 = E[(X-\\mu)^2] = \\int_{-\\infty}^\\infty(x-\\mu)^2f(x)\\ dx $$\n",
    "> if $X$ is a continuous rv.\n",
    ">\n",
    "> The positive square root of the variance, $\\sigma$, is called the **standard deviation** of $X$."
   ]
  },
  {
   "cell_type": "markdown",
   "id": "c21c5604-f78d-4545-96dd-0cb3a4d9fe1d",
   "metadata": {},
   "source": [
    "The quantity $x - \\mu$ is called the **deviation of an observation** from its mean. Since the deviations are squared and then averaged, $\\sigma^2$ will be much smaller for a set of $x$ values that are close to $\\mu$ than it will be for a set of values that vary considerably from $\\mu$."
   ]
  },
  {
   "cell_type": "markdown",
   "id": "760c39ad-481c-4bed-8998-c2b3bb906e90",
   "metadata": {},
   "source": [
    "<span style=\"color: green;\"><b><u>Discrete Example</u></b></span> Let the random variable $X$ represent the number of defective parts for a machine\n",
    "when 3 parts are sampled from a production line and tested. The following is the probability distribution of $X$.\n",
    "\n",
    "| $x$  | $0$  | $1$  | $2$  | $3$  |\n",
    "|:----:|:----:|:----:|:----:|:----:|\n",
    "|$f(x)$|$0.51$|$0.38$|$0.10$|$0.01$|\n",
    "\n",
    "The expected value of $X$ is\n",
    "\n",
    "$$\n",
    "\\mu = E(X) = (0)(0.51) + (1)(0.38) + (2)(0.10) + (3)(0.01) = 0.61.\n",
    "$$\n",
    "\n",
    "And so the variance of $X$ is\n",
    "\n",
    "$$\n",
    "\\textrm{Var}(X) = E{(X-\\mu)^2} = (0-0.61)^2(0.51) + (1-0.61)^2(0.38) + (2-0.61)^2(0.10) + (3-0.61)^2(0.01) = 0.4979\n",
    "$$"
   ]
  },
  {
   "cell_type": "markdown",
   "id": "9d739dbf-cbeb-4e5e-bed9-a6ea00b2286f",
   "metadata": {},
   "source": [
    "<span style=\"color: green;\"><b><u>Continuous Example</u></b></span> The distribution of the amount of gravel (in tons) sold by a particular construction supply company in a given week is a continuous rv $X$ with pdf\n",
    "\n",
    "$$\n",
    "f(x) = \\begin{cases}\n",
    "    \\frac{3}{2}(1-x^2) &\\text{if } 0 \\le x \\le 1 \\\\\n",
    "    0                  &\\text{otherwise}\n",
    "\\end{cases}\n",
    "$$\n",
    "\n",
    "So the average amount of gravel sold in tons  per week is\n",
    "\n",
    "$$\n",
    "\\begin{align*}\n",
    "E(X) &= \\int_0^1 x\\cdot\\frac{3}{2}(1-x^2)\\ dx = \\frac{3}{2}\\int_0^1 x - x^3\\ dx \\\\\n",
    "&= \\frac{3}{2}\\left( \\frac{1}{2} - \\frac{1}{4} \\right) = \\frac{3}{8}.\n",
    "\\end{align*}\n",
    "$$\n",
    "\n",
    "And so the variance is\n",
    "\n",
    "$$\n",
    "\\begin{align*}\n",
    "\\textrm{Var}(X) &= \\int_0^1 \\left( x - \\frac{3}{8} \\right)^2 \\cdot \\frac{3}{2}(1-x^2)\\ dx \\\\\n",
    "&= \\frac{3}{2} \\int_0^1 \\left( x^2 - \\frac{3}{4}x + \\frac{9}{64} \\right)(1-x^2)\\ dx \\\\\n",
    "&= \\frac{3}{2} \\int_0^1 \\left( \\frac{9}{64} - \\frac{3x}{4} + \\frac{55x^2}{64} + \\frac{3x^3}{4} - x^4 \\right)\\ dx \\\\\n",
    "&= \\frac{3}{2} \\left( \\frac{9}{64} - \\frac{3}{8} + \\frac{55}{192} + \\frac{3}{16} - \\frac{1}{5} \\right) = \\frac{19}{320} \\approx 0.059.\n",
    "\\end{align*}\n",
    "$$\n",
    "\n",
    "Furthermore, the standard deviation of $X$ is $\\sigma = \\sqrt{\\textrm{Var}(X)} = \\sqrt{0.059} = 0.243.$"
   ]
  },
  {
   "cell_type": "markdown",
   "id": "fe69c1c1-1605-42f4-a6de-01c692c9b5f5",
   "metadata": {},
   "source": [
    "<h4 style=\"color: green;\">Shortcut Formula for Variance</h4>\n",
    "\n",
    "> The variance of a random variable $X$ is\n",
    "> $$ \\sigma^2 = E(X^2) - \\big[E(X)\\big]^2 $$"
   ]
  },
  {
   "cell_type": "markdown",
   "id": "00c38916-19b4-437c-b6e0-6ee6ba2e9728",
   "metadata": {},
   "source": [
    "<span style=\"color: green;\"><b><u>Example</u></b></span> From the previous example where $X$ has the probability distribution defined by\n",
    "\n",
    "| $x$  | $0$  | $1$  | $2$  | $3$  |\n",
    "|:----:|:----:|:----:|:----:|:----:|\n",
    "|$f(x)$|$0.51$|$0.38$|$0.10$|$0.01$|\n",
    "\n",
    "To calculate the variance, we first calculate\n",
    "\n",
    "$$\n",
    "E(X) = (0)(0.51) + (1)(0.38) + (2)(0.10) + (3)(0.01) = 0.61\n",
    "$$\n",
    "\n",
    "and\n",
    "\n",
    "$$\n",
    "E(X^2) = (0)(0.51) + (1)(0.38) + (4)(0.10) + (9)(0.01) = 0.87\n",
    "$$\n",
    "\n",
    "therefore\n",
    "\n",
    "$$\n",
    "\\sigma^2 = \\textrm{Var}(X) = 0.87 - (0.61)^2 = 0.4979.\n",
    "$$"
   ]
  },
  {
   "cell_type": "markdown",
   "id": "9addd6ae-24e8-4da4-a7f7-655d87a200c2",
   "metadata": {},
   "source": [
    "---\n",
    "<h3 style=\"color: green; font-size: 16pt;\">The Variance of a Function</h3>"
   ]
  },
  {
   "cell_type": "markdown",
   "id": "9c4f1c68-b749-45a5-b740-48ff5d8a732f",
   "metadata": {},
   "source": [
    "> Let $X$ be a random variable with probability distribution $f(x)$. The **variance** of the random variable $g(X)$ is\n",
    "> $$ \\textrm{Var}(g(X)) = \\sigma_{g(X)}^2 = E\\big\\{\\big[g(X)-\\mu_{g(X)}\\big]^2\\big\\} = \\sum_{\\forall x}\\big[g(x)-\\mu_{g(X})\\big]^2f(x) $$\n",
    "> if $X$ is a discrete rv, and\n",
    "> $$ \\textrm{Var}(g(X)) = \\sigma_{g(X)}^2 = E\\big\\{\\big[g(X)-\\mu_{g(X)}\\big]^2\\big\\} = \\int_{-\\infty}^\\infty\\big[g(x)-\\mu_{g(X)}\\big]^2f(x)\\ dx $$\n",
    "> if $X$ is a continuous rv."
   ]
  },
  {
   "cell_type": "markdown",
   "id": "06059958-cc3f-4d1a-a6d1-c4d681f4ea01",
   "metadata": {},
   "source": [
    "<span style=\"color: green;\"><b><u>Example</u></b></span> Calculate the variance of $g(X)=2X + 3$, where $X$ is a random variable with probability distribution\n",
    "\n",
    "| $x$  | $0$  | $1$  | $2$  | $3$  |\n",
    "|:----:|:----:|:----:|:----:|:----:|\n",
    "|$f(x)$|$1/4$ |$1/8$ |$1/2$ |$1/8$ |\n",
    "\n",
    "First, we find the mean of $g(X)$:\n",
    "\n",
    "$$\n",
    "\\mu_{g(X)} = E(2X + 3) = 2E(X) + 3 = 2(1/8 + 1 + 3/8) + 3 = 6.\n",
    "$$\n",
    "\n",
    "Now, we have\n",
    "\n",
    "$$\n",
    "\\begin{align*}\n",
    "\\sigma_{g(X)}^2 &= E[(2X+3-\\mu_{g(X)})^2] = E[(2X+3-6)^2] = E(4X^2 - 12X + 9) \\\\\n",
    "&= 4E(X^2) - 12E(X) + 9 = 4(13/4) - 12(3/2) + 9 = 4.\n",
    "\\end{align*}\n",
    "$$"
   ]
  },
  {
   "cell_type": "markdown",
   "id": "69853183-a97c-4d11-9f72-b7ddea3ca623",
   "metadata": {},
   "source": [
    "---\n",
    "<h3 style=\"color: green; font-size: 16pt;\">Covariance</h3>\n",
    "\n",
    "When two random variables $X$ and $Y$ are not independent, it is frequently of interest to assess **how strongly they are related to one another**. This measurement can be done using *covariance*."
   ]
  },
  {
   "cell_type": "markdown",
   "id": "15d97d7a-6e67-42bc-af8e-d14ed9cf1379",
   "metadata": {},
   "source": [
    "> The **covariance** between two random variables $X$ and $Y$ with joint probability distribution $f(x,y)$ denoted by $\\textrm{Cov}(X,Y)$ or $\\sigma_{XY}$ is\n",
    "> $$\n",
    "\\textrm{Cov}(X,Y) = E[(X-\\mu_X)(Y-\\mu_Y)] = \\begin{cases}\n",
    "    \\sum_{\\forall y}\\sum_{\\forall x} (x - \\mu_X)(y - \\mu_Y)f(x,y)                 &\\text{if } X, Y \\text{ are discrete} \\\\\\\\\n",
    "    \\int_{-\\infty}^\\infty\\int_{-\\infty}^\\infty (x - \\mu_X)(y - \\mu_y)f(x,y)\\ dxdy &\\text{if } X, Y \\text{ are continuous}\n",
    "\\end{cases}\n",
    "$$"
   ]
  },
  {
   "cell_type": "markdown",
   "id": "26f37bde-04b4-49f5-8c12-fd00dc0aee3f",
   "metadata": {},
   "source": [
    "> An alternative formula for calculating the covariance of rv's $X$ and $Y$ is\n",
    "> $$ \\textrm{Cov}(X,Y) = E[XY] - E[X]E[Y]. $$"
   ]
  },
  {
   "cell_type": "markdown",
   "id": "db2935c8-19dc-450a-a617-3cb68468ebae",
   "metadata": {},
   "source": [
    "The value of $\\textrm{Cov}(X,Y)$ can be interpret as follows:\n",
    "\n",
    "- **Positive covariance**:\n",
    "    - If $\\textrm{Cov}(X,Y) > 0$ with large magnitude, there is a **positive relationship** between $X$ and $Y$, meaning that when one variable increases, the other tends to increase as well.\n",
    "- **Negative covariance**:\n",
    "    - If $\\textrm{Cov}(X,Y) < 0$ with large magnitude, there is a **negative relationship** between $X$ and $Y$, meaning that when one variable increases, the other tends to decrease.\n",
    "- **Covariance near zero**:\n",
    "    - If $\\textrm{Cov}(X,Y) = 0$ or very close to $0$, there is a **no linear relationship** between $X$ and $Y$.\n",
    " \n",
    "Do note that covariance is used to measure  **linear relationships** between random variables, so covariance of value zero doesn't imply that the rv's are independent; non-linear relationships might still exist between them. But if two random variable are known to be independent, surely the covariance is zero."
   ]
  },
  {
   "cell_type": "code",
   "execution_count": 10,
   "id": "e361bf48-535f-4b60-bf74-9110e01852b7",
   "metadata": {
    "jupyter": {
     "source_hidden": true
    }
   },
   "outputs": [
    {
     "data": {
      "image/png": "[encoded data removed]",
      "text/plain": [
       "<Figure size 1000x300 with 3 Axes>"
      ]
     },
     "metadata": {},
     "output_type": "display_data"
    }
   ],
   "source": [
    "fig, axs = plt.subplots(1, 3, figsize=(10,3))\n",
    "\n",
    "for ax in axs:\n",
    "    ax.grid()\n",
    "    ax.set(xlim=[-5,5], ylim=[-5,5], axisbelow=True)\n",
    "    ax.tick_params(\n",
    "        axis='both', labelbottom=False, labelleft=False,\n",
    "        bottom=False, left=False\n",
    "    )\n",
    "\n",
    "np.random.seed(0)\n",
    "X  = (np.random.rand(50) - 0.5) * 10\n",
    "Y1 =  X + (np.random.rand(50) - 0.5) * 2\n",
    "Y2 = -X + (np.random.rand(50) - 0.5) * 5\n",
    "Y3 = (np.random.rand(50) - 0.5) * 10\n",
    "\n",
    "axs[0].scatter(X, Y1, c='tab:green', s=12, alpha=0.75)\n",
    "axs[1].scatter(X, Y2, c='tab:red'  , s=12, alpha=0.75)\n",
    "axs[2].scatter(X, Y3, c='tab:blue' , s=12, alpha=0.75)\n",
    "\n",
    "axs[0].set(title=f\"Positive Relation\\n (Cov = {np.cov(X, Y1)[0,1]:.2f})\")\n",
    "axs[1].set(title=f\"Negative Relation\\n (Cov = {np.cov(X, Y2)[0,1]:.2f})\")\n",
    "axs[2].set(title=f\"Nonlinear Relation\\n (Cov = {np.cov(X, Y3)[0,1]:.2f})\");"
   ]
  },
  {
   "cell_type": "markdown",
   "id": "7b3a2aaf-b909-4909-8739-aa130f4092fb",
   "metadata": {},
   "source": [
    "---\n",
    "<h4 style=\"color: green;\">Correlation</h4>\n",
    "\n",
    "Although the covariance between two random variables does provide information regarding the nature of the relationship, the magnitude of $\\textrm{Cov}(X,Y)$ does not indicate anything regarding the strength of the relationship, since $\\textrm{Cov}(X,Y)$ is *not scale-free*.\n",
    "Its magnitude will depend on the units used to measure both $X$ and $Y$ . There is a scale-free version of the covariance called the **correlation coefficient** that is used widely in statistics."
   ]
  },
  {
   "cell_type": "markdown",
   "id": "fa2f06a8-ffec-49d1-b186-c4a575481578",
   "metadata": {},
   "source": [
    "> The **correlation coefficient** of random variables $X$ and $Y$, denoted by $\\textrm{Corr}(X,Y)$ or $\\rho_{XY}$, is defined by\n",
    "> $$ \\textrm{Corr}(X,Y) = \\rho_{XY} = \\frac{\\sigma_{XY}}{\\sigma_X \\sigma_Y} = \\frac{\\sigma_{XY}}{\\sqrt{\\textrm{Var}(X)\\textrm{Var}(Y)}} $$"
   ]
  },
  {
   "cell_type": "markdown",
   "id": "a79c4b94-df80-4322-989e-7d0682ef8bbd",
   "metadata": {},
   "source": [
    "The interpretation of correlation is the same as covariance, but the value is scale down to the maximum magnitude of 1. So a magnitude closer to 1 imply a stronger linear relationship and a magnitude close to 0 imply that there is no linear relationship."
   ]
  },
  {
   "cell_type": "markdown",
   "id": "f0aefc63-e03c-42b0-9966-8466dfba3ed9",
   "metadata": {},
   "source": [
    "<span style=\"color: green;\"><b><u>Example</u></b></span> The following table provides the joint probability mass function of $X$ and $Y$\n",
    "\n",
    "<table><thead>\n",
    "  <tr>\n",
    "    <th colspan=\"2\" rowspan=\"2\">f(x,y)</th>\n",
    "    <th colspan=\"2\">x</th>\n",
    "  </tr>\n",
    "  <tr>\n",
    "    <th>1</th>\n",
    "    <th>2</th>\n",
    "  </tr></thead>\n",
    "<tbody>\n",
    "  <tr>\n",
    "    <th rowspan=\"2\">y</th>\n",
    "    <th>0</th>\n",
    "    <td>0.55</td>\n",
    "    <td>0.05</td>\n",
    "  </tr>\n",
    "  <tr>\n",
    "    <th>1</th>\n",
    "    <td>0.15</td>\n",
    "    <td>0.25</td>\n",
    "  </tr>\n",
    "</tbody>\n",
    "</table>\n",
    "\n",
    "What is the covariance and correlation between $X$ and $Y$?"
   ]
  },
  {
   "cell_type": "markdown",
   "id": "cd3455c6-1625-473e-aa7e-8e30210e840e",
   "metadata": {},
   "source": [
    "First, we have to calculate the expected values of $X$ and $Y$. For that we need the marginal pmf of $X$ and $Y$:\n",
    "\n",
    "$$\n",
    "\\begin{align*}\n",
    "g(x) &= \\sum_{\\forall y}f(x,y) = f(x,0) + f(x,1) \\\\\n",
    "&= \\begin{cases}\n",
    "    f(1,0) + f(1,1) = 0.55 + 0.15 = 0.70 &\\text{if } x = 1 \\\\\n",
    "    f(2,0) + f(2,1) = 0.05 + 0.25 = 0.30 &\\text{if } x = 2 \\\\\n",
    "    0 &\\text{otherwise}\n",
    "\\end{cases}\n",
    "\\end{align*}\n",
    "$$\n",
    "\n",
    "$$\n",
    "\\begin{align*}\n",
    "h(y) &= \\sum_{\\forall x}f(x,y) = f(1,y) + f(2,y) \\\\\n",
    "&= \\begin{cases}\n",
    "    f(1,0) + f(2,0) = 0.55 + 0.05 = 0.60 &\\text{if } y = 0 \\\\\n",
    "    f(1,1) + f(2,1) = 0.15 + 0.25 = 0.40 &\\text{if } y = 1 \\\\\n",
    "    0 &\\text{otherwise}\n",
    "\\end{cases}\n",
    "\\end{align*}\n",
    "$$\n",
    "\n",
    "So the expected values are\n",
    "\n",
    "$$\n",
    "E[X] = (1)(0.70) + (2)(0.30) = 1.3 \\quad \\text{and} \\quad E[Y] = (0)(0.60) + (1)(0.40) = 0.4\n",
    "$$\n",
    "\n",
    "$$\n",
    "E[X^2] = (1)(0.70) + (4)(0.30) = 1.9 \\quad \\text{and} \\quad E[Y^2] = (0)(0.60) + (1)(0.40) = 0.4\n",
    "$$\n",
    "\n",
    "Thus, the covariance can be calculated as\n",
    "\n",
    "$$\n",
    "\\begin{align*}\n",
    "\\textrm{Cov}(X,Y) &= \\sum_{x\\in\\set{1,2}}\\sum_{y\\in\\set{0,1}} (x - E[X])(y - E[Y])f(x,y) \\\\\n",
    "&= (1 - 1.3)(0 - 0.4)(0.55) + (1 - 1.3)(1 - 0.4)(0.15) + (2 - 1.3)(0 - 0.4)(0.05) + (2 - 1.3)(1 - 0.4)(0.25) \\\\\n",
    "&= 0.13\n",
    "\\end{align*}\n",
    "$$\n",
    "\n",
    "Finally, we can calculate the correlation coefficient of $X$ and $Y$:\n",
    "\n",
    "$$\n",
    "\\textrm{Corr}(X,Y) = \\frac{\\textrm{Cov}(X,Y)}{\\sqrt{\\textrm{Var}(X)\\textrm{Var}(Y)}} = \\frac{0.13}{\\sqrt{(1.9 - 1.3^2)(0.4 - 0.4^2)}} \\approx 0.58\n",
    "$$"
   ]
  },
  {
   "cell_type": "markdown",
   "id": "c9ba4ca6-e7ad-4650-b68f-161fa30711fc",
   "metadata": {},
   "source": [
    "---\n",
    "<h3 style=\"color: green; font-size: 16pt;\">Properties of Variance & Covariance</h3>\n",
    "\n",
    "To derive some of the important properties of variance, let's consider $X$ and $Y$ being random variables with joint probability distribution $f(x,y)$, so\n",
    "\n",
    "$$\n",
    "\\textrm{Var}(aX + bY + c) = E[(aX + bY + c - \\mu_{aX + bY + c})^2]\n",
    "$$\n",
    "\n",
    "Now\n",
    "\n",
    "$$\n",
    "\\begin{align*}\n",
    "\\mu_{aX + bY + c} = E[aX + bY + c] &= aE[X] + bE[Y] + c \\\\\n",
    "&= a\\mu_X + b\\mu_Y + c\n",
    "\\end{align*}\n",
    "$$\n",
    "\n",
    "Substitute the value back in:\n",
    "\n",
    "$$\n",
    "\\begin{align*}\n",
    "\\textrm{Var}(aX + bY + c) &= E[(aX + bY + c - a\\mu_X - b\\mu_Y - c)^2] \\\\ \\\\\n",
    "&= E\\set{[a(X - \\mu_X) + b(Y - \\mu_Y)]^2} \\\\ \\\\\n",
    "&= E[a^2(X - \\mu_X)^2 + 2ab(X - \\mu_X)(Y - \\mu_Y) + b^2(Y - \\mu_Y)^2] \\\\ \\\\\n",
    "&= a^2E[(X - \\mu_X)^2] + b^2E[(Y - \\mu_Y)^2] + 2abE[(X - \\mu_X)(Y - \\mu_Y)] \\\\ \\\\\n",
    "&= a^2\\textrm{Var}(X) + b^2\\textrm{Var}(Y) + 2ab\\textrm{Cov}(X,Y)\n",
    "\\end{align*}\n",
    "$$\n",
    "\n",
    "From this result alone, we can derive many of the important properties of variances."
   ]
  },
  {
   "cell_type": "markdown",
   "id": "db3eae72-a901-4f98-a42d-c3eda387e1bf",
   "metadata": {},
   "source": [
    "> If $X$ and $Y$ are two random variables with joint probability distribution $f(x,y)$ and $a,b,c$ are constants, then\n",
    "> $$ \\textrm{Var}(aX+bY+c) = \\sigma^2_{aX+bY+c} = a^2\\sigma_{X}^2 + b^2\\sigma_{Y}^2 + 2ab\\sigma_{XY} $$"
   ]
  },
  {
   "cell_type": "markdown",
   "id": "184b4bb0-5de7-42e7-8292-8c10bc6fe849",
   "metadata": {},
   "source": [
    "> Corollaries from the above properties:\n",
    "> - Setting $b = 0$, we have\n",
    "> $$\\sigma_{aX + c}^2 = a^2\\sigma_X^2$$\n",
    "> - Setting $b=c=0$ and $a=-a$, we have\n",
    "> $$ \\sigma_{aX}^2 = \\sigma_{-aX}^2 = a^2\\sigma_X^2 $$\n",
    "> - If $X$ and $Y$ are independent ($\\sigma_{XY} = 0$), then\n",
    "> $$ \\sigma_{aX + bY}^2 = \\sigma_{aX - bY}^2 = a^2\\sigma_X^2 + b^2\\sigma_Y^2 $$\n",
    "> - For random variables $X$ and $Y$,\n",
    "> $$ \\sigma_{XY} = \\textrm{Cov}(aX,bY) = ab\\textrm{Cov}(X,Y) $$"
   ]
  },
  {
   "cell_type": "markdown",
   "id": "eae494ce-2c4e-4d44-a08c-e51fe4de08e8",
   "metadata": {},
   "source": [
    "<div style=\"widht:100%; height:20px; background-color:lightseagreen;\"></div>\n",
    "\n",
    "## Chebyshev's Theorem (OPTIONAL)\n",
    "\n",
    "The Russian mathematician P. L. Chebyshev (1821–1894) discovered that **the fraction of the area between any two values symmetric about the mean is related to the standard deviation**. Since the area under a probability distribution curve or in a probability histogram adds to 1, the area between any two numbers is the probability of the random variable assuming a value between these numbers.\n",
    "\n",
    "The following theorem, due to Chebyshev, gives a **conservative estimate** of the probability that a random variable assumes a value within $k$ standard deviations of its mean for any real number $k$."
   ]
  },
  {
   "cell_type": "markdown",
   "id": "0d5cbc7b-487e-4d4f-85a9-5c56584eb9e6",
   "metadata": {},
   "source": [
    "> **(Chebyshev's Theorem)** The probability that any random variable $X$ will assume a value within $k$ standard deviations from the mean is **at least** $1 - 1/k^2$. That is\n",
    "> $$ P(\\mu_X - k\\sigma_X < X < \\mu_X + k\\sigma_X) \\ge 1 - \\frac{1}{k^2}. $$"
   ]
  },
  {
   "cell_type": "markdown",
   "id": "c743bdb4-e801-4b4c-8e69-c62e19e5d6c8",
   "metadata": {},
   "source": [
    "Chebyshev’s theorem holds for any distribution of observations, and for this\n",
    "reason the results are usually weak. The value given by the theorem is a lower\n",
    "bound only. That is, we know that the probability of a random variable falling\n",
    "within two standard deviations of the mean can be no less than 3/4, but we never\n",
    "know how much more it might actually be. Only when the probability distribution\n",
    "is known can we determine exact probabilities. For this reason we call the theorem\n",
    "a **distribution-free result**. When specific distributions are assumed, as in future\n",
    "chapters, the results will be less conservative. **The use of Chebyshev’s theorem is\n",
    "relegated to situations where the form of the distribution is unknown**."
   ]
  },
  {
   "cell_type": "markdown",
   "id": "3235fd1f-7ea4-4d84-a998-e9e838992789",
   "metadata": {},
   "source": [
    "<div style=\"widht:100%; height:20px; background-color:lightseagreen;\"></div>\n",
    "\n",
    "## Moments of a Random Variable\n",
    "\n",
    "In statistics, **moments** are numerical measures used to *describe the shape and characteristics of a distribution* or a set of data. They give insight into the properties of the distribution, such as its center, spread, and shape."
   ]
  },
  {
   "cell_type": "markdown",
   "id": "4b251e0c-e073-49ea-92a1-9d5c04f699db",
   "metadata": {},
   "source": [
    "> The **k-th moment** about the **origin** of the random variable $X$ with probability distribution $f(x)$ is given by\n",
    "> $$ \\mu_k' = E[X^k] = \\begin{cases}\n",
    "    \\sum_{\\forall x} x^kf(x)          &\\text{if } X \\text{ is discrete} \\\\\\\\\n",
    "    \\int_{-\\infty}^\\infty x^kf(x)\\ dx &\\text{if } X \\text{ is continuous}\n",
    "\\end{cases}\n",
    "$$"
   ]
  },
  {
   "cell_type": "markdown",
   "id": "f2f48b0d-79dc-4e87-bccf-ae4b3cfd4444",
   "metadata": {},
   "source": [
    "We can see that the first moment about the origin $\\mu_k' = E[X]$ which is simply just the expected value of $X$. We can write the formula for variance of $X$ in terms of first and second moment about the origin as\n",
    "\n",
    "$$\n",
    "\\sigma_X^2 = \\mu'_{2} - (\\mu'_{1})^2 = \\mu'_2 - \\mu^2\n",
    "$$"
   ]
  },
  {
   "cell_type": "markdown",
   "id": "91797860-248c-4cd9-8e4e-bb5e9f030717",
   "metadata": {},
   "source": [
    "Most of the time, we will also interest in the moments of a random variable about other values, especially the **central moment** which is the *moment about the mean*."
   ]
  },
  {
   "cell_type": "markdown",
   "id": "438d25b7-93f8-4195-bd1b-2da788e4a99c",
   "metadata": {},
   "source": [
    "> The **k-th moment** about the **mean** of the random variable $X$ with probability distribution $f(x)$ is given by\n",
    "> $$ E[(X - \\mu)^k] = \\begin{cases}\n",
    "    \\sum_{\\forall x} (x - \\mu)^k f(x)          &\\text{if } X \\text{ is discrete} \\\\\\\\\n",
    "    \\int_{-\\infty}^\\infty (x - \\mu)^k f(x)\\ dx &\\text{if } X \\text{ is continuous}\n",
    "\\end{cases}\n",
    "$$"
   ]
  },
  {
   "cell_type": "markdown",
   "id": "a555577f-5a9d-47cc-9815-778bf2eb2601",
   "metadata": {},
   "source": [
    "Notice that the first moment about the mean is $E[X-\\mu] = E[X] - \\mu = 0$, so the *first moment about the mean is always zero* for any random distribution and the second moment about the mean is $E[(X - \\mu)^2]$ which is the *variance* of the random variable $\\sigma^2$."
   ]
  },
  {
   "cell_type": "markdown",
   "id": "807c70e2-b7ec-4ba3-a043-9bd52fe80820",
   "metadata": {},
   "source": [
    "---\n",
    "<h3 style=\"color: green; font-size: 16pt;\">Moment-Generating Function (OPTIONAL)</h3>\n",
    "\n",
    "Although the moments of a random variable can be determined directly from the definition given in the previous section, an alternative procedure exists. This procedure requires us to utilize a *moment-generating function*."
   ]
  },
  {
   "cell_type": "markdown",
   "id": "085cbb4b-0532-4a07-9269-13a81fa563b4",
   "metadata": {},
   "source": [
    "> The **moment-generating function** of the random variable $X$ with probability distribution $f(x)$ is given by $E[e^{tX}]$ and is denoted by $M_X(t)$. Hence\n",
    "> $$ M_X(t) = E[e^{tX}] = \\begin{cases}\n",
    "    \\sum_{\\forall x} e^{tx}f(x)            &\\text{if } X \\text{ is discrete} \\\\\\\\\n",
    "    \\int_{-\\infty}^{\\infty} e^{tx}f(x)\\ dx &\\text{if } X \\text{ is continuous}\n",
    "\\end{cases}\n",
    "$$"
   ]
  },
  {
   "cell_type": "markdown",
   "id": "2c877ed6-3233-4908-ad37-37451468eaba",
   "metadata": {},
   "source": [
    "Moment-generating functions will exist only if the sum or integral of the definition converges. If a moment-generating function of a random variable $X$ does exist, it can be used to generate all the moments of that variable."
   ]
  },
  {
   "cell_type": "markdown",
   "id": "1bc7cb86-6425-4e9d-a5eb-1cd139b987d3",
   "metadata": {},
   "source": [
    "> Let $X$ be a random variable with moment-generating function $M_X(t)$. Then\n",
    "> $$ \\left. \\frac{d^k M_X(t)}{dr^k} \\right|_{t=0} = \\mu'_k. $$"
   ]
  },
  {
   "cell_type": "markdown",
   "id": "d26f0f40-90ca-4a7b-8901-fcb518387400",
   "metadata": {},
   "source": [
    "---\n",
    "<h4 style=\"color: green;\">Properties of Moment-Generating Functions</h4>"
   ]
  },
  {
   "cell_type": "markdown",
   "id": "c075ceac-25e4-450d-b4d8-9c1351e7bb7c",
   "metadata": {},
   "source": [
    "> Theorem: $ M_{X+a}(t) = e^{at}M_X(t) $.\n",
    "> \n",
    "> Proof: $ M_{X+a}(t) = E[e^{t(X+a)}] = E[e^{tX}e^{ta}] = e^{ta}E[e^{tX}] = e^{ta}M_X{t}. $"
   ]
  },
  {
   "cell_type": "markdown",
   "id": "b7f27627-988d-4539-876c-f6df7a7ff540",
   "metadata": {},
   "source": [
    "> Theorem: $ M_{aX}(t) = M_X(at) $.\n",
    "> \n",
    "> Proof: $ M_{aX}(t) = E[e^{t(aX)}] = E[e^{(at)X}] = M_X(at). $"
   ]
  },
  {
   "cell_type": "markdown",
   "id": "d3653642-9497-4ecb-bf09-84dc441123a8",
   "metadata": {},
   "source": [
    "> Theorem: If $X_1, X_2, \\ldots, X_n$ are independent random variables with moment-generating function $M_{X_1}(t), M_{X_2}(t), \\ldots, M_{X_n}(t)$, respectively, and $Y = X_1 + X_2 + \\cdots + X_n$, then\n",
    "> $$ M_Y(t) = M_{X_1}(t)M_{X_2}(t) \\cdots M_{X_n}(t). $$\n",
    "> \n",
    "> Proof:\n",
    "> $$\n",
    "\\begin{align*}\n",
    "M_Y(t) = E[e^{tY}] &= E[\\textrm{exp}(tX_1 + tX_2 + \\cdots + tX_n)] \\\\\\\\\n",
    "&= E[e^{tX_1}e^{tX_2} \\cdots e^{tX_n}].\n",
    "\\end{align*}\n",
    "$$\n",
    "> Since $X_1, X_2, \\ldots, X_n$ are independent, then\n",
    "> $$ M_Y{t} = E[e^{tX_1}]E[e^{tX_2}] \\cdots E[e^{tX_n}] = M_{X_1}(t)M_{X_2}(t) \\cdots M_{X_n}(t). $$"
   ]
  },
  {
   "cell_type": "markdown",
   "id": "dc6a3fca-68ef-4bbc-9310-05e1d304ab93",
   "metadata": {},
   "source": [
    "---\n",
    "<h4 style=\"color: green;\">Uniqueness Theorem</h4>"
   ]
  },
  {
   "cell_type": "markdown",
   "id": "39fd5d07-7164-42d9-ae7b-f582356f63eb",
   "metadata": {},
   "source": [
    "> Let $X$ and $Y$ be two random variables with moment-generating functions $M_X(t)$ and $M_Y(t)$, respectively. If $M_X(t) = M_Y(t)$ for all\n",
    "values of $t$, then $X$ and $Y$ have the **same probability distribution**."
   ]
  },
  {
   "cell_type": "markdown",
   "id": "92501458-0011-42c8-9824-d27945b1f455",
   "metadata": {},
   "source": [
    "We will come back and discuss about moment-generating function again in the future chapter to show that how the concept and properties of moment-generating functions can be used to proof one of the most important theorem in statistics, the *central limit theorem*."
   ]
  },
  {
   "cell_type": "markdown",
   "id": "8431f89d-20a2-497c-aba9-43eaf0d4db4b",
   "metadata": {},
   "source": [
    "<div style=\"widht:100%; height:20px; background-color:lightseagreen;\"></div>"
   ]
  }
 ],
 "metadata": {
  "kernelspec": {
   "display_name": "Python 3 (ipykernel)",
   "language": "python",
   "name": "python3"
  },
  "language_info": {
   "codemirror_mode": {
    "name": "ipython",
    "version": 3
   },
   "file_extension": ".py",
   "mimetype": "text/x-python",
   "name": "python",
   "nbconvert_exporter": "python",
   "pygments_lexer": "ipython3",
   "version": "3.12.9"
  }
 },
 "nbformat": 4,
 "nbformat_minor": 5
}
